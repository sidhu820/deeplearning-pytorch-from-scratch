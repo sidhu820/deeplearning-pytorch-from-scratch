{
 "cells": [
  {
   "cell_type": "code",
   "execution_count": 1,
   "metadata": {
    "id": "MY2GzypcWP-M"
   },
   "outputs": [],
   "source": [
    "import torch\n",
    "import torch.nn as nn\n",
    "import torch.nn.functional as F\n",
    "import matplotlib.pyplot as plt\n",
    "from sklearn.model_selection import train_test_split\n",
    "from sklearn import datasets"
   ]
  },
  {
   "cell_type": "code",
   "execution_count": 2,
   "metadata": {
    "id": "vUN6bmY8WXmY"
   },
   "outputs": [],
   "source": [
    "digits=datasets.load_digits()"
   ]
  },
  {
   "cell_type": "code",
   "execution_count": 3,
   "metadata": {
    "colab": {
     "base_uri": "https://localhost:8080/",
     "height": 454
    },
    "id": "XZCIDOtSWepS",
    "outputId": "25816c03-35ae-497f-a3de-6ef5d73b0fb4"
   },
   "outputs": [
    {
     "data": {
      "text/plain": [
       "<matplotlib.image.AxesImage at 0x7fca24b75cd0>"
      ]
     },
     "execution_count": 3,
     "metadata": {},
     "output_type": "execute_result"
    },
    {
     "data": {
      "image/png": "[encoded data removed]",
      "text/plain": [
       "<Figure size 480x480 with 1 Axes>"
      ]
     },
     "metadata": {},
     "output_type": "display_data"
    }
   ],
   "source": [
    "X=digits.data\n",
    "y=digits.target\n",
    "plt.matshow(X[9].reshape(8,8))"
   ]
  },
  {
   "cell_type": "code",
   "execution_count": 4,
   "metadata": {
    "id": "1Zce62MCWhAj"
   },
   "outputs": [],
   "source": [
    "X=torch.FloatTensor(X)\n",
    "y=torch.LongTensor(y)"
   ]
  },
  {
   "cell_type": "code",
   "execution_count": 5,
   "metadata": {
    "colab": {
     "base_uri": "https://localhost:8080/"
    },
    "id": "juEDTL-GXMfF",
    "outputId": "3c29d168-c183-4d1c-a1df-c61e14dda2af"
   },
   "outputs": [
    {
     "name": "stdout",
     "output_type": "stream",
     "text": [
      "torch.Size([1797, 64])\n",
      "torch.Size([1797])\n",
      "torch.Size([1797, 64])\n"
     ]
    }
   ],
   "source": [
    "print(X.shape)\n",
    "print(y.shape)\n",
    "print(X.shape)"
   ]
  },
  {
   "cell_type": "code",
   "execution_count": 6,
   "metadata": {
    "id": "nsJ4fXfDXi8h"
   },
   "outputs": [],
   "source": [
    "class DigitClassifier(nn.Module):\n",
    "  def __init__(self):\n",
    "    super().__init__()\n",
    "\n",
    "    self.input_layer = nn.Linear(64,128)\n",
    "    self.h1 = nn.Linear(128,64)\n",
    "    # self.h2 = nn.Linear(64,32)\n",
    "    self.output = nn.Linear(64,10)\n",
    "\n",
    "\n",
    "  def forward(self,x):\n",
    "\n",
    "    x=F.relu(self.input_layer(x))\n",
    "    x=F.relu(self.h1(x))\n",
    "    # x=F.relu(self.h2(x))\n",
    "    x=F.log_softmax(self.output(x), dim=1)\n",
    "\n",
    "    return x\n"
   ]
  },
  {
   "cell_type": "code",
   "execution_count": 7,
   "metadata": {
    "colab": {
     "base_uri": "https://localhost:8080/"
    },
    "id": "0_8oFktRkzgU",
    "outputId": "2dffe092-4d30-4d6b-abc9-c0f6aafdfa85"
   },
   "outputs": [
    {
     "data": {
      "text/plain": [
       "DigitClassifier(\n",
       "  (input_layer): Linear(in_features=64, out_features=128, bias=True)\n",
       "  (h1): Linear(in_features=128, out_features=64, bias=True)\n",
       "  (output): Linear(in_features=64, out_features=10, bias=True)\n",
       ")"
      ]
     },
     "execution_count": 7,
     "metadata": {},
     "output_type": "execute_result"
    }
   ],
   "source": [
    "torch.manual_seed(40)\n",
    "model1 = DigitClassifier()\n",
    "model1"
   ]
  },
  {
   "cell_type": "code",
   "execution_count": 8,
   "metadata": {
    "id": "a3PTokx5k3TC"
   },
   "outputs": [],
   "source": [
    "\n",
    "loss_function=nn.NLLLoss()\n",
    "optimizer1=torch.optim.Adam(model1.parameters(),lr=0.001,weight_decay=1e-5)"
   ]
  },
  {
   "cell_type": "code",
   "execution_count": 9,
   "metadata": {
    "colab": {
     "base_uri": "https://localhost:8080/"
    },
    "id": "9wcCAcvemDSy",
    "outputId": "eb6c5b40-d817-4d3d-dc4d-71ef85a0c5ea"
   },
   "outputs": [
    {
     "data": {
      "text/plain": [
       "<function print>"
      ]
     },
     "execution_count": 9,
     "metadata": {},
     "output_type": "execute_result"
    }
   ],
   "source": [
    "X_train,X_test,y_train,y_test=train_test_split(X,y,test_size=0.2,random_state=37)\n",
    "X_train,X_val,y_train,y_val=train_test_split(X_train,y_train, test_size=0.2,random_state=37)\n",
    "print"
   ]
  },
  {
   "cell_type": "code",
   "execution_count": 10,
   "metadata": {
    "id": "6fUHF1eIlOhn"
   },
   "outputs": [],
   "source": [
    "def trainingFunction(model,X_train,y_train,X_val,y_val,optimizer):\n",
    "\n",
    "  epochs=100\n",
    "  batch_size=50\n",
    "  calculate_loss=[]\n",
    "  calculate_val_loss=[]\n",
    "  calculate_test_loss=[]\n",
    "  calculate_accuracy=[]\n",
    "\n",
    "\n",
    "  for epoch in range(epochs):\n",
    "    l=0\n",
    "    loss_val=0\n",
    "    correct_predictions=0\n",
    "    for i in range(0, len(X_train), batch_size):\n",
    "      Xbatch = X_train[i:i+batch_size]\n",
    "      y_pred = model(Xbatch)\n",
    "      ybatch = y_train[i:i+batch_size]\n",
    "      loss=loss_function(y_pred,ybatch)\n",
    "\n",
    "      l2_reg = torch.tensor(0.)\n",
    "      for param in model.parameters():\n",
    "          l2_reg += torch.norm(param, p=2)\n",
    "      loss += 0.01 * l2_reg\n",
    "\n",
    "      optimizer.zero_grad()\n",
    "      loss.backward()\n",
    "\n",
    "      # for param in model.parameters():\n",
    "      #   print(param.grad)\n",
    "\n",
    "      optimizer.step()\n",
    "      l+=loss.item()\n",
    "      correct_predictions += (y_pred.argmax(dim=1) == ybatch).sum().item()\n",
    "\n",
    "    model.eval()\n",
    "    with torch.no_grad():\n",
    "\n",
    "      y_val_pred = model(X_val)\n",
    "      val_loss=loss_function(y_val_pred,y_val)\n",
    "      loss_val+=val_loss.item()\n",
    "\n",
    "\n",
    "    loss_val/=len(X_val)\n",
    "    calculate_val_loss.append(loss_val)\n",
    "    l/=len(X_train)/batch_size\n",
    "    calculate_loss.append(l)\n",
    "    calculate_accuracy.append(correct_predictions / len(X_train))\n",
    "  print(calculate_accuracy)\n",
    "    # print(f' epoch : {epoch} , loss :{l } validation loss :{loss_val}')\n",
    "  print(correct_predictions / len(X_train))\n",
    "  print(calculate_loss)\n",
    "  plt.plot(range(epochs), calculate_loss, label='training loss')\n",
    "  plt.plot(range(epochs), calculate_val_loss, label='validation loss')\n",
    "  plt.ylabel('loss')\n",
    "  plt.xlabel('epochs')\n",
    "  plt.legend()\n",
    "  plt.show()"
   ]
  },
  {
   "cell_type": "code",
   "execution_count": 11,
   "metadata": {
    "id": "ua6fvTttpTkv"
   },
   "outputs": [],
   "source": [
    "def test_validation(X_test,y_test,model):\n",
    "  correct=0\n",
    "  j=0\n",
    "  with torch.no_grad():\n",
    "    for i , data in enumerate(X_test):\n",
    "\n",
    "      data = data.unsqueeze(0)\n",
    "\n",
    "      y_valed = torch.log_softmax(model(data), dim=1)\n",
    "\n",
    "      while 10<i and i<20:\n",
    "\n",
    "        print(f' {i+1}.)  {str(y_valed)} \\t {y_test[i]} \\t { y_valed.argmax().item()}')\n",
    "        break;\n",
    "\n",
    "\n",
    "      if y_valed.argmax().item() == y_test[i]:\n",
    "        correct+=1\n",
    "\n",
    "    accuracy=correct/len(X_test)*100\n",
    "    print(f'accuracy : {accuracy}')\n",
    "\n",
    "  print(f'we got {correct} correct predictions out of {len(X_test)}.')"
   ]
  },
  {
   "cell_type": "code",
   "execution_count": 12,
   "metadata": {
    "id": "IiEQa0W_pbtl"
   },
   "outputs": [],
   "source": [
    "def validationCheck(X_val,y_val,model):\n",
    "  correct=0\n",
    "  j=0\n",
    "  with torch.no_grad():\n",
    "    for i , data in enumerate(X_val):\n",
    "\n",
    "      data = data.unsqueeze(0)\n",
    "\n",
    "      y_valedd = torch.log_softmax(model(data), dim=1)\n",
    "\n",
    "      while 10<i and i<20:\n",
    "\n",
    "        print(f' {i+1}.)  {str(y_valedd)} \\t {y_val[i]} \\t { y_valedd.argmax().item()}')\n",
    "        break;\n",
    "\n",
    "\n",
    "      if y_valedd.argmax().item() == y_val[i]:\n",
    "        correct+=1\n",
    "\n",
    "\n",
    "    accuracy=correct/len(X_val)*100\n",
    "    print(accuracy)\n",
    "\n",
    "\n",
    "  print(f'we got {correct} correct predictions out of {len(X_val)}.')"
   ]
  },
  {
   "cell_type": "code",
   "execution_count": 13,
   "metadata": {
    "colab": {
     "base_uri": "https://localhost:8080/",
     "height": 521
    },
    "id": "X5IZp4U7yBx9",
    "outputId": "182ba32e-ab6d-4221-8a3c-03541b6c6cac"
   },
   "outputs": [
    {
     "name": "stdout",
     "output_type": "stream",
     "text": [
      "[0.5683202785030461, 0.8825065274151436, 0.9425587467362925, 0.9643167972149695, 0.9738903394255874, 0.9834638816362054, 0.9904264577893821, 0.9912967798085291, 0.9930374238468234, 0.9956483899042646, 0.9965187119234117, 0.9982593559617058, 0.9982593559617058, 0.9982593559617058, 0.999129677980853, 0.9982593559617058, 0.999129677980853, 0.9982593559617058, 0.9982593559617058, 0.9982593559617058, 0.999129677980853, 0.999129677980853, 1.0, 1.0, 1.0, 1.0, 1.0, 1.0, 1.0, 1.0, 1.0, 1.0, 1.0, 1.0, 1.0, 1.0, 1.0, 1.0, 1.0, 1.0, 1.0, 1.0, 1.0, 1.0, 1.0, 1.0, 1.0, 1.0, 1.0, 1.0, 1.0, 1.0, 1.0, 1.0, 1.0, 1.0, 1.0, 1.0, 1.0, 1.0, 1.0, 1.0, 1.0, 1.0, 1.0, 1.0, 1.0, 1.0, 1.0, 1.0, 1.0, 1.0, 1.0, 1.0, 1.0, 1.0, 1.0, 1.0, 1.0, 1.0, 1.0, 1.0, 1.0, 1.0, 1.0, 1.0, 1.0, 1.0, 1.0, 1.0, 1.0, 1.0, 1.0, 1.0, 1.0, 1.0, 1.0, 1.0, 1.0, 1.0]\n",
      "1.0\n",
      "[1.7078086487410689, 0.6579612990479764, 0.3799998476206478, 0.2947275752965215, 0.25296897162967813, 0.22475593006019493, 0.20415950096410912, 0.18793306952979483, 0.17687837788600108, 0.16920378640799857, 0.16292112225340802, 0.1582591085199484, 0.15475093812606353, 0.15225324283691985, 0.1506603696586984, 0.14917032097711885, 0.14822117472026947, 0.14706295959528265, 0.14625512731396914, 0.14465614323308926, 0.14273940258901777, 0.1408942335579476, 0.13707716494565222, 0.13521162645520077, 0.13341692748849968, 0.13254120608741454, 0.1318263880474034, 0.13098995305850675, 0.1302288973248451, 0.12957392968853418, 0.12896221497455196, 0.12839706638930048, 0.12779935344962892, 0.1272223309473539, 0.1266365110536987, 0.12607026660411227, 0.1255259293903985, 0.12497403816983843, 0.12441276498884611, 0.12387973041613273, 0.12331542804564882, 0.1227966721313118, 0.1222679872970357, 0.12176677396600406, 0.12123214260871977, 0.12072316387926006, 0.12021344852146633, 0.11973855214548484, 0.11926033899667887, 0.11875732008325628, 0.11828999716733413, 0.11785689375004216, 0.11736912421032696, 0.1169296709400763, 0.11649173955952634, 0.11603141947608081, 0.1155863847547868, 0.1151619665486798, 0.11475832502254722, 0.11433663545379025, 0.11390642148707616, 0.11350998348573481, 0.11308331746086024, 0.11268950726438129, 0.11229872431207263, 0.11189873123604697, 0.11151668180373568, 0.111116290585283, 0.11077391727786151, 0.11035384102890655, 0.11000240544218721, 0.10963455588273943, 0.10929659942734024, 0.10893661577458792, 0.10857586793478309, 0.10821964977563621, 0.10796186163230395, 0.1075549743375745, 0.10722292452609673, 0.10688952239209201, 0.10662944460558414, 0.10621643311516735, 0.10593709048755902, 0.10564505139623546, 0.10540682864614524, 0.10504325846934755, 0.10472354394026276, 0.10442865981653111, 0.10420044801409499, 0.10393629315835273, 0.10369675958592338, 0.10327316976247194, 0.10312827542307483, 0.10293317331346456, 0.10274328823137324, 0.10245881546726426, 0.10200862856249482, 0.10176369023904061, 0.1018636175038194, 0.10172851558764982]\n"
     ]
    },
    {
     "data": {
      "image/png": "[encoded data removed]",
      "text/plain": [
       "<Figure size 640x480 with 1 Axes>"
      ]
     },
     "metadata": {},
     "output_type": "display_data"
    }
   ],
   "source": [
    "trainingFunction(model1,X_train,y_train,X_val,y_val,optimizer1)"
   ]
  },
  {
   "cell_type": "code",
   "execution_count": 14,
   "metadata": {
    "colab": {
     "base_uri": "https://localhost:8080/"
    },
    "id": "kGBg6l43zoQ-",
    "outputId": "5882582b-e1ce-474d-ec1a-ce8d1cda5b11"
   },
   "outputs": [
    {
     "name": "stdout",
     "output_type": "stream",
     "text": [
      " 12.)  tensor([[ -8.3324,  -0.5227,  -1.1624, -14.7714, -12.0303,  -5.7039,  -3.7290,\n",
      "         -14.0561,  -2.7068, -12.4974]]) \t 2 \t 1\n",
      " 13.)  tensor([[-3.0279e-05, -2.2658e+01, -1.7135e+01, -2.0907e+01, -1.2220e+01,\n",
      "         -1.3227e+01, -1.3243e+01, -1.3075e+01, -1.1281e+01, -1.1863e+01]]) \t 0 \t 0\n",
      " 14.)  tensor([[ -7.4634,  -9.6886,  -7.8392, -11.2388,  -8.2617,  -0.0439,  -9.2509,\n",
      "          -3.1959,  -7.4075, -10.1497]]) \t 5 \t 5\n",
      " 15.)  tensor([[ -6.0068, -10.9379, -17.2171, -16.7710,  -0.0299, -13.0542,  -3.6175,\n",
      "          -9.3336, -13.1662, -21.9227]]) \t 4 \t 4\n",
      " 16.)  tensor([[-10.2953,  -3.3715,  -7.5259,  -8.1783,  -9.4720,  -7.7880, -10.5689,\n",
      "          -4.3579,  -0.0508,  -6.8920]]) \t 8 \t 8\n",
      " 17.)  tensor([[-1.6468e+01, -1.2800e+01, -1.7330e+01, -1.4649e+01, -1.1302e+01,\n",
      "         -1.0509e+01, -1.9974e+01, -4.6252e-05, -1.5020e+01, -1.2723e+01]]) \t 7 \t 7\n",
      " 18.)  tensor([[-1.1399e-03, -1.7253e+01, -1.1404e+01, -1.5459e+01, -1.2053e+01,\n",
      "         -7.3982e+00, -8.3353e+00, -8.7047e+00, -9.1850e+00, -1.3514e+01]]) \t 0 \t 0\n",
      " 19.)  tensor([[ -7.9334,  -8.7440,  -6.6900,  -0.2501, -12.5580,  -5.9135,  -6.2030,\n",
      "          -8.9822,  -1.7872,  -3.0517]]) \t 3 \t 3\n",
      " 20.)  tensor([[-1.0398e+01, -1.0736e+01, -1.4300e+01, -1.6012e+01, -9.8747e+00,\n",
      "         -1.1403e+01, -3.1085e-04, -1.4960e+01, -8.5431e+00, -1.8969e+01]]) \t 6 \t 6\n",
      "accuracy : 98.33333333333333\n",
      "we got 354 correct predictions out of 360.\n"
     ]
    }
   ],
   "source": [
    "test_validation(X_test,y_test,model1)"
   ]
  },
  {
   "cell_type": "code",
   "execution_count": 15,
   "metadata": {
    "colab": {
     "base_uri": "https://localhost:8080/"
    },
    "id": "PAw6-lU1zvH6",
    "outputId": "51e43c46-84ee-467e-872a-6262f61803e1"
   },
   "outputs": [
    {
     "name": "stdout",
     "output_type": "stream",
     "text": [
      " 12.)  tensor([[-1.4544e+01, -1.0353e+01, -1.4812e+01, -1.1130e+01, -1.0497e+01,\n",
      "         -1.0655e+01, -1.8625e+01, -1.9806e-03, -1.2551e+01, -6.2784e+00]]) \t 7 \t 7\n",
      " 13.)  tensor([[-2.0156e+01, -1.4006e-04, -1.7718e+01, -2.2334e+01, -8.9170e+00,\n",
      "         -1.6829e+01, -1.2832e+01, -1.4164e+01, -1.2830e+01, -2.1926e+01]]) \t 1 \t 1\n",
      " 14.)  tensor([[-1.2151e+01, -1.7121e+01, -1.4876e+01, -8.7664e+00, -1.5956e+01,\n",
      "         -1.3696e+01, -1.2202e+01, -1.5064e+01, -8.3983e-04, -7.3061e+00]]) \t 8 \t 8\n",
      " 15.)  tensor([[-1.7363e+01, -1.4251e+01, -6.5961e-04, -7.3392e+00, -2.4938e+01,\n",
      "         -1.2634e+01, -1.7058e+01, -1.3448e+01, -1.2312e+01, -1.7277e+01]]) \t 2 \t 2\n",
      " 16.)  tensor([[-1.0022e+01, -4.9867e+00, -1.1254e+01, -1.3830e+01, -6.4014e+00,\n",
      "         -9.0341e-03, -9.1653e+00, -1.1473e+01, -9.1270e+00, -8.4037e+00]]) \t 5 \t 5\n",
      " 17.)  tensor([[-1.6987e+01, -1.0619e+01, -1.1305e+01, -7.2663e+00, -1.8622e+01,\n",
      "         -7.5776e-04, -1.7063e+01, -1.0898e+01, -1.5687e+01, -1.2623e+01]]) \t 5 \t 5\n",
      " 18.)  tensor([[-1.2928e+01, -8.2807e+00, -2.0350e-03, -9.7924e+00, -1.7774e+01,\n",
      "         -1.1325e+01, -9.8098e+00, -1.0246e+01, -6.4261e+00, -1.7752e+01]]) \t 2 \t 2\n",
      " 19.)  tensor([[-1.3079e+01, -1.2184e+01, -8.1658e+00, -5.6587e-03, -2.1116e+01,\n",
      "         -6.6960e+00, -1.7401e+01, -1.0006e+01, -1.4219e+01, -5.5042e+00]]) \t 3 \t 3\n",
      " 20.)  tensor([[-1.0838e+01, -5.9512e+00, -1.8895e+01, -1.8732e+01, -2.9947e-03,\n",
      "         -1.0389e+01, -8.2823e+00, -9.7322e+00, -1.0676e+01, -1.3271e+01]]) \t 4 \t 4\n",
      "98.26388888888889\n",
      "we got 283 correct predictions out of 288.\n"
     ]
    }
   ],
   "source": [
    "validationCheck(X_val,y_val,model1)"
   ]
  },
  {
   "cell_type": "code",
   "execution_count": null,
   "metadata": {
    "id": "ppuM46L4vwbr"
   },
   "outputs": [],
   "source": []
  }
 ],
 "metadata": {
  "colab": {
   "provenance": []
  },
  "kernelspec": {
   "display_name": "Python 3 (ipykernel)",
   "language": "python",
   "name": "python3"
  },
  "language_info": {
   "codemirror_mode": {
    "name": "ipython",
    "version": 3
   },
   "file_extension": ".py",
   "mimetype": "text/x-python",
   "name": "python",
   "nbconvert_exporter": "python",
   "pygments_lexer": "ipython3",
   "version": "3.8.10"
  }
 },
 "nbformat": 4,
 "nbformat_minor": 4
}
