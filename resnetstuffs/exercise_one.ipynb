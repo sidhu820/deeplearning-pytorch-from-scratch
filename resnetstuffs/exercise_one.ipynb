{
 "cells": [
  {
   "cell_type": "markdown",
   "id": "8bfcf8c7-05af-440e-a775-c1acab480458",
   "metadata": {},
   "source": [
    "## pytorch from scratch\n"
   ]
  },
  {
   "cell_type": "code",
   "execution_count": 1,
   "id": "f61586ca-bd9e-42ab-aabe-48eb99cc776a",
   "metadata": {},
   "outputs": [],
   "source": [
    "import torch"
   ]
  },
  {
   "cell_type": "code",
   "execution_count": 2,
   "id": "bb14b71e-ef84-491c-980b-a5d536b639fd",
   "metadata": {},
   "outputs": [
    {
     "name": "stdout",
     "output_type": "stream",
     "text": [
      "2.3.0+cpu\n"
     ]
    }
   ],
   "source": [
    "# version\n",
    "print(torch.__version__)"
   ]
  },
  {
   "cell_type": "markdown",
   "id": "bd831b12-5449-4a38-a3ee-39112ee9acbd",
   "metadata": {},
   "source": [
    " ### Introduction to tensor"
   ]
  },
  {
   "cell_type": "code",
   "execution_count": 3,
   "id": "e87dc5e0-140b-4dc0-934f-82c35718240f",
   "metadata": {},
   "outputs": [
    {
     "data": {
      "text/plain": [
       "tensor(7)"
      ]
     },
     "execution_count": 3,
     "metadata": {},
     "output_type": "execute_result"
    }
   ],
   "source": [
    "## What is a Tensor ?? How differ from numPy array ??\n",
    "## Tensor is a fundamental data structure, representing multidimensional array..\n",
    "## Similar to numPy, but addictionaly have featurs like GPU acceleration (works in gpu).\n",
    "## Tensor are the basic building blocks of a neural network\n",
    "# creating tensor\n",
    "# scalar (single number) # dim = 0\n",
    "scalar = torch.tensor(7)\n",
    "scalar"
   ]
  },
  {
   "cell_type": "code",
   "execution_count": 4,
   "id": "d1741d4f-efc0-4072-80ac-57699e6694bb",
   "metadata": {},
   "outputs": [
    {
     "data": {
      "text/plain": [
       "0"
      ]
     },
     "execution_count": 4,
     "metadata": {},
     "output_type": "execute_result"
    }
   ],
   "source": [
    "# Print the diamension of the scalar tensor\n",
    "scalar.ndim"
   ]
  },
  {
   "cell_type": "code",
   "execution_count": 5,
   "id": "ba28cf05-3235-405e-8f5b-d48ea9c49c05",
   "metadata": {},
   "outputs": [
    {
     "data": {
      "text/plain": [
       "7"
      ]
     },
     "execution_count": 5,
     "metadata": {},
     "output_type": "execute_result"
    }
   ],
   "source": [
    "# get python integer from tensor\n",
    "scalar.item()"
   ]
  },
  {
   "cell_type": "code",
   "execution_count": 6,
   "id": "9b0f8334-95a6-41f4-9cba-313d8e1bea53",
   "metadata": {},
   "outputs": [
    {
     "data": {
      "text/plain": [
       "int"
      ]
     },
     "execution_count": 6,
     "metadata": {},
     "output_type": "execute_result"
    }
   ],
   "source": [
    "a = scalar.item()\n",
    "type(a)"
   ]
  },
  {
   "cell_type": "code",
   "execution_count": 7,
   "id": "3e075411-ba94-4219-a97e-329987fa0314",
   "metadata": {},
   "outputs": [
    {
     "data": {
      "text/plain": [
       "tensor([2, 3])"
      ]
     },
     "execution_count": 7,
     "metadata": {},
     "output_type": "execute_result"
    }
   ],
   "source": [
    "# vector (Number with direction) # dim = 1\n",
    "vector = torch.tensor([2,3])\n",
    "vector"
   ]
  },
  {
   "cell_type": "code",
   "execution_count": 8,
   "id": "793d50eb-b20c-435a-b0fa-58f4c5a9ae5b",
   "metadata": {},
   "outputs": [
    {
     "data": {
      "text/plain": [
       "1"
      ]
     },
     "execution_count": 8,
     "metadata": {},
     "output_type": "execute_result"
    }
   ],
   "source": [
    "vector.ndim"
   ]
  },
  {
   "cell_type": "code",
   "execution_count": 9,
   "id": "ea6c9a75-2ad8-471f-bc79-b06602d52c60",
   "metadata": {},
   "outputs": [
    {
     "data": {
      "text/plain": [
       "torch.Size([2])"
      ]
     },
     "execution_count": 9,
     "metadata": {},
     "output_type": "execute_result"
    }
   ],
   "source": [
    "vector.shape"
   ]
  },
  {
   "cell_type": "code",
   "execution_count": 10,
   "id": "a646bb28-2201-48b4-bd51-4811e6e4f105",
   "metadata": {},
   "outputs": [
    {
     "data": {
      "text/plain": [
       "tensor([[2, 3],\n",
       "        [3, 4]])"
      ]
     },
     "execution_count": 10,
     "metadata": {},
     "output_type": "execute_result"
    }
   ],
   "source": [
    "# MATRIX (2 dimensional array of numbers) # dim = 2\n",
    "MATRIX = torch.tensor([[2, 3],\n",
    "                      [3, 4]])\n",
    "MATRIX"
   ]
  },
  {
   "cell_type": "code",
   "execution_count": 11,
   "id": "957a97ea-d7a9-42b0-a703-8feb5a32db08",
   "metadata": {},
   "outputs": [
    {
     "data": {
      "text/plain": [
       "2"
      ]
     },
     "execution_count": 11,
     "metadata": {},
     "output_type": "execute_result"
    }
   ],
   "source": [
    "MATRIX.ndim"
   ]
  },
  {
   "cell_type": "code",
   "execution_count": 12,
   "id": "40d2bf31-8c9c-4e70-b07b-711d142bf386",
   "metadata": {},
   "outputs": [
    {
     "data": {
      "text/plain": [
       "torch.Size([2, 2])"
      ]
     },
     "execution_count": 12,
     "metadata": {},
     "output_type": "execute_result"
    }
   ],
   "source": [
    "MATRIX.shape"
   ]
  },
  {
   "cell_type": "code",
   "execution_count": 13,
   "id": "a8741bc9-b808-4ed5-94fe-9d5f1aef86cd",
   "metadata": {},
   "outputs": [
    {
     "data": {
      "text/plain": [
       "tensor([2, 3])"
      ]
     },
     "execution_count": 13,
     "metadata": {},
     "output_type": "execute_result"
    }
   ],
   "source": [
    "MATRIX[0]"
   ]
  },
  {
   "cell_type": "code",
   "execution_count": 14,
   "id": "19c2616d-431c-4119-afda-0c7b4cafcb30",
   "metadata": {},
   "outputs": [
    {
     "data": {
      "text/plain": [
       "tensor([[[1, 2, 3],\n",
       "         [4, 5, 6],\n",
       "         [7, 8, 9]]])"
      ]
     },
     "execution_count": 14,
     "metadata": {},
     "output_type": "execute_result"
    }
   ],
   "source": [
    "# TENSOR (n dimensional array of number) # dim = could be any dimension\n",
    "TENSOR = torch.tensor([[[1,2,3],\n",
    "                       [4,5,6],\n",
    "                       [7,8,9,]]])\n",
    "TENSOR"
   ]
  },
  {
   "cell_type": "code",
   "execution_count": 15,
   "id": "d6d25e23-e212-4078-8ca6-8b3a0688628d",
   "metadata": {},
   "outputs": [
    {
     "data": {
      "text/plain": [
       "3"
      ]
     },
     "execution_count": 15,
     "metadata": {},
     "output_type": "execute_result"
    }
   ],
   "source": [
    "TENSOR.ndim"
   ]
  },
  {
   "cell_type": "code",
   "execution_count": 16,
   "id": "669fdb02-3954-440a-b601-6961f481878d",
   "metadata": {},
   "outputs": [
    {
     "data": {
      "text/plain": [
       "torch.Size([1, 3, 3])"
      ]
     },
     "execution_count": 16,
     "metadata": {},
     "output_type": "execute_result"
    }
   ],
   "source": [
    "TENSOR.shape"
   ]
  },
  {
   "cell_type": "code",
   "execution_count": 17,
   "id": "58725619-7e82-44db-a39d-f8843971318a",
   "metadata": {},
   "outputs": [],
   "source": [
    "# https://raw.githubusercontent.com/mrdbourke/pytorch-deep-learning/main/images/00-pytorch-different-tensor-dimensions.png"
   ]
  },
  {
   "cell_type": "code",
   "execution_count": 18,
   "id": "b3f1c952-c6dd-4cfb-a99c-d33bd0c0d0f4",
   "metadata": {},
   "outputs": [
    {
     "data": {
      "text/plain": [
       "tensor([[1, 2, 3],\n",
       "        [4, 5, 6],\n",
       "        [7, 8, 9]])"
      ]
     },
     "execution_count": 18,
     "metadata": {},
     "output_type": "execute_result"
    }
   ],
   "source": [
    "TENSOR[0]"
   ]
  },
  {
   "cell_type": "code",
   "execution_count": 19,
   "id": "638a04aa-d037-44e7-9f31-938dbdd7ba44",
   "metadata": {},
   "outputs": [
    {
     "data": {
      "text/plain": [
       "tensor([1, 2, 3])"
      ]
     },
     "execution_count": 19,
     "metadata": {},
     "output_type": "execute_result"
    }
   ],
   "source": [
    "TENSOR[0,0]"
   ]
  },
  {
   "cell_type": "code",
   "execution_count": 20,
   "id": "7163778b-bc41-4d6d-9d9e-26bf2b0e79bd",
   "metadata": {},
   "outputs": [
    {
     "data": {
      "text/plain": [
       "tensor([[0.9060, 0.5568, 0.4011, 0.1513],\n",
       "        [0.4950, 0.6364, 0.3322, 0.3164],\n",
       "        [0.5822, 0.3558, 0.6802, 0.5722]])"
      ]
     },
     "execution_count": 20,
     "metadata": {},
     "output_type": "execute_result"
    }
   ],
   "source": [
    "# Random tensor creation\n",
    "random_tensor = torch.rand(3,4)\n",
    "random_tensor"
   ]
  },
  {
   "cell_type": "code",
   "execution_count": 21,
   "id": "3378130b-efe7-44b9-9015-230fd567fa24",
   "metadata": {},
   "outputs": [
    {
     "data": {
      "text/plain": [
       "torch.Size([3, 4])"
      ]
     },
     "execution_count": 21,
     "metadata": {},
     "output_type": "execute_result"
    }
   ],
   "source": [
    "random_tensor.shape"
   ]
  },
  {
   "cell_type": "code",
   "execution_count": 22,
   "id": "9e4cd162-9332-45b6-ab26-18868a07c948",
   "metadata": {},
   "outputs": [
    {
     "data": {
      "text/plain": [
       "2"
      ]
     },
     "execution_count": 22,
     "metadata": {},
     "output_type": "execute_result"
    }
   ],
   "source": [
    "random_tensor.ndim"
   ]
  },
  {
   "cell_type": "code",
   "execution_count": 23,
   "id": "e755d141-6a23-4618-b161-29935dc6f006",
   "metadata": {},
   "outputs": [
    {
     "data": {
      "text/plain": [
       "(torch.Size([224, 224, 3]), 3)"
      ]
     },
     "execution_count": 23,
     "metadata": {},
     "output_type": "execute_result"
    }
   ],
   "source": [
    "# create a random tensor tensor with similar shape to an image tensor\n",
    "random_image_tensor = torch.rand(size=(224,224,3)) # height, width color channels(rgb)\n",
    "random_image_tensor.shape, random_image_tensor.ndim"
   ]
  },
  {
   "cell_type": "code",
   "execution_count": 24,
   "id": "84fc0c91-d820-423d-bafb-6d702434edb9",
   "metadata": {},
   "outputs": [],
   "source": [
    "# random_image_tensor  --> print the tensor"
   ]
  },
  {
   "cell_type": "code",
   "execution_count": 25,
   "id": "6c5c80b9-3749-4fb1-b6e7-969c1302cc7f",
   "metadata": {},
   "outputs": [
    {
     "data": {
      "text/plain": [
       "tensor([[1., 1., 1., 1.],\n",
       "        [1., 1., 1., 1.],\n",
       "        [1., 1., 1., 1.]])"
      ]
     },
     "execution_count": 25,
     "metadata": {},
     "output_type": "execute_result"
    }
   ],
   "source": [
    "# creating ones and zeros tensor\n",
    "ones_tensor = torch.ones(3,4)\n",
    "ones_tensor"
   ]
  },
  {
   "cell_type": "code",
   "execution_count": 26,
   "id": "c481d9e9-25b9-445b-8f56-f3380738da0a",
   "metadata": {},
   "outputs": [
    {
     "data": {
      "text/plain": [
       "tensor([[0., 0., 0.],\n",
       "        [0., 0., 0.]])"
      ]
     },
     "execution_count": 26,
     "metadata": {},
     "output_type": "execute_result"
    }
   ],
   "source": [
    "zeros_tensor = torch.zeros(size = (2,3))\n",
    "zeros_tensor"
   ]
  },
  {
   "cell_type": "code",
   "execution_count": 27,
   "id": "71d4253c-b8cf-464f-8857-83ccef3174ba",
   "metadata": {},
   "outputs": [
    {
     "data": {
      "text/plain": [
       "tensor([[0.9060, 0.5568, 0.4011, 0.1513],\n",
       "        [0.4950, 0.6364, 0.3322, 0.3164],\n",
       "        [0.5822, 0.3558, 0.6802, 0.5722]])"
      ]
     },
     "execution_count": 27,
     "metadata": {},
     "output_type": "execute_result"
    }
   ],
   "source": [
    "ones_tensor * random_tensor"
   ]
  },
  {
   "cell_type": "code",
   "execution_count": 28,
   "id": "bdd5a048-e7c4-4271-a9a8-bb592fb74611",
   "metadata": {},
   "outputs": [
    {
     "data": {
      "text/plain": [
       "torch.float32"
      ]
     },
     "execution_count": 28,
     "metadata": {},
     "output_type": "execute_result"
    }
   ],
   "source": [
    "zeros_tensor.dtype"
   ]
  },
  {
   "cell_type": "code",
   "execution_count": 29,
   "id": "98b29a4f-7ddc-47f2-b433-4d7372dfab10",
   "metadata": {},
   "outputs": [
    {
     "data": {
      "text/plain": [
       "torch.float32"
      ]
     },
     "execution_count": 29,
     "metadata": {},
     "output_type": "execute_result"
    }
   ],
   "source": [
    "ones_tensor.dtype"
   ]
  },
  {
   "cell_type": "code",
   "execution_count": 30,
   "id": "de3ecbd9-15e7-422f-ac67-69fee773f06e",
   "metadata": {},
   "outputs": [
    {
     "name": "stderr",
     "output_type": "stream",
     "text": [
      "/tmp/ipykernel_7163/114453004.py:2: UserWarning: torch.range is deprecated and will be removed in a future release because its behavior is inconsistent with Python's range builtin. Instead, use torch.arange, which produces values in [start, end).\n",
      "  range_tensor = torch.range(0,10)\n"
     ]
    },
    {
     "data": {
      "text/plain": [
       "tensor([ 0.,  1.,  2.,  3.,  4.,  5.,  6.,  7.,  8.,  9., 10.])"
      ]
     },
     "execution_count": 30,
     "metadata": {},
     "output_type": "execute_result"
    }
   ],
   "source": [
    "## creating a tensor in a range and tensor-like\n",
    "range_tensor = torch.range(0,10)\n",
    "range_tensor"
   ]
  },
  {
   "cell_type": "code",
   "execution_count": 31,
   "id": "a39d614d-7c35-4d39-996f-8ffcfd2536de",
   "metadata": {},
   "outputs": [
    {
     "data": {
      "text/plain": [
       "tensor([ 4,  5,  6,  7,  8,  9, 10, 11, 12, 13, 14])"
      ]
     },
     "execution_count": 31,
     "metadata": {},
     "output_type": "execute_result"
    }
   ],
   "source": [
    "arange_tensor = torch.arange(4,15)\n",
    "arange_tensor"
   ]
  },
  {
   "cell_type": "code",
   "execution_count": 32,
   "id": "5359a03e-69a6-45c3-a656-d9117772fbc3",
   "metadata": {},
   "outputs": [
    {
     "data": {
      "text/plain": [
       "tensor([0, 1, 2, 3, 4, 5, 6, 7])"
      ]
     },
     "execution_count": 32,
     "metadata": {},
     "output_type": "execute_result"
    }
   ],
   "source": [
    "arange_tensor = torch.arange(8)\n",
    "arange_tensor"
   ]
  },
  {
   "cell_type": "code",
   "execution_count": 33,
   "id": "cc1f64f4-c26a-4eeb-bb06-d185c808a344",
   "metadata": {},
   "outputs": [
    {
     "data": {
      "text/plain": [
       "tensor([ 5, 10, 15, 20, 25, 30, 35, 40, 45, 50, 55])"
      ]
     },
     "execution_count": 33,
     "metadata": {},
     "output_type": "execute_result"
    }
   ],
   "source": [
    "arange_tensor = torch.arange(5,60,5) ## start, end, step\n",
    "arange_tensor"
   ]
  },
  {
   "cell_type": "code",
   "execution_count": 34,
   "id": "200ebca4-9413-4a1c-b8cb-fc80cf05301a",
   "metadata": {},
   "outputs": [
    {
     "data": {
      "text/plain": [
       "tensor([1, 1, 1, 1, 1, 1, 1, 1, 1, 1, 1])"
      ]
     },
     "execution_count": 34,
     "metadata": {},
     "output_type": "execute_result"
    }
   ],
   "source": [
    "## tensor like\n",
    "arange_tensor_like = torch.ones_like(arange_tensor)\n",
    "arange_tensor_like"
   ]
  },
  {
   "cell_type": "code",
   "execution_count": 35,
   "id": "b4bfa6b0-a5a6-4f84-b3f7-1378c5fb5419",
   "metadata": {},
   "outputs": [
    {
     "data": {
      "text/plain": [
       "tensor([0, 0, 0, 0, 0, 0, 0, 0, 0, 0, 0])"
      ]
     },
     "execution_count": 35,
     "metadata": {},
     "output_type": "execute_result"
    }
   ],
   "source": [
    "arange_tensor_like = torch.zeros_like(arange_tensor) ## input= arange_tensor\n",
    "arange_tensor_like"
   ]
  },
  {
   "cell_type": "code",
   "execution_count": 36,
   "id": "6fa733d2-e383-47f9-a9d5-fa74b242aef3",
   "metadata": {},
   "outputs": [
    {
     "data": {
      "text/plain": [
       "tensor([[0.2301, 0.7045, 0.2868, 0.5403],\n",
       "        [0.9539, 0.2531, 0.8434, 0.4713],\n",
       "        [0.1106, 0.9257, 0.2100, 0.9953]])"
      ]
     },
     "execution_count": 36,
     "metadata": {},
     "output_type": "execute_result"
    }
   ],
   "source": [
    "arange_tensor_like = torch.rand_like(ones_tensor)\n",
    "arange_tensor_like"
   ]
  },
  {
   "cell_type": "code",
   "execution_count": 37,
   "id": "de16ab18-ed45-4335-bfd5-eb83d657155d",
   "metadata": {},
   "outputs": [
    {
     "data": {
      "text/plain": [
       "tensor([[0.3511, 0.2975, 0.2146],\n",
       "        [0.4927, 0.3255, 0.9506]])"
      ]
     },
     "execution_count": 37,
     "metadata": {},
     "output_type": "execute_result"
    }
   ],
   "source": [
    "## Tensor datatypes\n",
    "float_32_tensor = torch.rand(2,3,dtype= None)\n",
    "float_32_tensor"
   ]
  },
  {
   "cell_type": "code",
   "execution_count": 38,
   "id": "7f9cae17-65ce-4ce0-a846-a6210c891fd3",
   "metadata": {},
   "outputs": [
    {
     "data": {
      "text/plain": [
       "torch.float32"
      ]
     },
     "execution_count": 38,
     "metadata": {},
     "output_type": "execute_result"
    }
   ],
   "source": [
    "float_32_tensor.dtype"
   ]
  },
  {
   "cell_type": "code",
   "execution_count": 39,
   "id": "210a8d7c-75bb-4826-ad0b-36c29076cdf1",
   "metadata": {},
   "outputs": [
    {
     "data": {
      "text/plain": [
       "tensor([[0.4009, 0.0278, 0.3027],\n",
       "        [0.1094, 0.7388, 0.1763]], dtype=torch.float16)"
      ]
     },
     "execution_count": 39,
     "metadata": {},
     "output_type": "execute_result"
    }
   ],
   "source": [
    "d_tensor = torch.rand(2,3, dtype= torch.float16, ## float16, float32, float64\n",
    "                      device = None, ## device may be cpu, gpu , cuda , tpu...\n",
    "                      requires_grad= False) ## for tracking gradient\n",
    "d_tensor"
   ]
  },
  {
   "cell_type": "code",
   "execution_count": 40,
   "id": "38e72ca7-5b85-44e0-ad42-adf6c0980071",
   "metadata": {},
   "outputs": [
    {
     "data": {
      "text/plain": [
       "torch.float32"
      ]
     },
     "execution_count": 40,
     "metadata": {},
     "output_type": "execute_result"
    }
   ],
   "source": [
    "## Type conversion\n",
    "d_tensor = d_tensor.type(torch.float32)\n",
    "d_tensor.dtype"
   ]
  },
  {
   "cell_type": "code",
   "execution_count": 41,
   "id": "b0ec4e03-44df-44ab-9f49-88d8e42fa232",
   "metadata": {},
   "outputs": [
    {
     "name": "stdout",
     "output_type": "stream",
     "text": [
      "tensor([[0.8631, 0.2556, 0.1433, 0.6601],\n",
      "        [0.7312, 0.9558, 0.5016, 0.4417],\n",
      "        [0.0029, 0.4543, 0.3902, 0.3075]])\n",
      "datatype : torch.float32\n",
      "size : torch.Size([3, 4])\n",
      "device : cpu\n"
     ]
    }
   ],
   "source": [
    "## Getting information from tensor\n",
    "sample_tensor = torch.rand(3,4)\n",
    "print(sample_tensor)\n",
    "print('datatype :', sample_tensor.dtype)\n",
    "print('size :', sample_tensor.size()) ## sample_tensor.shape\n",
    "print('device :', sample_tensor.device)"
   ]
  },
  {
   "cell_type": "code",
   "execution_count": 42,
   "id": "ca40d33c-e8b3-44de-97ce-e21eda18e359",
   "metadata": {},
   "outputs": [
    {
     "name": "stdout",
     "output_type": "stream",
     "text": [
      "tensor([11, 12, 13])\n"
     ]
    },
    {
     "data": {
      "text/plain": [
       "tensor([1, 2, 3])"
      ]
     },
     "execution_count": 42,
     "metadata": {},
     "output_type": "execute_result"
    }
   ],
   "source": [
    "## Tensor operations \n",
    "## (addition, substraction, multiplication, division, matrix multiplication)\n",
    "op_tensor = torch.tensor([1,2,3])\n",
    "print(op_tensor + 10)\n",
    "op_tensor"
   ]
  },
  {
   "cell_type": "code",
   "execution_count": 43,
   "id": "73c4b374-c851-45c0-ac9c-bd71dae62468",
   "metadata": {},
   "outputs": [
    {
     "name": "stdout",
     "output_type": "stream",
     "text": [
      "tensor([100, 200, 300])\n"
     ]
    },
    {
     "data": {
      "text/plain": [
       "tensor([1, 2, 3])"
      ]
     },
     "execution_count": 43,
     "metadata": {},
     "output_type": "execute_result"
    }
   ],
   "source": [
    "print(op_tensor * 100)\n",
    "op_tensor"
   ]
  },
  {
   "cell_type": "code",
   "execution_count": 44,
   "id": "a4110644-eb31-4dda-8c72-d93a11591c0b",
   "metadata": {},
   "outputs": [
    {
     "name": "stdout",
     "output_type": "stream",
     "text": [
      "tensor([0, 1, 2])\n"
     ]
    },
    {
     "data": {
      "text/plain": [
       "tensor([1, 2, 3])"
      ]
     },
     "execution_count": 44,
     "metadata": {},
     "output_type": "execute_result"
    }
   ],
   "source": [
    "print(op_tensor - 1)\n",
    "op_tensor"
   ]
  },
  {
   "cell_type": "code",
   "execution_count": 45,
   "id": "b6e286b9-ec85-4050-8076-c0e9474f99e2",
   "metadata": {},
   "outputs": [
    {
     "name": "stdout",
     "output_type": "stream",
     "text": [
      "tensor([-9, -8, -7])\n"
     ]
    },
    {
     "data": {
      "text/plain": [
       "tensor([1, 2, 3])"
      ]
     },
     "execution_count": 45,
     "metadata": {},
     "output_type": "execute_result"
    }
   ],
   "source": [
    "## pytorch inbuilt function\n",
    "\n",
    "print(torch.sub(op_tensor, 10)) ## torch.add, torch.mul, torch.div, torch.sub\n",
    "op_tensor"
   ]
  },
  {
   "cell_type": "code",
   "execution_count": 46,
   "id": "4d1ec8af-5d76-4795-8855-c5d74707fb19",
   "metadata": {},
   "outputs": [
    {
     "name": "stdout",
     "output_type": "stream",
     "text": [
      "tensor([1, 4, 9])\n"
     ]
    }
   ],
   "source": [
    "## matrix multiplication\n",
    "## 1. element wise (scalar multiplication)\n",
    "## 2. matrix wise  (Dot product, \"row with column\") \n",
    "## https://www.mathsisfun.com/algebra/matrix-multiplying.html\n",
    "print(op_tensor * op_tensor) ## element wise"
   ]
  },
  {
   "cell_type": "code",
   "execution_count": 47,
   "id": "1cf9cf9b-ac43-4882-a2c5-966950facf0b",
   "metadata": {},
   "outputs": [
    {
     "name": "stdout",
     "output_type": "stream",
     "text": [
      "tensor([1, 2, 3])\n"
     ]
    },
    {
     "data": {
      "text/plain": [
       "tensor(14)"
      ]
     },
     "execution_count": 47,
     "metadata": {},
     "output_type": "execute_result"
    }
   ],
   "source": [
    "## matrix wise\n",
    "print(op_tensor)\n",
    "torch.matmul(op_tensor, op_tensor) ## 1*1 + 2*2 + 3*3"
   ]
  },
  {
   "cell_type": "code",
   "execution_count": 48,
   "id": "0bd0003b-9b95-498b-8dee-b8c7a5c46f28",
   "metadata": {},
   "outputs": [
    {
     "data": {
      "text/plain": [
       "14"
      ]
     },
     "execution_count": 48,
     "metadata": {},
     "output_type": "execute_result"
    }
   ],
   "source": [
    "1*1 + 2*2 + 3*3"
   ]
  },
  {
   "cell_type": "code",
   "execution_count": 49,
   "id": "f3087112-ae24-46c2-af5f-f7db888866c2",
   "metadata": {},
   "outputs": [
    {
     "name": "stdout",
     "output_type": "stream",
     "text": [
      "tensor(14)\n",
      "CPU times: user 441 µs, sys: 369 µs, total: 810 µs\n",
      "Wall time: 672 µs\n"
     ]
    }
   ],
   "source": [
    "%%time \n",
    "value = 0 \n",
    "for i in range(len(op_tensor)):\n",
    "    value += op_tensor[i] * op_tensor[i]\n",
    "print(value)"
   ]
  },
  {
   "cell_type": "code",
   "execution_count": 50,
   "id": "23ab7b42-46f5-48fa-b727-2b8a5db2236a",
   "metadata": {},
   "outputs": [
    {
     "name": "stdout",
     "output_type": "stream",
     "text": [
      "CPU times: user 123 µs, sys: 103 µs, total: 226 µs\n",
      "Wall time: 174 µs\n"
     ]
    },
    {
     "data": {
      "text/plain": [
       "tensor(14)"
      ]
     },
     "execution_count": 50,
     "metadata": {},
     "output_type": "execute_result"
    }
   ],
   "source": [
    "%%time\n",
    "torch.matmul(op_tensor, op_tensor) ## @ == matmul (op_tensor @ op_tensor)"
   ]
  },
  {
   "cell_type": "code",
   "execution_count": 51,
   "id": "40977e63-7533-4e44-8043-8ba2e8d3e552",
   "metadata": {},
   "outputs": [
    {
     "name": "stdout",
     "output_type": "stream",
     "text": [
      "CPU times: user 1e+03 ns, sys: 1e+03 ns, total: 2 µs\n",
      "Wall time: 3.58 µs\n"
     ]
    },
    {
     "data": {
      "text/plain": [
       "14"
      ]
     },
     "execution_count": 51,
     "metadata": {},
     "output_type": "execute_result"
    }
   ],
   "source": [
    "%%time \n",
    "1*1 + 2*2 + 3*3"
   ]
  },
  {
   "cell_type": "code",
   "execution_count": 52,
   "id": "a9057006-960a-4ad5-b210-6ff3db69b743",
   "metadata": {},
   "outputs": [
    {
     "data": {
      "text/plain": [
       "tensor([[0.2033, 0.1139, 0.0826, 0.1400, 0.0999, 0.0809, 0.0823],\n",
       "        [1.1135, 0.8404, 0.3846, 0.8452, 0.7537, 0.6408, 0.4811],\n",
       "        [0.0508, 0.0566, 0.0118, 0.0451, 0.0518, 0.0459, 0.0245]])"
      ]
     },
     "execution_count": 52,
     "metadata": {},
     "output_type": "execute_result"
    }
   ],
   "source": [
    "torch.matmul(torch.rand(3, 2), torch.rand(2, 7))\n",
    "## for matrix multiplication the inner dimensions need to be same and the resulting matrix shape is (3,7), which is the outer dimension\n",
    "## http://matrixmultiplication.xyz/"
   ]
  },
  {
   "cell_type": "code",
   "execution_count": 53,
   "id": "df62e4b3-44c1-44bc-9b11-2b2e3592db94",
   "metadata": {},
   "outputs": [
    {
     "data": {
      "text/plain": [
       "(tensor([[1, 2],\n",
       "         [3, 4],\n",
       "         [5, 6]]),\n",
       " torch.Size([3, 2]))"
      ]
     },
     "execution_count": 53,
     "metadata": {},
     "output_type": "execute_result"
    }
   ],
   "source": [
    "## Transpose of a tensor\n",
    "sample_tensor = torch.tensor([[1,2],\n",
    "                      [3,4],\n",
    "                      [5,6]])\n",
    "sample_tensor, sample_tensor.shape"
   ]
  },
  {
   "cell_type": "code",
   "execution_count": 54,
   "id": "9ae55339-234c-4590-b8a2-0158f4039f65",
   "metadata": {},
   "outputs": [
    {
     "data": {
      "text/plain": [
       "(tensor([[1, 3, 5],\n",
       "         [2, 4, 6]]),\n",
       " torch.Size([2, 3]))"
      ]
     },
     "execution_count": 54,
     "metadata": {},
     "output_type": "execute_result"
    }
   ],
   "source": [
    "sample_tensor.T, sample_tensor.T.shape"
   ]
  },
  {
   "cell_type": "code",
   "execution_count": 55,
   "id": "bd9939e3-9f05-4e8c-8050-0b1bb6913d84",
   "metadata": {},
   "outputs": [
    {
     "data": {
      "text/plain": [
       "(tensor(1), tensor(1))"
      ]
     },
     "execution_count": 55,
     "metadata": {},
     "output_type": "execute_result"
    }
   ],
   "source": [
    "## Find min, max, mean, sum ..(tensor aggrgation)\n",
    "sample_tensor.min(), torch.min(sample_tensor) ## can be find using two method"
   ]
  },
  {
   "cell_type": "code",
   "execution_count": 56,
   "id": "7eb29c0a-e570-4735-b425-767d56297646",
   "metadata": {},
   "outputs": [
    {
     "data": {
      "text/plain": [
       "(tensor(6), tensor(6))"
      ]
     },
     "execution_count": 56,
     "metadata": {},
     "output_type": "execute_result"
    }
   ],
   "source": [
    "sample_tensor.max(), torch.max(sample_tensor)"
   ]
  },
  {
   "cell_type": "code",
   "execution_count": 57,
   "id": "5ca528ef-3c5a-44a7-8511-0f7d8cdf65c3",
   "metadata": {},
   "outputs": [
    {
     "ename": "RuntimeError",
     "evalue": "mean(): could not infer output dtype. Input dtype must be either a floating point or complex dtype. Got: Long",
     "output_type": "error",
     "traceback": [
      "\u001b[0;31m---------------------------------------------------------------------------\u001b[0m",
      "\u001b[0;31mRuntimeError\u001b[0m                              Traceback (most recent call last)",
      "Cell \u001b[0;32mIn[57], line 1\u001b[0m\n\u001b[0;32m----> 1\u001b[0m \u001b[43msample_tensor\u001b[49m\u001b[38;5;241;43m.\u001b[39;49m\u001b[43mmean\u001b[49m\u001b[43m(\u001b[49m\u001b[43m)\u001b[49m \u001b[38;5;66;03m## Mean can be found only for float or complex dtype\u001b[39;00m\n",
      "\u001b[0;31mRuntimeError\u001b[0m: mean(): could not infer output dtype. Input dtype must be either a floating point or complex dtype. Got: Long"
     ]
    }
   ],
   "source": [
    "sample_tensor.mean() ## Mean can be found only for float or complex dtype"
   ]
  },
  {
   "cell_type": "code",
   "execution_count": 58,
   "id": "d97e400b-a26f-405d-ad89-63eb9bf70472",
   "metadata": {},
   "outputs": [
    {
     "data": {
      "text/plain": [
       "(tensor(3.5000), tensor(3.5000))"
      ]
     },
     "execution_count": 58,
     "metadata": {},
     "output_type": "execute_result"
    }
   ],
   "source": [
    "## So to find mean convert it into float\n",
    "sample_tensor.type(torch.float32).mean(), torch.mean(sample_tensor.type(torch.float32))"
   ]
  },
  {
   "cell_type": "code",
   "execution_count": 59,
   "id": "55a957cc-60b5-416b-922a-1861be35e014",
   "metadata": {},
   "outputs": [
    {
     "data": {
      "text/plain": [
       "(tensor(21), tensor(21))"
      ]
     },
     "execution_count": 59,
     "metadata": {},
     "output_type": "execute_result"
    }
   ],
   "source": [
    "sample_tensor.sum(), torch.sum(sample_tensor)"
   ]
  },
  {
   "cell_type": "code",
   "execution_count": 60,
   "id": "9c1008c9-60ff-49f1-a1c3-e148d05716a6",
   "metadata": {},
   "outputs": [
    {
     "name": "stdout",
     "output_type": "stream",
     "text": [
      "tensor([[1, 2],\n",
      "        [3, 4],\n",
      "        [5, 6]])\n"
     ]
    },
    {
     "data": {
      "text/plain": [
       "(tensor(5), tensor(0))"
      ]
     },
     "execution_count": 60,
     "metadata": {},
     "output_type": "execute_result"
    }
   ],
   "source": [
    "## Find the positional min, max index\n",
    "print(sample_tensor)\n",
    "sample_tensor.argmax(), sample_tensor.argmin()\n",
    "## At index 5 : largest value and at index 0 : min value"
   ]
  },
  {
   "cell_type": "code",
   "execution_count": 61,
   "id": "784074d9-f017-4865-b623-578e4ae3f051",
   "metadata": {},
   "outputs": [
    {
     "data": {
      "text/plain": [
       "(tensor([1., 2., 3., 4., 5., 6.]), torch.Size([6]))"
      ]
     },
     "execution_count": 61,
     "metadata": {},
     "output_type": "execute_result"
    }
   ],
   "source": [
    "# Reshape, View, Stacking..\n",
    "# Reshaping ==> return tensor with desired shape\n",
    "sample_tensor = torch.arange(1., 7.)\n",
    "sample_tensor, sample_tensor.shape"
   ]
  },
  {
   "cell_type": "code",
   "execution_count": 62,
   "id": "36237749-aba8-4140-9981-ead1740791c0",
   "metadata": {},
   "outputs": [
    {
     "data": {
      "text/plain": [
       "(torch.Size([1, 6]), torch.Size([6]))"
      ]
     },
     "execution_count": 62,
     "metadata": {},
     "output_type": "execute_result"
    }
   ],
   "source": [
    "sample_tensor.reshape(1, 6).shape, sample_tensor.shape"
   ]
  },
  {
   "cell_type": "code",
   "execution_count": 63,
   "id": "a3e48c6c-5671-41fe-97b3-ec6af1a7db0c",
   "metadata": {},
   "outputs": [
    {
     "data": {
      "text/plain": [
       "(tensor([[1., 2., 3., 4., 5., 6.]]), tensor([1., 2., 3., 4., 5., 6.]))"
      ]
     },
     "execution_count": 63,
     "metadata": {},
     "output_type": "execute_result"
    }
   ],
   "source": [
    "a = sample_tensor.reshape(1,6)\n",
    "a, sample_tensor"
   ]
  },
  {
   "cell_type": "code",
   "execution_count": 64,
   "id": "ac4e3750-424f-4247-ac5d-c05b706b8804",
   "metadata": {},
   "outputs": [],
   "source": [
    "a[0] = 2 ## When we change the value of a it also affect the orginal tensor too.."
   ]
  },
  {
   "cell_type": "code",
   "execution_count": 65,
   "id": "657cac54-c747-45e5-9bcb-4a5f157bb1ac",
   "metadata": {},
   "outputs": [
    {
     "data": {
      "text/plain": [
       "(tensor([[2., 2., 2., 2., 2., 2.]]), tensor([2., 2., 2., 2., 2., 2.]))"
      ]
     },
     "execution_count": 65,
     "metadata": {},
     "output_type": "execute_result"
    }
   ],
   "source": [
    "a, sample_tensor"
   ]
  },
  {
   "cell_type": "code",
   "execution_count": 66,
   "id": "efb01491-1bee-4b9c-8a68-6638575cd30c",
   "metadata": {},
   "outputs": [],
   "source": [
    "## But reshape sometimes return a view and sometimes return a copy\n",
    "## In the above case it return a view\n",
    "## Sometimes it return the copy"
   ]
  },
  {
   "cell_type": "code",
   "execution_count": 67,
   "id": "1c5839bb-faad-482c-926d-1c8da3a8bae4",
   "metadata": {},
   "outputs": [
    {
     "data": {
      "text/plain": [
       "(tensor([[2., 2., 2.],\n",
       "         [2., 2., 2.]]),\n",
       " torch.Size([2, 3]))"
      ]
     },
     "execution_count": 67,
     "metadata": {},
     "output_type": "execute_result"
    }
   ],
   "source": [
    "## View ==> return tensor with desired shape,\n",
    "## view share the same memory of the orginal tensor\n",
    "b = sample_tensor.view(2,3)\n",
    "b, b.shape"
   ]
  },
  {
   "cell_type": "code",
   "execution_count": 68,
   "id": "42cd3be9-5ab3-444d-a037-9b8aeb118b54",
   "metadata": {},
   "outputs": [],
   "source": [
    "b[0] = 1"
   ]
  },
  {
   "cell_type": "code",
   "execution_count": 69,
   "id": "e0f61957-efa2-434f-9309-54b763df062d",
   "metadata": {},
   "outputs": [
    {
     "data": {
      "text/plain": [
       "(tensor([[1., 1., 1.],\n",
       "         [2., 2., 2.]]),\n",
       " tensor([1., 1., 1., 2., 2., 2.]))"
      ]
     },
     "execution_count": 69,
     "metadata": {},
     "output_type": "execute_result"
    }
   ],
   "source": [
    "b, sample_tensor ## when change the b it also affect the orginal tensor"
   ]
  },
  {
   "cell_type": "code",
   "execution_count": 70,
   "id": "4649d6dc-2318-48f3-ab02-71458f22eb47",
   "metadata": {},
   "outputs": [
    {
     "data": {
      "text/plain": [
       "(tensor([[1., 1., 1., 2., 2., 2.],\n",
       "         [1., 1., 1., 2., 2., 2.],\n",
       "         [1., 1., 1., 2., 2., 2.]]),\n",
       " torch.Size([3, 6]))"
      ]
     },
     "execution_count": 70,
     "metadata": {},
     "output_type": "execute_result"
    }
   ],
   "source": [
    "## Stack ==> combines tensor each other\n",
    "## dim = 0 ==> add tensor vertically ::: dim = 1 ==> add tensor horizontally\n",
    "c = torch.stack([sample_tensor, sample_tensor, sample_tensor], dim = 0)\n",
    "c, c.shape"
   ]
  },
  {
   "cell_type": "code",
   "execution_count": 71,
   "id": "18603109-6cfd-4cd2-9fc3-3ae34ace2913",
   "metadata": {},
   "outputs": [],
   "source": [
    "## Squeeze and Unsqueeze\n",
    "## Squeeze ==> remove all single dimension from tensor\n",
    "## Unsqueeze ==> add a dimension\n",
    "d = sample_tensor.unsqueeze(0)"
   ]
  },
  {
   "cell_type": "code",
   "execution_count": 72,
   "id": "056975c2-d384-4f3c-9285-a22ae8cdb041",
   "metadata": {},
   "outputs": [
    {
     "data": {
      "text/plain": [
       "(torch.Size([1, 6]), torch.Size([6]))"
      ]
     },
     "execution_count": 72,
     "metadata": {},
     "output_type": "execute_result"
    }
   ],
   "source": [
    "d.shape, sample_tensor.shape ## There added a dimesion"
   ]
  },
  {
   "cell_type": "code",
   "execution_count": 73,
   "id": "3f0bc453-c837-4a79-8ff0-983439f5ff2a",
   "metadata": {},
   "outputs": [
    {
     "data": {
      "text/plain": [
       "(torch.Size([6]), torch.Size([6]))"
      ]
     },
     "execution_count": 73,
     "metadata": {},
     "output_type": "execute_result"
    }
   ],
   "source": [
    "d.squeeze().shape, sample_tensor.shape ## Added dimesion is removed!!.."
   ]
  },
  {
   "cell_type": "code",
   "execution_count": 74,
   "id": "bb3f1a7d-52cd-46fb-afda-726b0dcbc023",
   "metadata": {},
   "outputs": [
    {
     "data": {
      "text/plain": [
       "torch.Size([2, 1, 3])"
      ]
     },
     "execution_count": 74,
     "metadata": {},
     "output_type": "execute_result"
    }
   ],
   "source": [
    "## Permute ==> rearrange tensor in specified order\n",
    "### https://pytorch.org/docs/stable/generated/torch.permute.html\n",
    "sample_tensor = torch.rand(1,2,3)\n",
    "sample_tensor.shape ## Here the dimension is 1,2,3\n",
    "## considering the index of the dimensions we can say that in 0 index -> 1,\n",
    "## 1 index -> 2, 2 index -> 3 so we can permute the dimesion with this index values, as given below\n",
    "sample_tensor.permute(1,0,2).shape\n",
    "## Change the 0 index to second, 1 index to first, 2 index to 3..."
   ]
  },
  {
   "cell_type": "code",
   "execution_count": 75,
   "id": "a5a99e45-46dc-4725-9e00-46af47fdb4d2",
   "metadata": {},
   "outputs": [
    {
     "data": {
      "text/plain": [
       "tensor([[[1, 2, 3],\n",
       "         [4, 5, 6],\n",
       "         [7, 8, 9]]])"
      ]
     },
     "execution_count": 75,
     "metadata": {},
     "output_type": "execute_result"
    }
   ],
   "source": [
    "## Selecting data from tensor(Indexing)\n",
    "## Similar to numPy array\n",
    "new_tensor = torch.arange(1,10).reshape(1,3,3)\n",
    "new_tensor"
   ]
  },
  {
   "cell_type": "code",
   "execution_count": 76,
   "id": "21a49eb5-c9f7-42c3-b63c-0ad66a576375",
   "metadata": {},
   "outputs": [
    {
     "data": {
      "text/plain": [
       "tensor([[1, 2, 3],\n",
       "        [4, 5, 6],\n",
       "        [7, 8, 9]])"
      ]
     },
     "execution_count": 76,
     "metadata": {},
     "output_type": "execute_result"
    }
   ],
   "source": [
    "new_tensor[0]"
   ]
  },
  {
   "cell_type": "code",
   "execution_count": 77,
   "id": "5060b52a-3bf8-4e5f-91fe-96a928f0a617",
   "metadata": {},
   "outputs": [
    {
     "data": {
      "text/plain": [
       "tensor([7, 8, 9])"
      ]
     },
     "execution_count": 77,
     "metadata": {},
     "output_type": "execute_result"
    }
   ],
   "source": [
    "new_tensor[0,2] ## Access rows ==> [0,0], [0,1], [0,2]"
   ]
  },
  {
   "cell_type": "code",
   "execution_count": 78,
   "id": "ac5751f9-d8f3-4d4f-8e2b-d288ae3d2c69",
   "metadata": {},
   "outputs": [
    {
     "data": {
      "text/plain": [
       "tensor([7, 8, 9])"
      ]
     },
     "execution_count": 78,
     "metadata": {},
     "output_type": "execute_result"
    }
   ],
   "source": [
    "## Also slice this like this :\n",
    "new_tensor[0][2]"
   ]
  },
  {
   "cell_type": "code",
   "execution_count": 79,
   "id": "d4db3f01-984a-4abc-828a-eab52a972920",
   "metadata": {},
   "outputs": [
    {
     "data": {
      "text/plain": [
       "tensor(3)"
      ]
     },
     "execution_count": 79,
     "metadata": {},
     "output_type": "execute_result"
    }
   ],
   "source": [
    "new_tensor[0,0,2] ## Slice elements like this"
   ]
  },
  {
   "cell_type": "code",
   "execution_count": 80,
   "id": "54076133-2304-4f40-8399-c6618574c2d2",
   "metadata": {},
   "outputs": [
    {
     "data": {
      "text/plain": [
       "tensor([[[1, 2, 3],\n",
       "         [4, 5, 6],\n",
       "         [7, 8, 9]]])"
      ]
     },
     "execution_count": 80,
     "metadata": {},
     "output_type": "execute_result"
    }
   ],
   "source": [
    " ## Another way :\n",
    "new_tensor[:,:]"
   ]
  },
  {
   "cell_type": "code",
   "execution_count": 81,
   "id": "caed8797-34cc-40c5-90cf-54ac5de27681",
   "metadata": {},
   "outputs": [
    {
     "data": {
      "text/plain": [
       "tensor([[4, 5, 6]])"
      ]
     },
     "execution_count": 81,
     "metadata": {},
     "output_type": "execute_result"
    }
   ],
   "source": [
    "new_tensor[:,1] ## Slice rows"
   ]
  },
  {
   "cell_type": "code",
   "execution_count": 82,
   "id": "bc77e523-c9c2-440a-b3d5-b65f638c9405",
   "metadata": {},
   "outputs": [
    {
     "data": {
      "text/plain": [
       "tensor([[3, 6, 9]])"
      ]
     },
     "execution_count": 82,
     "metadata": {},
     "output_type": "execute_result"
    }
   ],
   "source": [
    "new_tensor[:,:,2] ## Slice columns "
   ]
  },
  {
   "cell_type": "code",
   "execution_count": 83,
   "id": "20e24465-dacc-4e26-bfd1-a65b2cfcb919",
   "metadata": {},
   "outputs": [
    {
     "data": {
      "text/plain": [
       "tensor([[4, 7]])"
      ]
     },
     "execution_count": 83,
     "metadata": {},
     "output_type": "execute_result"
    }
   ],
   "source": [
    "new_tensor[:,1:,0]"
   ]
  },
  {
   "cell_type": "code",
   "execution_count": 84,
   "id": "dad8206c-47f7-4b5f-b00d-7750892683a4",
   "metadata": {},
   "outputs": [
    {
     "data": {
      "text/plain": [
       "tensor([[8]])"
      ]
     },
     "execution_count": 84,
     "metadata": {},
     "output_type": "execute_result"
    }
   ],
   "source": [
    "new_tensor[:,2:,1] ## Slice with row and cloumn"
   ]
  },
  {
   "cell_type": "markdown",
   "id": "60937828-aa1d-4b71-9a46-28c3182a41c6",
   "metadata": {},
   "source": [
    "### NumPy"
   ]
  },
  {
   "cell_type": "code",
   "execution_count": 85,
   "id": "790a30a9-c69b-47ce-a5fc-4b7309dfeb42",
   "metadata": {},
   "outputs": [],
   "source": [
    "## Popular scientific python numerical computing library\n",
    "import numpy as np"
   ]
  },
  {
   "cell_type": "code",
   "execution_count": 86,
   "id": "c6683961-2270-4aad-ac4e-0e18077ec4e4",
   "metadata": {},
   "outputs": [
    {
     "data": {
      "text/plain": [
       "(array([1., 2., 3., 4., 5., 6., 7., 8., 9.]),\n",
       " tensor([1., 2., 3., 4., 5., 6., 7., 8., 9.], dtype=torch.float64))"
      ]
     },
     "execution_count": 86,
     "metadata": {},
     "output_type": "execute_result"
    }
   ],
   "source": [
    "array = np.arange(1.,10.)\n",
    "tensor = torch.from_numpy(array)\n",
    "array, tensor"
   ]
  },
  {
   "cell_type": "code",
   "execution_count": 87,
   "id": "681f8db9-b7b4-45f6-9649-a52f298da536",
   "metadata": {},
   "outputs": [
    {
     "data": {
      "text/plain": [
       "dtype('float64')"
      ]
     },
     "execution_count": 87,
     "metadata": {},
     "output_type": "execute_result"
    }
   ],
   "source": [
    "array.dtype ## Arrays default float dtype is float64, int default is int64, thus when convert to tensor it also have float64"
   ]
  },
  {
   "cell_type": "code",
   "execution_count": 88,
   "id": "c17dd0e7-c594-485a-803f-936f458422c2",
   "metadata": {},
   "outputs": [
    {
     "data": {
      "text/plain": [
       "torch.float32"
      ]
     },
     "execution_count": 88,
     "metadata": {},
     "output_type": "execute_result"
    }
   ],
   "source": [
    "## Tensor's float default dtype is float32\n",
    "torch.arange(1.,10.).dtype"
   ]
  },
  {
   "cell_type": "code",
   "execution_count": 89,
   "id": "7683de5a-35e7-492b-9fc4-c15eaee1f58a",
   "metadata": {},
   "outputs": [
    {
     "data": {
      "text/plain": [
       "torch.float32"
      ]
     },
     "execution_count": 89,
     "metadata": {},
     "output_type": "execute_result"
    }
   ],
   "source": [
    "## So if to want to change the dtype while converting\n",
    "a = torch.from_numpy(array).type(torch.float32)\n",
    "a.dtype"
   ]
  },
  {
   "cell_type": "code",
   "execution_count": 90,
   "id": "61ef207c-a007-4e15-a233-4c1f34872666",
   "metadata": {},
   "outputs": [
    {
     "data": {
      "text/plain": [
       "(array([3., 2., 3., 4., 5., 6., 7., 8., 9.]),\n",
       " tensor([3., 2., 3., 4., 5., 6., 7., 8., 9.], dtype=torch.float64))"
      ]
     },
     "execution_count": 90,
     "metadata": {},
     "output_type": "execute_result"
    }
   ],
   "source": [
    "## When modify the NumPy array in place, the changes are reflected in the tensor, both the array and the tensor share the same memory.\n",
    "array[0] = 3\n",
    "array, tensor"
   ]
  },
  {
   "cell_type": "code",
   "execution_count": 91,
   "id": "bb01caa0-1d2c-4feb-97ca-d4f36f0f6748",
   "metadata": {},
   "outputs": [
    {
     "data": {
      "text/plain": [
       "(array([ 4.,  3.,  4.,  5.,  6.,  7.,  8.,  9., 10.]),\n",
       " tensor([3., 2., 3., 4., 5., 6., 7., 8., 9.], dtype=torch.float64))"
      ]
     },
     "execution_count": 91,
     "metadata": {},
     "output_type": "execute_result"
    }
   ],
   "source": [
    "## When reassign the NumPy array to a new array,\n",
    "## It breaks the connection between tensor and numPy array, then the change in that array doesn't affect the Tensor\n",
    "array = array +1\n",
    "array, tensor"
   ]
  },
  {
   "cell_type": "code",
   "execution_count": 92,
   "id": "0ca2da91-a28a-4e00-8b8c-a3144f855e1e",
   "metadata": {},
   "outputs": [
    {
     "data": {
      "text/plain": [
       "(array([10.,  3.,  4.,  5.,  6.,  7.,  8.,  9., 10.]),\n",
       " tensor([3., 2., 3., 4., 5., 6., 7., 8., 9.], dtype=torch.float64))"
      ]
     },
     "execution_count": 92,
     "metadata": {},
     "output_type": "execute_result"
    }
   ],
   "source": [
    "## Now the connection is lost so now we try to mpodify the array, It doesn't reflect the tensor\n",
    "array[0] = 10\n",
    "array, tensor"
   ]
  },
  {
   "cell_type": "code",
   "execution_count": 93,
   "id": "65c0c710-e08c-4a7b-a751-36c80ba8bca4",
   "metadata": {},
   "outputs": [
    {
     "data": {
      "text/plain": [
       "(array([[1., 1., 1., 1.],\n",
       "        [1., 1., 1., 1.],\n",
       "        [1., 1., 1., 1.]], dtype=float32),\n",
       " torch.float32)"
      ]
     },
     "execution_count": 93,
     "metadata": {},
     "output_type": "execute_result"
    }
   ],
   "source": [
    "## From tensor to numPy\n",
    "numpy_tensor = ones_tensor.numpy()\n",
    "numpy_tensor, ones_tensor.dtype ## numpy datatype changes to tensors default datatype"
   ]
  },
  {
   "cell_type": "code",
   "execution_count": 94,
   "id": "14463c70-c766-4d2b-9fbb-0cf8450f682c",
   "metadata": {},
   "outputs": [
    {
     "data": {
      "text/plain": [
       "(tensor([[4., 1., 1., 1.],\n",
       "         [1., 1., 1., 1.],\n",
       "         [1., 1., 1., 1.]]),\n",
       " array([[4., 1., 1., 1.],\n",
       "        [1., 1., 1., 1.],\n",
       "        [1., 1., 1., 1.]], dtype=float32))"
      ]
     },
     "execution_count": 94,
     "metadata": {},
     "output_type": "execute_result"
    }
   ],
   "source": [
    "## Like in the case of numPy to Tensor, here,\n",
    "## When modify the Tensor in place, the changes are reflected in the NumPy array, both the tensor and the array share the same memory.\n",
    "ones_tensor[0,0] = 4\n",
    "ones_tensor, numpy_tensor"
   ]
  },
  {
   "cell_type": "code",
   "execution_count": 95,
   "id": "3b9bc514-f179-4b6b-91ae-000b1f6b99a9",
   "metadata": {},
   "outputs": [
    {
     "data": {
      "text/plain": [
       "(tensor([[5., 2., 2., 2.],\n",
       "         [2., 2., 2., 2.],\n",
       "         [2., 2., 2., 2.]]),\n",
       " array([[4., 1., 1., 1.],\n",
       "        [1., 1., 1., 1.],\n",
       "        [1., 1., 1., 1.]], dtype=float32))"
      ]
     },
     "execution_count": 95,
     "metadata": {},
     "output_type": "execute_result"
    }
   ],
   "source": [
    "## When reassign the tensor to a new tensor,\n",
    "## It breaks the connection between tensor and numPy array, then the change in that tensor doesn't affect the array\n",
    "ones_tensor = ones_tensor + 1\n",
    "ones_tensor, numpy_tensor"
   ]
  },
  {
   "cell_type": "code",
   "execution_count": 96,
   "id": "4f082b8a-60b4-4e5a-b9dd-d65642a3c3fe",
   "metadata": {},
   "outputs": [
    {
     "data": {
      "text/plain": [
       "(tensor([[3., 2., 2., 2.],\n",
       "         [2., 2., 2., 2.],\n",
       "         [2., 2., 2., 2.]]),\n",
       " array([[4., 1., 1., 1.],\n",
       "        [1., 1., 1., 1.],\n",
       "        [1., 1., 1., 1.]], dtype=float32))"
      ]
     },
     "execution_count": 96,
     "metadata": {},
     "output_type": "execute_result"
    }
   ],
   "source": [
    "## After the connection lost then if we try to mpodify the tensor, It doesn't reflect in array\n",
    "ones_tensor[0,0] = 3\n",
    "ones_tensor, numpy_tensor"
   ]
  },
  {
   "cell_type": "code",
   "execution_count": 98,
   "id": "313b7ab5-4a82-45c2-8d4f-e3f90e1a1c5a",
   "metadata": {},
   "outputs": [
    {
     "name": "stdout",
     "output_type": "stream",
     "text": [
      "tensor([[0.3325, 0.3530, 0.6534],\n",
      "        [0.8080, 0.7704, 0.1904]])\n",
      "tensor([[0.0192, 0.5834, 0.9673],\n",
      "        [0.6667, 0.3559, 0.9011]])\n",
      "tensor([[False, False, False],\n",
      "        [False, False, False]])\n"
     ]
    }
   ],
   "source": [
    "## Reproducibility ==> Reduce the randomness in random\n",
    "## Random_seed\n",
    "random_tensor_1 = torch.rand(2,3)\n",
    "random_tensor_2 = torch.rand(2,3)\n",
    "print(random_tensor_1)\n",
    "print(random_tensor_2)\n",
    "print(random_tensor_1 == random_tensor_2)"
   ]
  },
  {
   "cell_type": "code",
   "execution_count": 101,
   "id": "ce929ad9-6083-46d4-95ae-cf8d015913f3",
   "metadata": {},
   "outputs": [
    {
     "name": "stdout",
     "output_type": "stream",
     "text": [
      "tensor([[0.4963, 0.7682, 0.0885],\n",
      "        [0.1320, 0.3074, 0.6341]])\n",
      "tensor([[0.4963, 0.7682, 0.0885],\n",
      "        [0.1320, 0.3074, 0.6341]])\n",
      "tensor([[True, True, True],\n",
      "        [True, True, True]])\n"
     ]
    }
   ],
   "source": [
    "## To set randomness in above case we use random_seed, random but reproducible tensor\n",
    "### https://pytorch.org/docs/stable/generated/torch.manual_seed.html\n",
    "### https://pytorch.org/docs/stable/notes/randomness.html\n",
    "torch.manual_seed(0)\n",
    "random_tensor_3 = torch.rand(2,3) ## manual_seed only works for a single block of code\n",
    "torch.manual_seed(0) ## initialise every time if you need randomness\n",
    "random_tensor_4 = torch.rand(2,3)\n",
    "print(random_tensor_3)\n",
    "print(random_tensor_4)\n",
    "print(random_tensor_3 == random_tensor_4)"
   ]
  },
  {
   "cell_type": "code",
   "execution_count": null,
   "id": "9f34d554-16c1-4799-8e38-f0a6af1fef04",
   "metadata": {},
   "outputs": [],
   "source": [
    "## For more pytorch references ==>\n",
    "### https://pytorch.org/tutorials/beginner/ptcheat.html"
   ]
  }
 ],
 "metadata": {
  "kernelspec": {
   "display_name": "Python (task1)",
   "language": "python",
   "name": "task1"
  },
  "language_info": {
   "codemirror_mode": {
    "name": "ipython",
    "version": 3
   },
   "file_extension": ".py",
   "mimetype": "text/x-python",
   "name": "python",
   "nbconvert_exporter": "python",
   "pygments_lexer": "ipython3",
   "version": "3.8.10"
  }
 },
 "nbformat": 4,
 "nbformat_minor": 5
}
