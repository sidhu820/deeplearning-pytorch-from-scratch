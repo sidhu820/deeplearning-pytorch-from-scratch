{
 "cells": [
  {
   "cell_type": "code",
   "execution_count": 3,
   "id": "af5206a1-ca32-447c-a6bc-15f8d8dd5496",
   "metadata": {},
   "outputs": [],
   "source": [
    "import torch\n",
    "import torch.nn as nn"
   ]
  },
  {
   "cell_type": "code",
   "execution_count": 4,
   "id": "25d48dd2-ba3e-4a03-ae23-81943787fe77",
   "metadata": {},
   "outputs": [],
   "source": [
    "class irisClassification(nn.Module):\n",
    "  def __init__(self):\n",
    "    super().__init__()\n",
    "\n",
    "    self.input = nn.Linear(4,8)\n",
    "    self.h1= nn.Linear(8,9)\n",
    "    self.output = nn.Linear(9,3)\n",
    "\n",
    "  def forward(self,x):\n",
    "\n",
    "    x=F.leaky_relu_(self.input(x))\n",
    "    x=F.leaky_relu_(self.h1(x))\n",
    "    x=F.softmax(self.output(x), dim=1)\n",
    "\n",
    "    return x"
   ]
  },
  {
   "cell_type": "code",
   "execution_count": 5,
   "id": "1aba8788-c60a-4afe-a73a-8c8bab1bc375",
   "metadata": {},
   "outputs": [],
   "source": [
    "model = irisClassification()"
   ]
  },
  {
   "cell_type": "code",
   "execution_count": 7,
   "id": "211f588f-88b6-49a5-8684-786e78a9810c",
   "metadata": {},
   "outputs": [],
   "source": [
    "torch.save(model, \"iri.pt\")"
   ]
  },
  {
   "cell_type": "code",
   "execution_count": 1,
   "id": "8e88a3f5-8b71-457b-b6ad-4b46ef761435",
   "metadata": {},
   "outputs": [],
   "source": [
    "import torch"
   ]
  },
  {
   "cell_type": "code",
   "execution_count": 2,
   "id": "0fc50845-2050-4b07-a018-94040e7e86f4",
   "metadata": {},
   "outputs": [],
   "source": [
    "a = torch.tensor(10)"
   ]
  },
  {
   "cell_type": "code",
   "execution_count": 3,
   "id": "e9a8939e-458e-4e08-bdf2-fb34d3a37367",
   "metadata": {},
   "outputs": [
    {
     "data": {
      "text/plain": [
       "tensor(10)"
      ]
     },
     "execution_count": 3,
     "metadata": {},
     "output_type": "execute_result"
    }
   ],
   "source": [
    "a"
   ]
  },
  {
   "cell_type": "code",
   "execution_count": 4,
   "id": "1f7ae9a9-ed14-4ff2-a632-df95c53ae75b",
   "metadata": {},
   "outputs": [
    {
     "data": {
      "text/plain": [
       "torch.int64"
      ]
     },
     "execution_count": 4,
     "metadata": {},
     "output_type": "execute_result"
    }
   ],
   "source": [
    "a.dtype"
   ]
  },
  {
   "cell_type": "code",
   "execution_count": 6,
   "id": "9646616c-52e0-4caf-974e-6a7a6a6815d3",
   "metadata": {},
   "outputs": [],
   "source": [
    "b = torch.tensor([[2, 3], [4, 5]])"
   ]
  },
  {
   "cell_type": "code",
   "execution_count": 7,
   "id": "ac6a8373-9240-4ebc-8f34-6fd38ecc7dd4",
   "metadata": {},
   "outputs": [
    {
     "data": {
      "text/plain": [
       "tensor([[2, 3],\n",
       "        [4, 5]])"
      ]
     },
     "execution_count": 7,
     "metadata": {},
     "output_type": "execute_result"
    }
   ],
   "source": [
    "b"
   ]
  },
  {
   "cell_type": "code",
   "execution_count": 9,
   "id": "dd4bf7c9-50ed-4af6-a255-1cf9e3f814b3",
   "metadata": {},
   "outputs": [
    {
     "data": {
      "text/plain": [
       "(torch.Size([2, 2]), torch.int64)"
      ]
     },
     "execution_count": 9,
     "metadata": {},
     "output_type": "execute_result"
    }
   ],
   "source": [
    "b.shape, b.dtype"
   ]
  },
  {
   "cell_type": "code",
   "execution_count": 21,
   "id": "6425df18-14a1-4daa-8189-21ed8d801386",
   "metadata": {},
   "outputs": [],
   "source": [
    "c = torch.randn(10,2)"
   ]
  },
  {
   "cell_type": "code",
   "execution_count": 22,
   "id": "63af9efd-a1b5-4dd3-99ee-6880b86c542b",
   "metadata": {},
   "outputs": [
    {
     "data": {
      "text/plain": [
       "tensor([[ 0.1142, -0.7415],\n",
       "        [ 1.4289, -0.0058],\n",
       "        [ 0.9456,  0.9037],\n",
       "        [-1.5424,  2.8512],\n",
       "        [-0.8382, -0.2643],\n",
       "        [ 0.5395,  1.4968],\n",
       "        [-0.7613, -0.8783],\n",
       "        [ 0.8348, -1.0864],\n",
       "        [-0.0613,  0.1051],\n",
       "        [ 1.0775,  0.0407]])"
      ]
     },
     "execution_count": 22,
     "metadata": {},
     "output_type": "execute_result"
    }
   ],
   "source": [
    "c"
   ]
  },
  {
   "cell_type": "code",
   "execution_count": null,
   "id": "2e058001-f628-422c-b4c4-e4f8e41fd29c",
   "metadata": {},
   "outputs": [],
   "source": []
  }
 ],
 "metadata": {
  "kernelspec": {
   "display_name": "Python (task1)",
   "language": "python",
   "name": "task1"
  },
  "language_info": {
   "codemirror_mode": {
    "name": "ipython",
    "version": 3
   },
   "file_extension": ".py",
   "mimetype": "text/x-python",
   "name": "python",
   "nbconvert_exporter": "python",
   "pygments_lexer": "ipython3",
   "version": "3.8.10"
  }
 },
 "nbformat": 4,
 "nbformat_minor": 5
}
