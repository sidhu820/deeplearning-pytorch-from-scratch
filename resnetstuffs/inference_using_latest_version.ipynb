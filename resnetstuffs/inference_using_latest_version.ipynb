{
 "cells": [
  {
   "cell_type": "code",
   "execution_count": 1,
   "id": "3e92c107-163c-46ae-a84f-21053ee844c4",
   "metadata": {},
   "outputs": [],
   "source": [
    "import torch\n",
    "import torch.nn as nn\n",
    "import torch.quantization\n",
    "from torchvision import transforms\n",
    "from PIL import Image\n",
    "import torchvision.datasets as datasets\n",
    "import pickle\n",
    "import torchvision\n",
    "from help import helper_functions"
   ]
  },
  {
   "cell_type": "code",
   "execution_count": 2,
   "id": "f7f49455-1497-49b0-87b4-eee98d3541f0",
   "metadata": {},
   "outputs": [],
   "source": [
    "torch.backends.quantized.engine = 'qnnpack'"
   ]
  },
  {
   "cell_type": "code",
   "execution_count": 3,
   "id": "bc2bed52-ff44-414c-bc13-35738e436e30",
   "metadata": {},
   "outputs": [],
   "source": [
    "transform = transforms.Compose([\n",
    "    transforms.Resize(224),\n",
    "    transforms.ToTensor(),\n",
    "    transforms.Normalize((0.5, 0.5, 0.5), (0.5, 0.5, 0.5))\n",
    "])"
   ]
  },
  {
   "cell_type": "code",
   "execution_count": 4,
   "id": "b5e07aad-a4d2-461c-a3e5-061699644ee0",
   "metadata": {},
   "outputs": [
    {
     "name": "stdout",
     "output_type": "stream",
     "text": [
      "cpu\n"
     ]
    }
   ],
   "source": [
    "device = torch.device(\"cuda:0\" if torch.cuda.is_available() else \"cpu\")\n",
    "print(device)\n",
    "model = torch.jit.load('scriptedModel.pth', map_location=device)"
   ]
  },
  {
   "cell_type": "code",
   "execution_count": 5,
   "id": "a71db309-e33f-44ae-8bc7-172d6f343332",
   "metadata": {},
   "outputs": [
    {
     "name": "stdout",
     "output_type": "stream",
     "text": [
      "Files already downloaded and verified\n"
     ]
    }
   ],
   "source": [
    "testset = datasets.CIFAR10(root='./data', train=False,\n",
    "                                        download=True, transform=transform)\n",
    "testloader = torch.utils.data.DataLoader(testset, batch_size=32,\n",
    "                                          shuffle=True, num_workers=2, pin_memory= True)"
   ]
  },
  {
   "cell_type": "code",
   "execution_count": 6,
   "id": "23efe362-580d-484e-9625-18714e00f346",
   "metadata": {},
   "outputs": [
    {
     "name": "stderr",
     "output_type": "stream",
     "text": [
      "/home/tricus/task1/lib/python3.8/site-packages/torch/nn/modules/module.py:1541: UserWarning: Currently, qnnpack incorrectly ignores reduce_range when it is set to true; this may change in a future release. (Triggered internally at ../aten/src/ATen/native/quantized/cpu/qlinear_dynamic.cpp:247.)\n",
      "  return forward_call(*args, **kwargs)\n"
     ]
    },
    {
     "name": "stdout",
     "output_type": "stream",
     "text": [
      "Accuracy of the network on the 10000 test images: 84 %\n",
      " Evaluation time :287.161\n"
     ]
    }
   ],
   "source": [
    "helper_functions.test(model,testloader, device)"
   ]
  },
  {
   "cell_type": "code",
   "execution_count": 3,
   "id": "cfc46675-2b01-4035-9370-2c61a4365b74",
   "metadata": {},
   "outputs": [
    {
     "name": "stdout",
     "output_type": "stream",
     "text": [
      "Predicted class: frog, Actual class: frog\n",
      "Predicted class: dog, Actual class: dog\n",
      "Predicted class: bird, Actual class: deer\n",
      "Predicted class: dog, Actual class: dog\n",
      "Predicted class: truck, Actual class: truck\n",
      "Predicted class: automobile, Actual class: bird\n",
      "Predicted class: deer, Actual class: deer\n",
      "Predicted class: automobile, Actual class: automobile\n",
      "Predicted class: truck, Actual class: truck\n",
      "Predicted class: dog, Actual class: dog\n"
     ]
    }
   ],
   "source": [
    "import torch\n",
    "import torch.nn as nn\n",
    "import torch.quantization\n",
    "from torchvision import transforms\n",
    "from PIL import Image\n",
    "import torchvision.datasets as datasets\n",
    "import pickle\n",
    "\n",
    "\n",
    "\n",
    "\n",
    "transform = transforms.Compose([\n",
    "    transforms.ToPILImage(),\n",
    "])\n",
    "\n",
    "device = torch.device(\"cuda:0\" if torch.cuda.is_available() else \"cpu\")\n",
    "\n",
    "model = torch.jit.load(\"model.pth\", map_location= 'cpu')\n",
    "\n",
    "\n",
    "filename = 'testset_subset_3.pkl'\n",
    "with open(filename, 'rb') as f:\n",
    "    testset = pickle.load(f)\n",
    "testset_classes = [\n",
    "    'airplane', 'automobile', 'bird', 'cat', 'deer',\n",
    "    'dog', 'frog', 'horse', 'ship', 'truck'\n",
    "]\n",
    "\n",
    "#img, label = testset[9]\n",
    "\n",
    "\n",
    "\n",
    "for img, label in testset:\n",
    "    model.eval()\n",
    "    # img_pil = transform(img)  # Convert to PIL Image\n",
    "    # print(f\"Image shape after ToPILImage: {img_pil.size}\")\n",
    "    img = img.unsqueeze(0)\n",
    "\n",
    "    with torch.no_grad():\n",
    "        output = model(img)\n",
    "        _, predicted = torch.max(output, 1)\n",
    "        print(f\"Predicted class: {testset_classes[predicted.item()]}, Actual class: {testset_classes[label]}\")"
   ]
  },
  {
   "cell_type": "code",
   "execution_count": null,
   "id": "651c14a0-8da4-4654-adff-6771f476d9c8",
   "metadata": {},
   "outputs": [],
   "source": []
  }
 ],
 "metadata": {
  "kernelspec": {
   "display_name": "Python (task1)",
   "language": "python",
   "name": "task1"
  },
  "language_info": {
   "codemirror_mode": {
    "name": "ipython",
    "version": 3
   },
   "file_extension": ".py",
   "mimetype": "text/x-python",
   "name": "python",
   "nbconvert_exporter": "python",
   "pygments_lexer": "ipython3",
   "version": "3.8.10"
  }
 },
 "nbformat": 4,
 "nbformat_minor": 5
}
