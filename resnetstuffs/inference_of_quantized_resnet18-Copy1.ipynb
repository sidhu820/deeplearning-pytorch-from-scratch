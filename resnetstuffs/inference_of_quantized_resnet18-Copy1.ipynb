{
 "cells": [
  {
   "cell_type": "code",
   "execution_count": 1,
   "id": "4ba12be7-a66c-4a90-b7ef-45ee932938ad",
   "metadata": {},
   "outputs": [],
   "source": [
    "import torch\n",
    "import torch.nn as nn\n",
    "import torch.quantization\n",
    "from torchvision import transforms\n",
    "from PIL import Image\n",
    "import torchvision.datasets as datasets\n",
    "import matplotlib.pyplot as plt"
   ]
  },
  {
   "cell_type": "code",
   "execution_count": 2,
   "id": "6105bb6e-b8f3-42bd-af29-7666a2d0bb7b",
   "metadata": {},
   "outputs": [],
   "source": [
    "transform = transforms.Compose([\n",
    "    transforms.Resize((224, 224)),\n",
    "    transforms.ToTensor(),\n",
    "    transforms.Normalize((0.5, 0.5, 0.5), (0.5, 0.5, 0.5))\n",
    "])"
   ]
  },
  {
   "cell_type": "code",
   "execution_count": 3,
   "id": "8fa4643e-6774-4f06-9813-4300c5ad2a58",
   "metadata": {},
   "outputs": [
    {
     "name": "stdout",
     "output_type": "stream",
     "text": [
      "Files already downloaded and verified\n"
     ]
    },
    {
     "data": {
      "text/plain": [
       "10"
      ]
     },
     "execution_count": 3,
     "metadata": {},
     "output_type": "execute_result"
    }
   ],
   "source": [
    "from torch.utils.data import Subset\n",
    "indices = list(range(10, 20))\n",
    "\n",
    "testset = datasets.CIFAR10(root='./data', train=False,\n",
    "                                        download=True, transform=transform)\n",
    "testset_subset = Subset(testset, indices)\n",
    "len(testset_subset)"
   ]
  },
  {
   "cell_type": "code",
   "execution_count": 4,
   "id": "1f0a70dc-d9ed-4b34-95dc-e99f3615aa8c",
   "metadata": {},
   "outputs": [],
   "source": [
    "import pickle\n",
    "\n",
    "# Define a filename for saving\n",
    "filename = 'testset_subset_2.pkl'\n",
    "\n",
    "# Save testset_subset using pickle\n",
    "with open(filename, 'wb') as f:\n",
    "    pickle.dump(testset_subset, f)"
   ]
  },
  {
   "cell_type": "code",
   "execution_count": 7,
   "id": "2f19772d-22e3-4c8e-83f6-cdc753643cbf",
   "metadata": {},
   "outputs": [],
   "source": [
    "# import pickle\n",
    "\n",
    "# # Define the filename you saved the subset to\n",
    "# filename = 'testset_subset.pkl'\n",
    "\n",
    "# # Load testset_subset using pickle\n",
    "# with open(filename, 'rb') as f:\n",
    "#     testset = pickle.load(f)\n",
    "# testset_classes = [\n",
    "#     'airplane', 'automobile', 'bird', 'cat', 'deer',\n",
    "#     'dog', 'frog', 'horse', 'ship', 'truck'\n",
    "# ]"
   ]
  }
 ],
 "metadata": {
  "kernelspec": {
   "display_name": "Python (task1)",
   "language": "python",
   "name": "task1"
  },
  "language_info": {
   "codemirror_mode": {
    "name": "ipython",
    "version": 3
   },
   "file_extension": ".py",
   "mimetype": "text/x-python",
   "name": "python",
   "nbconvert_exporter": "python",
   "pygments_lexer": "ipython3",
   "version": "3.8.10"
  }
 },
 "nbformat": 4,
 "nbformat_minor": 5
}
