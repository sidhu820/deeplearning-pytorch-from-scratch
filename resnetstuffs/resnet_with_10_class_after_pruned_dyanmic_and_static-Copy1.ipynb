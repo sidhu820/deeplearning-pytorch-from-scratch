{
 "cells": [
  {
   "cell_type": "code",
   "execution_count": 1,
   "id": "4106f85e-0e5e-4bd0-93b9-a63bae047ab3",
   "metadata": {},
   "outputs": [],
   "source": [
    "import torch\n",
    "import torchvision\n",
    "import torchvision.transforms as transforms\n",
    "import torch.nn as nn\n",
    "import torch.nn.functional as F\n",
    "import torch.optim as optim\n",
    "import torchvision.datasets as datasets\n",
    "import torchvision.models.quantization as models\n",
    "import torch.nn.utils.prune as prune\n",
    "import os\n",
    "import copy\n",
    "import torchsummary\n",
    "import help\n",
    "from help import helper_functions\n",
    "from timeit import default_timer as timer"
   ]
  },
  {
   "cell_type": "code",
   "execution_count": 2,
   "id": "9ef90f0d-55cb-4cf8-a14c-27b0acfff574",
   "metadata": {},
   "outputs": [
    {
     "data": {
      "text/plain": [
       "('2.3.1+cpu', '0.18.1+cpu')"
      ]
     },
     "execution_count": 2,
     "metadata": {},
     "output_type": "execute_result"
    }
   ],
   "source": [
    "torch.__version__, torchvision.__version__"
   ]
  },
  {
   "cell_type": "code",
   "execution_count": 3,
   "id": "19e0a831-18d3-41a7-96f9-5e4acd426290",
   "metadata": {},
   "outputs": [],
   "source": [
    "transform = transforms.Compose([\n",
    "    transforms.Resize(224),\n",
    "    transforms.ToTensor(),\n",
    "    transforms.Normalize((0.5, 0.5, 0.5), (0.5, 0.5, 0.5))\n",
    "])"
   ]
  },
  {
   "cell_type": "code",
   "execution_count": 4,
   "id": "59ecf338-074d-49ec-9b05-c14ea1d85e08",
   "metadata": {},
   "outputs": [
    {
     "name": "stdout",
     "output_type": "stream",
     "text": [
      "Files already downloaded and verified\n",
      "Files already downloaded and verified\n"
     ]
    }
   ],
   "source": [
    "trainset = datasets.CIFAR10(root='./data', train=True,\n",
    "                                        download=True, transform=transform)\n",
    "trainloader = torch.utils.data.DataLoader(trainset, batch_size=64,\n",
    "                                          shuffle=True, num_workers=16, pin_memory=True)\n",
    "\n",
    "testset = datasets.CIFAR10(root='./data', train=False,\n",
    "                                        download=True, transform=transform)\n",
    "testloader = torch.utils.data.DataLoader(testset, batch_size=32,\n",
    "                                          shuffle=True, num_workers=16, pin_memory= True)"
   ]
  },
  {
   "cell_type": "code",
   "execution_count": 5,
   "id": "a7d2d6ec-aca8-467a-9eb8-a71932441e0b",
   "metadata": {},
   "outputs": [
    {
     "data": {
      "text/plain": [
       "device(type='cpu')"
      ]
     },
     "execution_count": 5,
     "metadata": {},
     "output_type": "execute_result"
    }
   ],
   "source": [
    "device = torch.device(\"cuda:0\" if torch.cuda.is_available() else \"cpu\")\n",
    "device"
   ]
  },
  {
   "cell_type": "code",
   "execution_count": 6,
   "id": "623a92b6-c30c-47aa-aca1-0c4beaf86628",
   "metadata": {},
   "outputs": [],
   "source": [
    "class BasicBlock(nn.Module):\n",
    "    def __init__(self, in_channels, out_channels, identity_downsample= None, stride= 1):\n",
    "        super().__init__()\n",
    "\n",
    "        \n",
    "        self.conv1 = nn.Conv2d(in_channels, out_channels, kernel_size= 3, stride= stride, padding= 1)\n",
    "        self.bn1 = nn.BatchNorm2d(out_channels)\n",
    "        self.conv2 = nn.Conv2d(out_channels, out_channels, kernel_size= 3,padding=1)\n",
    "        self.bn2 = nn.BatchNorm2d(out_channels)\n",
    "        self.relu = nn.ReLU(inplace= True)\n",
    "        self.identity_downsample = identity_downsample\n",
    "        self.skip_add = nn.quantized.FloatFunctional()\n",
    "\n",
    "    def forward(self, x):\n",
    "        identity = x\n",
    "\n",
    "        x = self.conv1(x)\n",
    "        x = self.bn1(x)\n",
    "        x = self.relu(x)\n",
    "        x = self.conv2(x)\n",
    "        x = self.bn2(x)\n",
    "        # x = self.relu(x)\n",
    "\n",
    "        if self.identity_downsample is not None:\n",
    "            identity = self.identity_downsample(identity)\n",
    "\n",
    "        # x += identity\n",
    "        x = self.skip_add.add(x, identity)\n",
    "        x = self.relu(x)\n",
    "        return x\n",
    "\n",
    "\n",
    "class ResNet(nn.Module):\n",
    "    def __init__(self, BasicBlock, layers, image_channels, num_classes):\n",
    "        super().__init__()\n",
    "        self.in_channels = 64\n",
    "        self.conv1 = nn.Conv2d(image_channels, 64, kernel_size= 7, stride= 2, padding= 3)\n",
    "        self.bn1 = nn.BatchNorm2d(64)\n",
    "        self.relu = nn.ReLU(inplace= True)\n",
    "        self.maxpool = nn.MaxPool2d(kernel_size= 3, stride= 2, padding= 1)\n",
    "\n",
    "        self.layer1 = self._make_layer(BasicBlock, layers[0], out_channels= 64, stride= 1)\n",
    "        self.layer2 = self._make_layer(BasicBlock, layers[1], out_channels= 128, stride= 2)\n",
    "        self.layer3 = self._make_layer(BasicBlock, layers[2], out_channels= 256, stride= 2)\n",
    "        self.layer4 = self._make_layer(BasicBlock, layers[3], out_channels= 512, stride= 2)\n",
    "\n",
    "        self.avgpool = nn.AdaptiveAvgPool2d((1,1))\n",
    "        self.fc = nn.Linear(512, num_classes)\n",
    "        self.quant = torch.quantization.QuantStub()\n",
    "        self.dequant = torch.quantization.DeQuantStub()\n",
    "\n",
    "    def forward(self, x):\n",
    "        # print(x.shape)\n",
    "        x = self.quant(x)\n",
    "        x = self.conv1(x)\n",
    "        # print(x.shape)\n",
    "        x = self.bn1(x)\n",
    "        # print(x.shape)\n",
    "        x = self.relu(x)\n",
    "        x = self.maxpool(x)\n",
    "\n",
    "        x = self.layer1(x)\n",
    "        x = self.layer2(x)\n",
    "        x = self.layer3(x)\n",
    "        x = self.layer4(x)\n",
    "    \n",
    "        x = self.avgpool(x)\n",
    "        x = self.dequant(x)\n",
    "        x = x.reshape(x.shape[0], -1)\n",
    "        x = self.fc(x)\n",
    "        \n",
    "\n",
    "        return x\n",
    "\n",
    "\n",
    "    def _make_layer(self, BasicBlock, num_residual_blocks, out_channels, stride):\n",
    "        identity_downsample = None\n",
    "        layers = []\n",
    "        if stride != 1 or self.in_channels != out_channels:\n",
    "            identity_downsample = nn.Sequential(nn.Conv2d(self.in_channels, out_channels , kernel_size= 1, stride= stride),\n",
    "                                               nn.BatchNorm2d(out_channels))\n",
    "        layers.append(BasicBlock(self.in_channels, out_channels, identity_downsample, stride))\n",
    "        self.in_channels = out_channels\n",
    "\n",
    "        for i in range(num_residual_blocks - 1):\n",
    "            layers.append(BasicBlock(self.in_channels, out_channels))\n",
    "\n",
    "        return nn.Sequential(*layers)\n",
    "\n",
    "def ResNet18(img_channels= 3, num_classes= 10):\n",
    "    return ResNet(BasicBlock, [2, 2, 2, 2], img_channels, num_classes)\n"
   ]
  },
  {
   "cell_type": "code",
   "execution_count": 7,
   "id": "05ea4d9a-5930-4c33-8ae5-333e731d974f",
   "metadata": {},
   "outputs": [
    {
     "name": "stdout",
     "output_type": "stream",
     "text": [
      "ResNet(\n",
      "  (conv1): Conv2d(3, 64, kernel_size=(7, 7), stride=(2, 2), padding=(3, 3))\n",
      "  (bn1): BatchNorm2d(64, eps=1e-05, momentum=0.1, affine=True, track_running_stats=True)\n",
      "  (relu): ReLU(inplace=True)\n",
      "  (maxpool): MaxPool2d(kernel_size=3, stride=2, padding=1, dilation=1, ceil_mode=False)\n",
      "  (layer1): Sequential(\n",
      "    (0): BasicBlock(\n",
      "      (conv1): Conv2d(64, 64, kernel_size=(3, 3), stride=(1, 1), padding=(1, 1))\n",
      "      (bn1): BatchNorm2d(64, eps=1e-05, momentum=0.1, affine=True, track_running_stats=True)\n",
      "      (conv2): Conv2d(64, 64, kernel_size=(3, 3), stride=(1, 1), padding=(1, 1))\n",
      "      (bn2): BatchNorm2d(64, eps=1e-05, momentum=0.1, affine=True, track_running_stats=True)\n",
      "      (relu): ReLU(inplace=True)\n",
      "      (skip_add): FloatFunctional(\n",
      "        (activation_post_process): Identity()\n",
      "      )\n",
      "    )\n",
      "    (1): BasicBlock(\n",
      "      (conv1): Conv2d(64, 64, kernel_size=(3, 3), stride=(1, 1), padding=(1, 1))\n",
      "      (bn1): BatchNorm2d(64, eps=1e-05, momentum=0.1, affine=True, track_running_stats=True)\n",
      "      (conv2): Conv2d(64, 64, kernel_size=(3, 3), stride=(1, 1), padding=(1, 1))\n",
      "      (bn2): BatchNorm2d(64, eps=1e-05, momentum=0.1, affine=True, track_running_stats=True)\n",
      "      (relu): ReLU(inplace=True)\n",
      "      (skip_add): FloatFunctional(\n",
      "        (activation_post_process): Identity()\n",
      "      )\n",
      "    )\n",
      "  )\n",
      "  (layer2): Sequential(\n",
      "    (0): BasicBlock(\n",
      "      (conv1): Conv2d(64, 128, kernel_size=(3, 3), stride=(2, 2), padding=(1, 1))\n",
      "      (bn1): BatchNorm2d(128, eps=1e-05, momentum=0.1, affine=True, track_running_stats=True)\n",
      "      (conv2): Conv2d(128, 128, kernel_size=(3, 3), stride=(1, 1), padding=(1, 1))\n",
      "      (bn2): BatchNorm2d(128, eps=1e-05, momentum=0.1, affine=True, track_running_stats=True)\n",
      "      (relu): ReLU(inplace=True)\n",
      "      (identity_downsample): Sequential(\n",
      "        (0): Conv2d(64, 128, kernel_size=(1, 1), stride=(2, 2))\n",
      "        (1): BatchNorm2d(128, eps=1e-05, momentum=0.1, affine=True, track_running_stats=True)\n",
      "      )\n",
      "      (skip_add): FloatFunctional(\n",
      "        (activation_post_process): Identity()\n",
      "      )\n",
      "    )\n",
      "    (1): BasicBlock(\n",
      "      (conv1): Conv2d(128, 128, kernel_size=(3, 3), stride=(1, 1), padding=(1, 1))\n",
      "      (bn1): BatchNorm2d(128, eps=1e-05, momentum=0.1, affine=True, track_running_stats=True)\n",
      "      (conv2): Conv2d(128, 128, kernel_size=(3, 3), stride=(1, 1), padding=(1, 1))\n",
      "      (bn2): BatchNorm2d(128, eps=1e-05, momentum=0.1, affine=True, track_running_stats=True)\n",
      "      (relu): ReLU(inplace=True)\n",
      "      (skip_add): FloatFunctional(\n",
      "        (activation_post_process): Identity()\n",
      "      )\n",
      "    )\n",
      "  )\n",
      "  (layer3): Sequential(\n",
      "    (0): BasicBlock(\n",
      "      (conv1): Conv2d(128, 256, kernel_size=(3, 3), stride=(2, 2), padding=(1, 1))\n",
      "      (bn1): BatchNorm2d(256, eps=1e-05, momentum=0.1, affine=True, track_running_stats=True)\n",
      "      (conv2): Conv2d(256, 256, kernel_size=(3, 3), stride=(1, 1), padding=(1, 1))\n",
      "      (bn2): BatchNorm2d(256, eps=1e-05, momentum=0.1, affine=True, track_running_stats=True)\n",
      "      (relu): ReLU(inplace=True)\n",
      "      (identity_downsample): Sequential(\n",
      "        (0): Conv2d(128, 256, kernel_size=(1, 1), stride=(2, 2))\n",
      "        (1): BatchNorm2d(256, eps=1e-05, momentum=0.1, affine=True, track_running_stats=True)\n",
      "      )\n",
      "      (skip_add): FloatFunctional(\n",
      "        (activation_post_process): Identity()\n",
      "      )\n",
      "    )\n",
      "    (1): BasicBlock(\n",
      "      (conv1): Conv2d(256, 256, kernel_size=(3, 3), stride=(1, 1), padding=(1, 1))\n",
      "      (bn1): BatchNorm2d(256, eps=1e-05, momentum=0.1, affine=True, track_running_stats=True)\n",
      "      (conv2): Conv2d(256, 256, kernel_size=(3, 3), stride=(1, 1), padding=(1, 1))\n",
      "      (bn2): BatchNorm2d(256, eps=1e-05, momentum=0.1, affine=True, track_running_stats=True)\n",
      "      (relu): ReLU(inplace=True)\n",
      "      (skip_add): FloatFunctional(\n",
      "        (activation_post_process): Identity()\n",
      "      )\n",
      "    )\n",
      "  )\n",
      "  (layer4): Sequential(\n",
      "    (0): BasicBlock(\n",
      "      (conv1): Conv2d(256, 512, kernel_size=(3, 3), stride=(2, 2), padding=(1, 1))\n",
      "      (bn1): BatchNorm2d(512, eps=1e-05, momentum=0.1, affine=True, track_running_stats=True)\n",
      "      (conv2): Conv2d(512, 512, kernel_size=(3, 3), stride=(1, 1), padding=(1, 1))\n",
      "      (bn2): BatchNorm2d(512, eps=1e-05, momentum=0.1, affine=True, track_running_stats=True)\n",
      "      (relu): ReLU(inplace=True)\n",
      "      (identity_downsample): Sequential(\n",
      "        (0): Conv2d(256, 512, kernel_size=(1, 1), stride=(2, 2))\n",
      "        (1): BatchNorm2d(512, eps=1e-05, momentum=0.1, affine=True, track_running_stats=True)\n",
      "      )\n",
      "      (skip_add): FloatFunctional(\n",
      "        (activation_post_process): Identity()\n",
      "      )\n",
      "    )\n",
      "    (1): BasicBlock(\n",
      "      (conv1): Conv2d(512, 512, kernel_size=(3, 3), stride=(1, 1), padding=(1, 1))\n",
      "      (bn1): BatchNorm2d(512, eps=1e-05, momentum=0.1, affine=True, track_running_stats=True)\n",
      "      (conv2): Conv2d(512, 512, kernel_size=(3, 3), stride=(1, 1), padding=(1, 1))\n",
      "      (bn2): BatchNorm2d(512, eps=1e-05, momentum=0.1, affine=True, track_running_stats=True)\n",
      "      (relu): ReLU(inplace=True)\n",
      "      (skip_add): FloatFunctional(\n",
      "        (activation_post_process): Identity()\n",
      "      )\n",
      "    )\n",
      "  )\n",
      "  (avgpool): AdaptiveAvgPool2d(output_size=(1, 1))\n",
      "  (fc): Linear(in_features=512, out_features=10, bias=True)\n",
      "  (quant): QuantStub()\n",
      "  (dequant): DeQuantStub()\n",
      ")\n"
     ]
    }
   ],
   "source": [
    "model = ResNet18()\n",
    "print(model)"
   ]
  },
  {
   "cell_type": "code",
   "execution_count": 15,
   "id": "69796c6f-c906-4120-9ac0-86efb2fedf3a",
   "metadata": {},
   "outputs": [
    {
     "name": "stdout",
     "output_type": "stream",
     "text": [
      "\n",
      "conv1\n",
      "bn1\n",
      "relu\n",
      "maxpool\n",
      "layer1\n",
      "layer1.0\n",
      "layer1.0.conv1\n",
      "layer1.0.bn1\n",
      "layer1.0.conv2\n",
      "layer1.0.bn2\n",
      "layer1.0.relu\n",
      "layer1.0.skip_add\n",
      "layer1.0.skip_add.activation_post_process\n",
      "layer1.1\n",
      "layer1.1.conv1\n",
      "layer1.1.bn1\n",
      "layer1.1.conv2\n",
      "layer1.1.bn2\n",
      "layer1.1.relu\n",
      "layer1.1.skip_add\n",
      "layer1.1.skip_add.activation_post_process\n",
      "layer2\n",
      "layer2.0\n",
      "layer2.0.conv1\n",
      "layer2.0.bn1\n",
      "layer2.0.conv2\n",
      "layer2.0.bn2\n",
      "layer2.0.relu\n",
      "layer2.0.identity_downsample\n",
      "layer2.0.identity_downsample.0\n",
      "layer2.0.identity_downsample.1\n",
      "layer2.0.skip_add\n",
      "layer2.0.skip_add.activation_post_process\n",
      "layer2.1\n",
      "layer2.1.conv1\n",
      "layer2.1.bn1\n",
      "layer2.1.conv2\n",
      "layer2.1.bn2\n",
      "layer2.1.relu\n",
      "layer2.1.skip_add\n",
      "layer2.1.skip_add.activation_post_process\n",
      "layer3\n",
      "layer3.0\n",
      "layer3.0.conv1\n",
      "layer3.0.bn1\n",
      "layer3.0.conv2\n",
      "layer3.0.bn2\n",
      "layer3.0.relu\n",
      "layer3.0.identity_downsample\n",
      "layer3.0.identity_downsample.0\n",
      "layer3.0.identity_downsample.1\n",
      "layer3.0.skip_add\n",
      "layer3.0.skip_add.activation_post_process\n",
      "layer3.1\n",
      "layer3.1.conv1\n",
      "layer3.1.bn1\n",
      "layer3.1.conv2\n",
      "layer3.1.bn2\n",
      "layer3.1.relu\n",
      "layer3.1.skip_add\n",
      "layer3.1.skip_add.activation_post_process\n",
      "layer4\n",
      "layer4.0\n",
      "layer4.0.conv1\n",
      "layer4.0.bn1\n",
      "layer4.0.conv2\n",
      "layer4.0.bn2\n",
      "layer4.0.relu\n",
      "layer4.0.identity_downsample\n",
      "layer4.0.identity_downsample.0\n",
      "layer4.0.identity_downsample.1\n",
      "layer4.0.skip_add\n",
      "layer4.0.skip_add.activation_post_process\n",
      "layer4.1\n",
      "layer4.1.conv1\n",
      "layer4.1.bn1\n",
      "layer4.1.conv2\n",
      "layer4.1.bn2\n",
      "layer4.1.relu\n",
      "layer4.1.skip_add\n",
      "layer4.1.skip_add.activation_post_process\n",
      "avgpool\n",
      "fc\n",
      "quant\n",
      "dequant\n"
     ]
    }
   ],
   "source": [
    "for  name,_ in model.named_modules():\n",
    "    print(name)"
   ]
  },
  {
   "cell_type": "code",
   "execution_count": 8,
   "id": "b05685a1-d781-459c-b78e-7a6990afb392",
   "metadata": {},
   "outputs": [
    {
     "name": "stdout",
     "output_type": "stream",
     "text": [
      "The number of non-zero parameters : 11186442\n",
      "The number of zero parameters : 4801\n"
     ]
    }
   ],
   "source": [
    "helper_functions.count_nonzero_params(model)"
   ]
  },
  {
   "cell_type": "code",
   "execution_count": 9,
   "id": "36a53232-e942-442f-9863-3beff18e4460",
   "metadata": {},
   "outputs": [
    {
     "data": {
      "text/plain": [
       "<All keys matched successfully>"
      ]
     },
     "execution_count": 9,
     "metadata": {},
     "output_type": "execute_result"
    }
   ],
   "source": [
    "model.load_state_dict(torch.load('resnet_with_10_class.pth', map_location=device))"
   ]
  },
  {
   "cell_type": "code",
   "execution_count": 10,
   "id": "1d91f0b2-ef1a-492d-8ef7-06074b299d6e",
   "metadata": {},
   "outputs": [
    {
     "name": "stdout",
     "output_type": "stream",
     "text": [
      "The number of non-zero parameters : 11186442\n",
      "The number of zero parameters : 1117203\n"
     ]
    }
   ],
   "source": [
    "helper_functions.count_nonzero_params(model)"
   ]
  },
  {
   "cell_type": "code",
   "execution_count": null,
   "id": "c09d0007-b578-4cb8-b877-7b2979835f06",
   "metadata": {},
   "outputs": [],
   "source": [
    "helper_functions.test(model, testloader, device)"
   ]
  },
  {
   "cell_type": "code",
   "execution_count": null,
   "id": "cb82fa21-fc27-469f-a57b-5b799bfb9d2d",
   "metadata": {},
   "outputs": [],
   "source": [
    "helper_functions.print_size_of_model(model)"
   ]
  },
  {
   "cell_type": "code",
   "execution_count": null,
   "id": "979ed4bc-72bc-4edc-9c40-8f5df1865bb9",
   "metadata": {},
   "outputs": [],
   "source": [
    "def fuse_model_layers(model):\n",
    "    for name, module in model.named_children():\n",
    "        if isinstance(module, nn.Conv2d) or isinstance(module, nn.Linear):\n",
    "            # Fuse Conv2d and BatchNorm2d\n",
    "            if hasattr(module, 'bn'):\n",
    "                torch.quantization.fuse_modules(module, ['weight', 'bias', 'bn.weight', 'bn.bias', 'bn.running_mean', 'bn.running_var'], inplace=True)\n",
    "        elif isinstance(module, nn.BatchNorm2d):\n",
    "            # Fuse BatchNorm2d\n",
    "            if hasattr(model, 'conv'):\n",
    "                torch.quantization.fuse_modules(model, [name, 'conv'], inplace=True)\n"
   ]
  },
  {
   "cell_type": "code",
   "execution_count": null,
   "id": "228c0db6-b498-4d2b-8d74-29263bfbfae5",
   "metadata": {},
   "outputs": [],
   "source": [
    "dynamic_quantized = torch.quantization.quantize_dynamic(model, {nn.Linear}, dtype=torch.qint8 )"
   ]
  },
  {
   "cell_type": "code",
   "execution_count": null,
   "id": "67054183-6826-4d92-9e4b-1e8d1d64dea1",
   "metadata": {
    "scrolled": true
   },
   "outputs": [],
   "source": [
    "helper_functions.test(dynamic_quantized, testloader, device)"
   ]
  },
  {
   "cell_type": "code",
   "execution_count": null,
   "id": "44b4fbc4-7b28-4397-b992-8154c9d6107a",
   "metadata": {},
   "outputs": [],
   "source": [
    "helper_functions.print_size_of_model(dynamic_quantized)"
   ]
  },
  {
   "cell_type": "code",
   "execution_count": null,
   "id": "9a991f06-f62f-4140-8ffb-800b1a9dda94",
   "metadata": {},
   "outputs": [],
   "source": [
    "# model.eval()\n",
    "# # modules_to_fuse =   [  ['conv1', 'bn1', 'relu'],\n",
    "# #     ['layer1.0.conv1', 'layer1.0.bn1', 'layer1.0.relu'],\n",
    "# #     ['layer1.0.conv2', 'layer1.0.bn2'],\n",
    "# #     ['layer1.1.conv1', 'layer1.1.bn1', 'layer1.1.relu'],\n",
    "# #     ['layer1.1.conv2', 'layer1.1.bn2'],\n",
    "# #     ['layer2.0.conv1', 'layer2.0.bn1', 'layer2.0.relu'],\n",
    "# #     ['layer2.0.conv2', 'layer2.0.bn2'],\n",
    "# #     ['layer2.0.identity_downsample.0', 'layer2.0.identity_downsample.1'],\n",
    "# #     ['layer2.1.conv1', 'layer2.1.bn1', 'layer2.1.relu'],\n",
    "# #     ['layer2.1.conv2', 'layer2.1.bn2'],\n",
    "# #     ['layer3.0.conv1', 'layer3.0.bn1', 'layer3.0.relu'],\n",
    "# #     ['layer3.0.conv2', 'layer3.0.bn2'],\n",
    "# #     ['layer3.0.identity_downsample.0', 'layer3.0.identity_downsample.1'],\n",
    "# #     ['layer3.1.conv1', 'layer3.1.bn1', 'layer3.1.relu'],\n",
    "# #     ['layer3.1.conv2', 'layer3.1.bn2'],\n",
    "# #     ['layer4.0.conv1', 'layer4.0.bn1', 'layer4.0.relu'],\n",
    "# #     ['layer4.0.conv2', 'layer4.0.bn2'],\n",
    "# #     ['layer4.0.identity_downsample.0', 'layer4.0.identity_downsample.1'],\n",
    "# #     ['layer4.1.conv1', 'layer4.1.bn1', 'layer4.1.relu'],\n",
    "# #     ['layer4.1.conv2', 'layer4.1.bn2'],\n",
    "# # ]\n",
    "\n",
    "# modules_to_fuse = [\n",
    "#     ['conv1', 'bn1', 'relu'],\n",
    "#     ['layer1.0.conv2', 'layer1.0.bn2'],\n",
    "#     ['layer2.0.identity_downsample.0', 'layer2.0.identity_downsample.1'],\n",
    "#     ['layer2.1.conv1', 'layer2.1.bn1', 'layer2.1.relu'],\n",
    "#     ['layer2.1.conv2', 'layer2.1.bn2'],\n",
    "#     ['layer3.0.identity_downsample.0', 'layer3.0.identity_downsample.1'],\n",
    "#     ['layer3.1.conv1', 'layer3.1.bn1', 'layer3.1.relu'],\n",
    "   \n",
    "# ]\n",
    "modules_to_fuse = [['conv1', 'bn1'],\n",
    "                   ['layer1.0.conv1', 'layer1.0.bn1'],\n",
    "                   ['layer1.0.conv2', 'layer1.0.bn2'],\n",
    "                   ['layer1.1.conv1', 'layer1.1.bn1'],\n",
    "                   ['layer1.1.conv2', 'layer1.1.bn2'],\n",
    "                   ['layer2.0.conv1', 'layer2.0.bn1'],\n",
    "                   ['layer2.0.conv2', 'layer2.0.bn2'],\n",
    "                   ['layer2.0.identity_downsample.0', 'layer2.0.identity_downsample.1'],\n",
    "                   ['layer2.1.conv1', 'layer2.1.bn1'],\n",
    "                   ['layer2.1.conv2', 'layer2.1.bn2'],\n",
    "                   ['layer3.0.conv1', 'layer3.0.bn1'],\n",
    "                   ['layer3.0.conv2', 'layer3.0.bn2'],\n",
    "                   ['layer3.0.identity_downsample.0', 'layer3.0.identity_downsample.1'],\n",
    "                   ['layer3.1.conv1', 'layer3.1.bn1'],\n",
    "                   ['layer3.1.conv2', 'layer3.1.bn2'],\n",
    "                   ['layer4.0.conv1', 'layer4.0.bn1'],\n",
    "                   ['layer4.0.conv2', 'layer4.0.bn2'],\n",
    "                   ['layer4.0.identity_downsample.0', 'layer4.0.identity_downsample.1'],\n",
    "                   ['layer4.1.conv1', 'layer4.1.bn1'],\n",
    "                   ['layer4.1.conv2', 'layer4.1.bn2']]\n",
    "\n",
    "\n",
    "dynamic_quantized = torch.quantization.fuse_modules(dynamic_quantized, modules_to_fuse)\n",
    "\n",
    "# fuse_model_layers(dynamic_quantized)"
   ]
  },
  {
   "cell_type": "code",
   "execution_count": null,
   "id": "978bcfb8-586a-4d74-94c7-deff429af107",
   "metadata": {},
   "outputs": [],
   "source": [
    "backend = \"qnnpack\"\n",
    "dynamic_quantized.qconfig = torch.quantization.get_default_qconfig(backend)\n",
    "torch.backends.quantized.engine = backend\n",
    "static_quantized = torch.quantization.prepare(dynamic_quantized, inplace=True)\n",
    "# dynamic_quantized.qconfig = torch.quantization.default_qconfig\n",
    "# static_quantized = torch.quantization.prepare(dynamic_quantized, inplace=True)"
   ]
  },
  {
   "cell_type": "code",
   "execution_count": null,
   "id": "c0694b68-edac-497d-8b83-482958a40798",
   "metadata": {},
   "outputs": [],
   "source": [
    "small_test_data = helper_functions.slice_dataloader(testloader, 0, 1000)"
   ]
  },
  {
   "cell_type": "code",
   "execution_count": null,
   "id": "38a5b846-1777-4d0c-9631-69705d4d62f3",
   "metadata": {},
   "outputs": [],
   "source": [
    "helper_functions.caliberate(static_quantized,small_test_data, device)"
   ]
  },
  {
   "cell_type": "code",
   "execution_count": null,
   "id": "ef1dca1e-9820-41da-a806-5ede9911843d",
   "metadata": {},
   "outputs": [],
   "source": [
    "torch.quantization.convert(static_quantized, inplace=True)"
   ]
  },
  {
   "cell_type": "code",
   "execution_count": null,
   "id": "75d1a606-715f-44b2-8ce5-99f5d68ff14f",
   "metadata": {},
   "outputs": [],
   "source": [
    "helper_functions.test(static_quantized, testloader, device)"
   ]
  },
  {
   "cell_type": "code",
   "execution_count": null,
   "id": "68335a98-3c94-4ccd-aff8-0bffb60958d5",
   "metadata": {},
   "outputs": [],
   "source": [
    "helper_functions.print_size_of_model(static_quantized)"
   ]
  },
  {
   "cell_type": "code",
   "execution_count": null,
   "id": "b5da0b8f-d678-4d1b-ae47-939314921ce9",
   "metadata": {},
   "outputs": [],
   "source": [
    "torch.save(static_quantized.state_dict(), 'Resnet18QuantizedModel.pth')"
   ]
  },
  {
   "cell_type": "code",
   "execution_count": null,
   "id": "49aeb271-f7b6-4cd1-9e05-24b320cec44e",
   "metadata": {},
   "outputs": [],
   "source": [
    "# torch.save(static_quantized, \"resnet18quantizedmodelarch.pth\")"
   ]
  },
  {
   "cell_type": "code",
   "execution_count": null,
   "id": "371c7207-88ac-4a45-8dbc-554ea66a0eac",
   "metadata": {},
   "outputs": [],
   "source": [
    "# # scripted = torch.jit.script(static_quantized)\n",
    "# import io\n",
    "# # b = io.BytesIO()\n",
    "# # torch.jit.save(scripted, b)\n",
    "\n",
    "# b = io.BytesIO()\n",
    "# torch.save(static_quantized.state_dict(), 'model.pth')"
   ]
  },
  {
   "cell_type": "code",
   "execution_count": null,
   "id": "301d0675-05d2-45d1-99cc-0d1285d6e4b7",
   "metadata": {},
   "outputs": [],
   "source": [
    "# with open('quantized_model.pt', 'wb') as f:\n",
    "#     f.write(b.getvalue())\n"
   ]
  },
  {
   "cell_type": "code",
   "execution_count": null,
   "id": "814d3485-1001-46c3-a40e-798fac43ceec",
   "metadata": {},
   "outputs": [],
   "source": [
    "# torch.jit.save(torch.jit.script(static_quantized), \"quant_model.pth\")"
   ]
  },
  {
   "cell_type": "code",
   "execution_count": null,
   "id": "6f42cb50-fd8a-44d1-ab19-c7cc62957de8",
   "metadata": {},
   "outputs": [],
   "source": [
    "# torch.jit.save(torch.jit.script(static_quantized), 'jitmodelfile.pth')"
   ]
  },
  {
   "cell_type": "code",
   "execution_count": null,
   "id": "cfcc492d-08ee-4f31-a2d1-98d03fb66a44",
   "metadata": {},
   "outputs": [],
   "source": [
    "# scripted = torch.jit.script(static_quantized)\n",
    "\n",
    "# # Save the scripted model to a BytesIO buffer\n",
    "# buffer = io.BytesIO()\n",
    "# torch.jit.save(scripted, buffer)\n",
    "\n",
    "# # Reset the buffer's position to the beginning\n",
    "# buffer.seek(0)\n",
    "\n",
    "# # Load the scripted model from the BytesIO buffer\n",
    "# scripted_quantized = torch.jit.load(buffer)"
   ]
  },
  {
   "cell_type": "code",
   "execution_count": null,
   "id": "c4964d2e-e12d-49fe-861e-d7d73037697d",
   "metadata": {},
   "outputs": [],
   "source": [
    "# scripted_quantized"
   ]
  },
  {
   "cell_type": "code",
   "execution_count": null,
   "id": "8d2f61be-66da-49eb-a185-21cb4e8e2ce0",
   "metadata": {},
   "outputs": [],
   "source": [
    "# input_tensor = torch.randn(1, 3, 224, 224)  # Example input tensor\n",
    "# output = scripted_quantized(input_tensor)\n",
    "# print(output)"
   ]
  },
  {
   "cell_type": "code",
   "execution_count": null,
   "id": "674bcb24-5602-475c-9e6f-c80d62155101",
   "metadata": {},
   "outputs": [],
   "source": [
    "# data_path = '~/.data/resnet'\n",
    "# saved_model_dir = 'data/'\n",
    "# float_model_file = 'mobilenet_pretrained_float.pth'\n",
    "# scripted_float_model_file = 'mobilenet_quantization_scripted.pth'\n",
    "# scripted_quantized_model_file = 'mobilenet_quantization_scripted_quantized.pth'"
   ]
  },
  {
   "cell_type": "code",
   "execution_count": null,
   "id": "9f10e952-b462-46b2-996b-e14023cafa65",
   "metadata": {},
   "outputs": [],
   "source": [
    "# torch.jit.save(torch.jit.script(static_quantized), saved_model_dir + scripted_float_model_file)"
   ]
  },
  {
   "cell_type": "code",
   "execution_count": null,
   "id": "e933a493-a780-4e0a-b6bf-a1caac7f83a8",
   "metadata": {},
   "outputs": [],
   "source": [
    "# def load_model(model_file):\n",
    "#     model = ResNet18()\n",
    "#     state_dict = torch.jit.load(model_file)\n",
    "#     model.load_state_dict(state_dict)\n",
    "#     # model.to('cpu')\n",
    "#     return model"
   ]
  },
  {
   "cell_type": "code",
   "execution_count": null,
   "id": "5603c9e8-e6ec-4452-8f3b-96a36c042e7e",
   "metadata": {},
   "outputs": [],
   "source": [
    "# model = ResNet18()"
   ]
  },
  {
   "cell_type": "code",
   "execution_count": null,
   "id": "c368c602-0b4a-4b46-992b-af4b5fbe3975",
   "metadata": {},
   "outputs": [],
   "source": [
    "# model.load_state_dict(torch.jit.load('jitmodelfile.pth', map_location='cpu'))\n",
    "# model = torch.jit.load('jitmodelfile.pth', map_location='cpu')"
   ]
  },
  {
   "cell_type": "code",
   "execution_count": null,
   "id": "1a852e72-1fa2-482b-8442-df8703866763",
   "metadata": {},
   "outputs": [],
   "source": [
    "# model\n"
   ]
  },
  {
   "cell_type": "code",
   "execution_count": null,
   "id": "163cfed6-1826-4303-814b-d2e9473ce083",
   "metadata": {},
   "outputs": [],
   "source": [
    "# input_tensor = torch.randn(1, 3, 224, 224)  # Example input tensor\n",
    "# output = model(input_tensor)\n"
   ]
  },
  {
   "cell_type": "code",
   "execution_count": null,
   "id": "e5d832cc-89f4-4dd8-9fe7-be66dd539e30",
   "metadata": {},
   "outputs": [],
   "source": [
    "script = torch.jit.script(static_quantized)\n",
    "script.save('scriptedModel.pth')"
   ]
  },
  {
   "cell_type": "code",
   "execution_count": null,
   "id": "5c36275f-2a25-4f5b-8f4b-ac27a4684357",
   "metadata": {},
   "outputs": [],
   "source": [
    "# model = torch.jit.load('scriptedMOdel.pth', map_location='cpu')"
   ]
  },
  {
   "cell_type": "code",
   "execution_count": null,
   "id": "8a8f7189-b0da-42e6-97b7-3d8d40ec74a2",
   "metadata": {},
   "outputs": [],
   "source": [
    "# helper_functions.test(model, testloader, device)"
   ]
  },
  {
   "cell_type": "code",
   "execution_count": null,
   "id": "d627b347-7a22-4c80-bf07-481547cd948b",
   "metadata": {},
   "outputs": [],
   "source": [
    "print(torch.__version__)\n",
    "print(torchvision.__version__)"
   ]
  },
  {
   "cell_type": "code",
   "execution_count": null,
   "id": "7d44b8bb-27c9-4757-bca5-4deca9d7ca00",
   "metadata": {},
   "outputs": [],
   "source": [
    "# def _fuse_modules(\n",
    "#     model: nn.Module, modules_to_fuse: Union[List[str], List[List[str]]], is_qat: Optional[bool], **kwargs: Any\n",
    "# ):\n",
    "#     if is_qat is None:\n",
    "#         is_qat = model.training\n",
    "#     method = torch.ao.quantization.fuse_modules_qat if is_qat else torch.ao.quantization.fuse_modules\n",
    "#     return method(model, modules_to_fuse, **kwargs)"
   ]
  }
 ],
 "metadata": {
  "kernelspec": {
   "display_name": "Python (task1)",
   "language": "python",
   "name": "task1"
  },
  "language_info": {
   "codemirror_mode": {
    "name": "ipython",
    "version": 3
   },
   "file_extension": ".py",
   "mimetype": "text/x-python",
   "name": "python",
   "nbconvert_exporter": "python",
   "pygments_lexer": "ipython3",
   "version": "3.8.10"
  }
 },
 "nbformat": 4,
 "nbformat_minor": 5
}
