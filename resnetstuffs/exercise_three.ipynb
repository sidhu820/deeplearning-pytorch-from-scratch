{
 "cells": [
  {
   "cell_type": "markdown",
   "metadata": {},
   "source": [
    "## ANN using iris dataset"
   ]
  },
  {
   "cell_type": "code",
   "execution_count": 1,
   "metadata": {
    "id": "C_b2ArhCuMhs"
   },
   "outputs": [],
   "source": [
    "## Import the libraries\n",
    "import pandas as pd\n",
    "import torch\n",
    "from sklearn.model_selection import train_test_split\n",
    "import torch.nn as nn\n",
    "import torch.nn.functional as F\n",
    "import matplotlib.pyplot as plt"
   ]
  },
  {
   "cell_type": "code",
   "execution_count": 2,
   "metadata": {
    "id": "vthufFJcvbaX"
   },
   "outputs": [],
   "source": [
    "## download the dataset from website\n",
    "url='https://gist.githubusercontent.com/curran/a08a1080b88344b0c8a7/raw/0e7a9b0a5d22642a06d3d5b9bcbad9890c8ee534/iris.csv'\n",
    "df=pd.read_csv(url)"
   ]
  },
  {
   "cell_type": "code",
   "execution_count": 3,
   "metadata": {
    "colab": {
     "base_uri": "https://localhost:8080/",
     "height": 423
    },
    "id": "-pnjaQhTvyf2",
    "outputId": "60c7c3e1-98f6-4596-e69f-b219666a9173"
   },
   "outputs": [
    {
     "data": {
      "text/html": [
       "<div>\n",
       "<style scoped>\n",
       "    .dataframe tbody tr th:only-of-type {\n",
       "        vertical-align: middle;\n",
       "    }\n",
       "\n",
       "    .dataframe tbody tr th {\n",
       "        vertical-align: top;\n",
       "    }\n",
       "\n",
       "    .dataframe thead th {\n",
       "        text-align: right;\n",
       "    }\n",
       "</style>\n",
       "<table border=\"1\" class=\"dataframe\">\n",
       "  <thead>\n",
       "    <tr style=\"text-align: right;\">\n",
       "      <th></th>\n",
       "      <th>sepal_length</th>\n",
       "      <th>sepal_width</th>\n",
       "      <th>petal_length</th>\n",
       "      <th>petal_width</th>\n",
       "      <th>species</th>\n",
       "    </tr>\n",
       "  </thead>\n",
       "  <tbody>\n",
       "    <tr>\n",
       "      <th>0</th>\n",
       "      <td>5.1</td>\n",
       "      <td>3.5</td>\n",
       "      <td>1.4</td>\n",
       "      <td>0.2</td>\n",
       "      <td>0.0</td>\n",
       "    </tr>\n",
       "    <tr>\n",
       "      <th>1</th>\n",
       "      <td>4.9</td>\n",
       "      <td>3.0</td>\n",
       "      <td>1.4</td>\n",
       "      <td>0.2</td>\n",
       "      <td>0.0</td>\n",
       "    </tr>\n",
       "    <tr>\n",
       "      <th>2</th>\n",
       "      <td>4.7</td>\n",
       "      <td>3.2</td>\n",
       "      <td>1.3</td>\n",
       "      <td>0.2</td>\n",
       "      <td>0.0</td>\n",
       "    </tr>\n",
       "    <tr>\n",
       "      <th>3</th>\n",
       "      <td>4.6</td>\n",
       "      <td>3.1</td>\n",
       "      <td>1.5</td>\n",
       "      <td>0.2</td>\n",
       "      <td>0.0</td>\n",
       "    </tr>\n",
       "    <tr>\n",
       "      <th>4</th>\n",
       "      <td>5.0</td>\n",
       "      <td>3.6</td>\n",
       "      <td>1.4</td>\n",
       "      <td>0.2</td>\n",
       "      <td>0.0</td>\n",
       "    </tr>\n",
       "    <tr>\n",
       "      <th>...</th>\n",
       "      <td>...</td>\n",
       "      <td>...</td>\n",
       "      <td>...</td>\n",
       "      <td>...</td>\n",
       "      <td>...</td>\n",
       "    </tr>\n",
       "    <tr>\n",
       "      <th>145</th>\n",
       "      <td>6.7</td>\n",
       "      <td>3.0</td>\n",
       "      <td>5.2</td>\n",
       "      <td>2.3</td>\n",
       "      <td>2.0</td>\n",
       "    </tr>\n",
       "    <tr>\n",
       "      <th>146</th>\n",
       "      <td>6.3</td>\n",
       "      <td>2.5</td>\n",
       "      <td>5.0</td>\n",
       "      <td>1.9</td>\n",
       "      <td>2.0</td>\n",
       "    </tr>\n",
       "    <tr>\n",
       "      <th>147</th>\n",
       "      <td>6.5</td>\n",
       "      <td>3.0</td>\n",
       "      <td>5.2</td>\n",
       "      <td>2.0</td>\n",
       "      <td>2.0</td>\n",
       "    </tr>\n",
       "    <tr>\n",
       "      <th>148</th>\n",
       "      <td>6.2</td>\n",
       "      <td>3.4</td>\n",
       "      <td>5.4</td>\n",
       "      <td>2.3</td>\n",
       "      <td>2.0</td>\n",
       "    </tr>\n",
       "    <tr>\n",
       "      <th>149</th>\n",
       "      <td>5.9</td>\n",
       "      <td>3.0</td>\n",
       "      <td>5.1</td>\n",
       "      <td>1.8</td>\n",
       "      <td>2.0</td>\n",
       "    </tr>\n",
       "  </tbody>\n",
       "</table>\n",
       "<p>150 rows × 5 columns</p>\n",
       "</div>"
      ],
      "text/plain": [
       "     sepal_length  sepal_width  petal_length  petal_width  species\n",
       "0             5.1          3.5           1.4          0.2      0.0\n",
       "1             4.9          3.0           1.4          0.2      0.0\n",
       "2             4.7          3.2           1.3          0.2      0.0\n",
       "3             4.6          3.1           1.5          0.2      0.0\n",
       "4             5.0          3.6           1.4          0.2      0.0\n",
       "..            ...          ...           ...          ...      ...\n",
       "145           6.7          3.0           5.2          2.3      2.0\n",
       "146           6.3          2.5           5.0          1.9      2.0\n",
       "147           6.5          3.0           5.2          2.0      2.0\n",
       "148           6.2          3.4           5.4          2.3      2.0\n",
       "149           5.9          3.0           5.1          1.8      2.0\n",
       "\n",
       "[150 rows x 5 columns]"
      ]
     },
     "execution_count": 3,
     "metadata": {},
     "output_type": "execute_result"
    }
   ],
   "source": [
    "## Change the string values to integer \n",
    "df['species']=df['species'].replace('setosa',0.0)\n",
    "df['species']=df['species'].replace('virginica',2.0)\n",
    "df['species']=df['species'].replace('versicolor',1.0)\n",
    "df"
   ]
  },
  {
   "cell_type": "code",
   "execution_count": 4,
   "metadata": {
    "id": "t0ckOLXQxuHp"
   },
   "outputs": [],
   "source": [
    "## Split the indepentent and depentent features\n",
    "X=df.drop('species', axis=1).values\n",
    "y=df['species'].values"
   ]
  },
  {
   "cell_type": "code",
   "execution_count": 5,
   "metadata": {
    "id": "oHgzrCODzdQg"
   },
   "outputs": [],
   "source": [
    "## Converting our data to tensor\n",
    "X=torch.FloatTensor(X)\n",
    "y=torch.LongTensor(y)"
   ]
  },
  {
   "cell_type": "code",
   "execution_count": 6,
   "metadata": {
    "id": "OKipDiSnyI0v"
   },
   "outputs": [],
   "source": [
    "## Split our data for train, test, validation\n",
    "X_train,X_test,y_train,y_test=train_test_split(X,y,test_size=.2,random_state=32)\n",
    "X_train,X_val,y_train,y_val=train_test_split(X_train,y_train,test_size=.2,random_state=32)"
   ]
  },
  {
   "cell_type": "code",
   "execution_count": 7,
   "metadata": {
    "id": "KVVJmm6cyoeb"
   },
   "outputs": [],
   "source": [
    "## Define our model class\n",
    "class irisClassification(nn.Module):\n",
    "  def __init__(self):\n",
    "    super().__init__()\n",
    "\n",
    "    self.input = nn.Linear(4,8)\n",
    "    self.h1= nn.Linear(8,9)\n",
    "    self.output = nn.Linear(9,3)\n",
    "\n",
    "  def forward(self,x):\n",
    "\n",
    "    x=F.leaky_relu_(self.input(x))\n",
    "    x=F.leaky_relu_(self.h1(x))\n",
    "    x=F.softmax(self.output(x), dim=1)\n",
    "\n",
    "    return x"
   ]
  },
  {
   "cell_type": "code",
   "execution_count": 8,
   "metadata": {
    "colab": {
     "base_uri": "https://localhost:8080/"
    },
    "id": "3peOFkAVzIPB",
    "outputId": "548c8377-3449-491f-85d4-5508f025d6cd"
   },
   "outputs": [
    {
     "data": {
      "text/plain": [
       "irisClassification(\n",
       "  (input): Linear(in_features=4, out_features=8, bias=True)\n",
       "  (h1): Linear(in_features=8, out_features=9, bias=True)\n",
       "  (output): Linear(in_features=9, out_features=3, bias=True)\n",
       ")"
      ]
     },
     "execution_count": 8,
     "metadata": {},
     "output_type": "execute_result"
    }
   ],
   "source": [
    "## Set the manual seed and create and\n",
    "torch.manual_seed(41)\n",
    "model=irisClassification()\n",
    "model"
   ]
  },
  {
   "cell_type": "code",
   "execution_count": 9,
   "metadata": {
    "id": "DvwRn1KU1YVa"
   },
   "outputs": [],
   "source": [
    "## Define loss and optimization for our problem\n",
    "loss_function=nn.CrossEntropyLoss()\n",
    "optimizer=torch.optim.Adam(model.parameters(), lr=0.01)"
   ]
  },
  {
   "cell_type": "code",
   "execution_count": 10,
   "metadata": {
    "id": "fHZeP3RR43XN"
   },
   "outputs": [],
   "source": [
    "## Define our training as a function\n",
    "def training(model_v,X_train,y_train,optimizer_v,X_val,y_val):\n",
    "  epochs =100\n",
    "  calculate_loss=[]\n",
    "  val_loss=[]\n",
    "  train_accuracy=[]\n",
    "\n",
    "  for epoch in range(epochs):\n",
    "\n",
    "\n",
    "\n",
    "    y_pred=model_v(X_train)\n",
    "    # print(y_pred)\n",
    "    loss = loss_function(y_pred, y_train)\n",
    "    optimizer_v.zero_grad()\n",
    "    loss.backward()\n",
    "    optimizer_v.step()\n",
    "    calculate_loss.append(loss.item())\n",
    "    # print(\"epoch :\",epoch,\"loss :\",loss.item())\n",
    "    _,y_pred= torch.max(y_pred, 1)\n",
    "    accuracy = (y_pred == y_train).float().mean()\n",
    "    train_accuracy.append(accuracy.item())\n",
    "\n",
    "    model.eval()\n",
    "    with torch.no_grad():\n",
    "        y_val_pred = model_v(X_val)\n",
    "        val_loss_value = loss_function(y_val_pred, y_val)\n",
    "        val_loss.append(val_loss_value.item())\n",
    "    # print(loss)\n",
    "    print(\"Epoch:\", epoch, \"Training Loss:\", loss.item() ,\"Validation Loss:\", val_loss_value.item())\n",
    "  plt.plot(range(epochs), calculate_loss, label='Training Loss')\n",
    "  plt.plot(range(epochs), val_loss, label='Validation Loss')\n",
    "  # plt.plot(range(epochs), train_accuracy, label='Training Accuracy')\n",
    "  plt.xlabel(\"epoch\")\n",
    "  plt.ylabel(\"loss\")\n",
    "  plt.legend()\n",
    "  plt.show()\n",
    "  print(accuracy.item())"
   ]
  },
  {
   "cell_type": "code",
   "execution_count": 11,
   "metadata": {
    "colab": {
     "base_uri": "https://localhost:8080/",
     "height": 1000
    },
    "id": "6TMypMUVpIuN",
    "outputId": "7147046d-0237-44ca-8200-b6997c3cd025"
   },
   "outputs": [
    {
     "name": "stdout",
     "output_type": "stream",
     "text": [
      "Epoch: 0 Training Loss: 1.106058955192566 Validation Loss: 1.1084288358688354\n",
      "Epoch: 1 Training Loss: 1.099714994430542 Validation Loss: 1.110683560371399\n",
      "Epoch: 2 Training Loss: 1.093537449836731 Validation Loss: 1.1141101121902466\n",
      "Epoch: 3 Training Loss: 1.0875588655471802 Validation Loss: 1.1187820434570312\n",
      "Epoch: 4 Training Loss: 1.0820952653884888 Validation Loss: 1.1243482828140259\n",
      "Epoch: 5 Training Loss: 1.0772696733474731 Validation Loss: 1.1299749612808228\n",
      "Epoch: 6 Training Loss: 1.0732405185699463 Validation Loss: 1.1348525285720825\n",
      "Epoch: 7 Training Loss: 1.070006251335144 Validation Loss: 1.1379634141921997\n",
      "Epoch: 8 Training Loss: 1.0670109987258911 Validation Loss: 1.1383485794067383\n",
      "Epoch: 9 Training Loss: 1.0637286901474 Validation Loss: 1.1359537839889526\n",
      "Epoch: 10 Training Loss: 1.0598634481430054 Validation Loss: 1.1312708854675293\n",
      "Epoch: 11 Training Loss: 1.0552144050598145 Validation Loss: 1.124763011932373\n",
      "Epoch: 12 Training Loss: 1.0496113300323486 Validation Loss: 1.1169004440307617\n",
      "Epoch: 13 Training Loss: 1.043099045753479 Validation Loss: 1.1086150407791138\n",
      "Epoch: 14 Training Loss: 1.0360418558120728 Validation Loss: 1.1003124713897705\n",
      "Epoch: 15 Training Loss: 1.0286091566085815 Validation Loss: 1.0917813777923584\n",
      "Epoch: 16 Training Loss: 1.0204464197158813 Validation Loss: 1.0829999446868896\n",
      "Epoch: 17 Training Loss: 1.0113521814346313 Validation Loss: 1.073790192604065\n",
      "Epoch: 18 Training Loss: 1.001080870628357 Validation Loss: 1.0638920068740845\n",
      "Epoch: 19 Training Loss: 0.9895023703575134 Validation Loss: 1.0526217222213745\n",
      "Epoch: 20 Training Loss: 0.9764251112937927 Validation Loss: 1.039732575416565\n",
      "Epoch: 21 Training Loss: 0.9621686935424805 Validation Loss: 1.0284438133239746\n",
      "Epoch: 22 Training Loss: 0.9490565657615662 Validation Loss: 1.0200775861740112\n",
      "Epoch: 23 Training Loss: 0.937324047088623 Validation Loss: 1.0136289596557617\n",
      "Epoch: 24 Training Loss: 0.9250280857086182 Validation Loss: 1.0083980560302734\n",
      "Epoch: 25 Training Loss: 0.9129249453544617 Validation Loss: 1.0035936832427979\n",
      "Epoch: 26 Training Loss: 0.9016792178153992 Validation Loss: 0.9977016448974609\n",
      "Epoch: 27 Training Loss: 0.8910965919494629 Validation Loss: 0.9898529052734375\n",
      "Epoch: 28 Training Loss: 0.8806569576263428 Validation Loss: 0.9798430800437927\n",
      "Epoch: 29 Training Loss: 0.870013952255249 Validation Loss: 0.9682641625404358\n",
      "Epoch: 30 Training Loss: 0.8596747517585754 Validation Loss: 0.9556605219841003\n",
      "Epoch: 31 Training Loss: 0.8499945998191833 Validation Loss: 0.9430139660835266\n",
      "Epoch: 32 Training Loss: 0.8410726189613342 Validation Loss: 0.9311242699623108\n",
      "Epoch: 33 Training Loss: 0.8330699801445007 Validation Loss: 0.9202656745910645\n",
      "Epoch: 34 Training Loss: 0.8253440856933594 Validation Loss: 0.9098768830299377\n",
      "Epoch: 35 Training Loss: 0.8174071907997131 Validation Loss: 0.8994884490966797\n",
      "Epoch: 36 Training Loss: 0.8091879487037659 Validation Loss: 0.8871042132377625\n",
      "Epoch: 37 Training Loss: 0.7999573349952698 Validation Loss: 0.8716710209846497\n",
      "Epoch: 38 Training Loss: 0.7903859615325928 Validation Loss: 0.8536297678947449\n",
      "Epoch: 39 Training Loss: 0.7808732986450195 Validation Loss: 0.8325610160827637\n",
      "Epoch: 40 Training Loss: 0.771277129650116 Validation Loss: 0.8098856806755066\n",
      "Epoch: 41 Training Loss: 0.7622239589691162 Validation Loss: 0.7887732982635498\n",
      "Epoch: 42 Training Loss: 0.7543832659721375 Validation Loss: 0.7727279663085938\n",
      "Epoch: 43 Training Loss: 0.7473499774932861 Validation Loss: 0.763403594493866\n",
      "Epoch: 44 Training Loss: 0.7403754591941833 Validation Loss: 0.7598133683204651\n",
      "Epoch: 45 Training Loss: 0.7335591912269592 Validation Loss: 0.758182942867279\n",
      "Epoch: 46 Training Loss: 0.7272767424583435 Validation Loss: 0.7530776858329773\n",
      "Epoch: 47 Training Loss: 0.7207842469215393 Validation Loss: 0.7414412498474121\n",
      "Epoch: 48 Training Loss: 0.7133334279060364 Validation Loss: 0.7254933714866638\n",
      "Epoch: 49 Training Loss: 0.7051655650138855 Validation Loss: 0.7104890942573547\n",
      "Epoch: 50 Training Loss: 0.696418285369873 Validation Loss: 0.7002670168876648\n",
      "Epoch: 51 Training Loss: 0.6863505840301514 Validation Loss: 0.6944553852081299\n",
      "Epoch: 52 Training Loss: 0.6763634085655212 Validation Loss: 0.6904115676879883\n",
      "Epoch: 53 Training Loss: 0.6684800982475281 Validation Loss: 0.685727596282959\n",
      "Epoch: 54 Training Loss: 0.661837637424469 Validation Loss: 0.6780790686607361\n",
      "Epoch: 55 Training Loss: 0.6553837656974792 Validation Loss: 0.6696975827217102\n",
      "Epoch: 56 Training Loss: 0.6491760611534119 Validation Loss: 0.6637738347053528\n",
      "Epoch: 57 Training Loss: 0.6430328488349915 Validation Loss: 0.660565197467804\n",
      "Epoch: 58 Training Loss: 0.6369748711585999 Validation Loss: 0.6568247675895691\n",
      "Epoch: 59 Training Loss: 0.6313066482543945 Validation Loss: 0.6505023837089539\n",
      "Epoch: 60 Training Loss: 0.6259378790855408 Validation Loss: 0.6443175673484802\n",
      "Epoch: 61 Training Loss: 0.6211296319961548 Validation Loss: 0.6411531567573547\n",
      "Epoch: 62 Training Loss: 0.6167170405387878 Validation Loss: 0.6398611068725586\n",
      "Epoch: 63 Training Loss: 0.6127752065658569 Validation Loss: 0.6371880769729614\n",
      "Epoch: 64 Training Loss: 0.6092748641967773 Validation Loss: 0.6331002712249756\n",
      "Epoch: 65 Training Loss: 0.6061193943023682 Validation Loss: 0.6305477023124695\n",
      "Epoch: 66 Training Loss: 0.6033145189285278 Validation Loss: 0.6301486492156982\n",
      "Epoch: 67 Training Loss: 0.6007241606712341 Validation Loss: 0.6293666958808899\n",
      "Epoch: 68 Training Loss: 0.59840327501297 Validation Loss: 0.6269145011901855\n",
      "Epoch: 69 Training Loss: 0.5962161421775818 Validation Loss: 0.6248153448104858\n",
      "Epoch: 70 Training Loss: 0.5942298769950867 Validation Loss: 0.6244641542434692\n",
      "Epoch: 71 Training Loss: 0.5923376083374023 Validation Loss: 0.6243212819099426\n",
      "Epoch: 72 Training Loss: 0.590618371963501 Validation Loss: 0.6228563785552979\n",
      "Epoch: 73 Training Loss: 0.5890146493911743 Validation Loss: 0.6212140917778015\n",
      "Epoch: 74 Training Loss: 0.5875728130340576 Validation Loss: 0.6208983063697815\n",
      "Epoch: 75 Training Loss: 0.58623868227005 Validation Loss: 0.6211023926734924\n",
      "Epoch: 76 Training Loss: 0.5850510001182556 Validation Loss: 0.6203466653823853\n",
      "Epoch: 77 Training Loss: 0.5839657187461853 Validation Loss: 0.6191921830177307\n",
      "Epoch: 78 Training Loss: 0.5829960107803345 Validation Loss: 0.619002103805542\n",
      "Epoch: 79 Training Loss: 0.5821085572242737 Validation Loss: 0.6193766593933105\n",
      "Epoch: 80 Training Loss: 0.5813018679618835 Validation Loss: 0.6190200448036194\n",
      "Epoch: 81 Training Loss: 0.580553412437439 Validation Loss: 0.6181864142417908\n",
      "Epoch: 82 Training Loss: 0.5798604488372803 Validation Loss: 0.6180554032325745\n",
      "Epoch: 83 Training Loss: 0.5792089700698853 Validation Loss: 0.6184422373771667\n",
      "Epoch: 84 Training Loss: 0.5785975456237793 Validation Loss: 0.6182350516319275\n",
      "Epoch: 85 Training Loss: 0.5780190825462341 Validation Loss: 0.6175839304924011\n",
      "Epoch: 86 Training Loss: 0.5774749517440796 Validation Loss: 0.6175200343132019\n",
      "Epoch: 87 Training Loss: 0.5769607424736023 Validation Loss: 0.6178855299949646\n",
      "Epoch: 88 Training Loss: 0.5764782428741455 Validation Loss: 0.6177298426628113\n",
      "Epoch: 89 Training Loss: 0.576023280620575 Validation Loss: 0.6172403693199158\n",
      "Epoch: 90 Training Loss: 0.5755981802940369 Validation Loss: 0.6172871589660645\n",
      "Epoch: 91 Training Loss: 0.5751968026161194 Validation Loss: 0.6176246404647827\n",
      "Epoch: 92 Training Loss: 0.5748220682144165 Validation Loss: 0.617466151714325\n",
      "Epoch: 93 Training Loss: 0.5744665265083313 Validation Loss: 0.6171210408210754\n",
      "Epoch: 94 Training Loss: 0.5741344690322876 Validation Loss: 0.617292046546936\n",
      "Epoch: 95 Training Loss: 0.5738162994384766 Validation Loss: 0.6175718903541565\n",
      "Epoch: 96 Training Loss: 0.5735167860984802 Validation Loss: 0.6173684000968933\n",
      "Epoch: 97 Training Loss: 0.57322758436203 Validation Loss: 0.617171585559845\n",
      "Epoch: 98 Training Loss: 0.5729535222053528 Validation Loss: 0.6174306273460388\n",
      "Epoch: 99 Training Loss: 0.5726872682571411 Validation Loss: 0.6175877451896667\n"
     ]
    },
    {
     "data": {
      "image/png": "[encoded data removed]",
      "text/plain": [
       "<Figure size 640x480 with 1 Axes>"
      ]
     },
     "metadata": {},
     "output_type": "display_data"
    },
    {
     "name": "stdout",
     "output_type": "stream",
     "text": [
      "0.9895833134651184\n"
     ]
    }
   ],
   "source": [
    "training(model,X_train,y_train,optimizer,X_val,y_val)"
   ]
  },
  {
   "cell_type": "code",
   "execution_count": 12,
   "metadata": {
    "colab": {
     "base_uri": "https://localhost:8080/"
    },
    "id": "pVHbhhB59r2D",
    "outputId": "bd1d4c82-2c8f-439c-d799-d8c77a7328a3"
   },
   "outputs": [
    {
     "name": "stdout",
     "output_type": "stream",
     "text": [
      " 1.)  tensor([[0.2148, 0.5622, 0.2230]]) \t 1 \t 1\n",
      " 2.)  tensor([[0.5759, 0.2121, 0.2120]]) \t 0 \t 0\n",
      " 3.)  tensor([[0.5754, 0.2125, 0.2121]]) \t 0 \t 0\n",
      " 4.)  tensor([[0.2128, 0.5720, 0.2152]]) \t 1 \t 1\n",
      " 5.)  tensor([[0.2121, 0.2126, 0.5753]]) \t 2 \t 2\n",
      " 6.)  tensor([[0.2147, 0.2227, 0.5626]]) \t 2 \t 2\n",
      " 7.)  tensor([[0.5747, 0.2131, 0.2122]]) \t 0 \t 0\n",
      " 8.)  tensor([[0.5756, 0.2124, 0.2121]]) \t 0 \t 0\n",
      " 9.)  tensor([[0.2123, 0.5744, 0.2133]]) \t 1 \t 1\n",
      " 10.)  tensor([[0.5758, 0.2122, 0.2120]]) \t 0 \t 0\n",
      " 11.)  tensor([[0.2125, 0.5734, 0.2141]]) \t 1 \t 1\n",
      " 12.)  tensor([[0.2121, 0.2126, 0.5753]]) \t 2 \t 2\n",
      " 13.)  tensor([[0.2123, 0.5753, 0.2124]]) \t 1 \t 1\n",
      " 14.)  tensor([[0.2122, 0.5758, 0.2120]]) \t 1 \t 1\n",
      " 15.)  tensor([[0.2141, 0.2202, 0.5657]]) \t 2 \t 2\n",
      " 16.)  tensor([[0.2120, 0.2120, 0.5760]]) \t 2 \t 2\n",
      " 17.)  tensor([[0.2188, 0.5407, 0.2405]]) \t 1 \t 1\n",
      " 18.)  tensor([[0.2211, 0.2525, 0.5264]]) \t 2 \t 2\n",
      " 19.)  tensor([[0.2122, 0.5758, 0.2121]]) \t 1 \t 1\n",
      " 20.)  tensor([[0.5759, 0.2121, 0.2120]]) \t 0 \t 0\n",
      " 21.)  tensor([[0.5751, 0.2127, 0.2122]]) \t 0 \t 0\n",
      " 22.)  tensor([[0.2120, 0.2120, 0.5760]]) \t 2 \t 2\n",
      " 23.)  tensor([[0.2293, 0.3102, 0.4606]]) \t 2 \t 2\n",
      " 24.)  tensor([[0.5756, 0.2124, 0.2121]]) \t 0 \t 0\n",
      " 25.)  tensor([[0.5757, 0.2123, 0.2120]]) \t 0 \t 0\n",
      " 26.)  tensor([[0.2121, 0.5758, 0.2121]]) \t 1 \t 1\n",
      " 27.)  tensor([[0.5760, 0.2121, 0.2120]]) \t 0 \t 0\n",
      " 28.)  tensor([[0.2120, 0.2120, 0.5761]]) \t 2 \t 2\n",
      " 29.)  tensor([[0.5758, 0.2122, 0.2120]]) \t 0 \t 0\n",
      " 30.)  tensor([[0.5757, 0.2122, 0.2120]]) \t 0 \t 0\n",
      "we got 30 correct predictions out of 30.\n"
     ]
    }
   ],
   "source": [
    "## Testing our model, print the each predicted and actual values, calculate accuracy with this and print total number of correct predicted numbers\n",
    "correct=0\n",
    "with torch.no_grad():\n",
    "  for i , data in enumerate(X_test):\n",
    "\n",
    "    data = data.unsqueeze(0)\n",
    "\n",
    "    y_valed = torch.softmax(model(data), dim=1)\n",
    "\n",
    "    print(f' {i+1}.)  {str(y_valed)} \\t {y_test[i]} \\t { y_valed.argmax().item()}')\n",
    "\n",
    "    if y_valed.argmax().item() == y_test[i]:\n",
    "      correct+=1\n",
    "\n",
    "print(f'we got {correct} correct predictions out of {len(X_test)}.')\n"
   ]
  },
  {
   "cell_type": "markdown",
   "metadata": {
    "id": "yH-Gae0ZNWSG"
   },
   "source": []
  }
 ],
 "metadata": {
  "colab": {
   "provenance": []
  },
  "kernelspec": {
   "display_name": "Python 3 (ipykernel)",
   "language": "python",
   "name": "python3"
  },
  "language_info": {
   "codemirror_mode": {
    "name": "ipython",
    "version": 3
   },
   "file_extension": ".py",
   "mimetype": "text/x-python",
   "name": "python",
   "nbconvert_exporter": "python",
   "pygments_lexer": "ipython3",
   "version": "3.8.10"
  }
 },
 "nbformat": 4,
 "nbformat_minor": 4
}
