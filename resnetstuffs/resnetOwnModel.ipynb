{
 "cells": [
  {
   "cell_type": "code",
   "execution_count": 1,
   "metadata": {
    "id": "OUPGi7pVrF1f"
   },
   "outputs": [],
   "source": [
    "import torch\n",
    "import torchvision\n",
    "import torchvision.transforms as transforms\n",
    "import torch.nn as nn\n",
    "import torch.nn.functional as F\n",
    "import torch.optim as optim\n",
    "import torchvision.datasets as datasets\n",
    "import torchvision.models.quantization as models\n",
    "import torch.nn.utils.prune as prune\n",
    "import os\n",
    "import copy\n",
    "import torchsummary"
   ]
  },
  {
   "cell_type": "code",
   "execution_count": 2,
   "metadata": {
    "id": "Fd0pWe0xvFjm"
   },
   "outputs": [],
   "source": [
    "from timeit import default_timer as timer\n",
    "def print_train_time(start:float, end : float, device : torch.device = None):\n",
    "    total_time = end - start\n",
    "    print(f' Train time :{total_time:.3f}')\n",
    "    return total_time\n"
   ]
  },
  {
   "cell_type": "code",
   "execution_count": 3,
   "metadata": {
    "id": "2dKQfHeZvLyg"
   },
   "outputs": [],
   "source": [
    "transform = transforms.Compose([\n",
    "    transforms.Resize(224),\n",
    "    transforms.ToTensor(),\n",
    "    transforms.Normalize((0.5, 0.5, 0.5), (0.5, 0.5, 0.5))\n",
    "])"
   ]
  },
  {
   "cell_type": "code",
   "execution_count": 4,
   "metadata": {
    "colab": {
     "base_uri": "https://localhost:8080/"
    },
    "id": "1SIK2QaVvT0d",
    "outputId": "eedb6fea-a0f1-4754-a872-2a838eb60df1"
   },
   "outputs": [
    {
     "name": "stdout",
     "output_type": "stream",
     "text": [
      "Files already downloaded and verified\n",
      "Files already downloaded and verified\n"
     ]
    }
   ],
   "source": [
    "trainset = datasets.CIFAR10(root='./data', train=True,\n",
    "                                        download=True, transform=transform)\n",
    "trainloader = torch.utils.data.DataLoader(trainset, batch_size=64,\n",
    "                                          shuffle=True, num_workers=16, pin_memory=True)\n",
    "\n",
    "testset = datasets.CIFAR10(root='./data', train=False,\n",
    "                                        download=True, transform=transform)\n",
    "testloader = torch.utils.data.DataLoader(testset, batch_size=32,\n",
    "                                          shuffle=True, num_workers=16, pin_memory= True)"
   ]
  },
  {
   "cell_type": "code",
   "execution_count": 5,
   "metadata": {
    "colab": {
     "base_uri": "https://localhost:8080/"
    },
    "id": "JX5VDNYxvXRO",
    "outputId": "c4077e5b-4224-4371-9a66-0e3ae9982538"
   },
   "outputs": [
    {
     "data": {
      "text/plain": [
       "device(type='cpu')"
      ]
     },
     "execution_count": 5,
     "metadata": {},
     "output_type": "execute_result"
    }
   ],
   "source": [
    "device = torch.device(\"cuda:0\" if torch.cuda.is_available() else \"cpu\")\n",
    "device"
   ]
  },
  {
   "cell_type": "code",
   "execution_count": 6,
   "metadata": {
    "id": "X3Lf3KHYva3K"
   },
   "outputs": [],
   "source": [
    "import torch\n",
    "import torch.nn as nn\n",
    "\n",
    "class BasicBlock(nn.Module):\n",
    "    def __init__(self, in_channels, out_channels, identity_downsample= None, stride= 1):\n",
    "        super().__init__()\n",
    "\n",
    "        self.expansion = 1\n",
    "        self.conv1 = nn.Conv2d(in_channels, out_channels, kernel_size= 3, stride= stride, padding= 1)\n",
    "        self.bn1 = nn.BatchNorm2d(out_channels)\n",
    "        self.conv2 = nn.Conv2d(out_channels, out_channels, kernel_size= 3,padding=1)\n",
    "        self.bn2 = nn.BatchNorm2d(out_channels)\n",
    "        self.relu = nn.ReLU(inplace= True)\n",
    "        self.identity_downsample = identity_downsample\n",
    "        self.skip_add = nn.quantized.FloatFunctional()\n",
    "\n",
    "    def forward(self, x):\n",
    "        identity = x\n",
    "\n",
    "        x = self.conv1(x)\n",
    "        x = self.bn1(x)\n",
    "        x = self.relu(x)\n",
    "        x = self.conv2(x)\n",
    "        x = self.bn2(x)\n",
    "        # x = self.relu(x)\n",
    "\n",
    "        if self.identity_downsample is not None:\n",
    "            identity = self.identity_downsample(identity)\n",
    "\n",
    "        # x += identity\n",
    "        x = self.skip_add.add(x, identity)\n",
    "        x = self.relu(x)\n",
    "        return x\n",
    "\n",
    "\n",
    "class ResNet(nn.Module):\n",
    "    def __init__(self, BasicBlock, layers, image_channels, num_classes):\n",
    "        super().__init__()\n",
    "        self.in_channels = 64\n",
    "        self.conv1 = nn.Conv2d(image_channels, 64, kernel_size= 7, stride= 2, padding= 3)\n",
    "        self.bn1 = nn.BatchNorm2d(64)\n",
    "        self.relu = nn.ReLU(inplace= True)\n",
    "        self.maxpool = nn.MaxPool2d(kernel_size= 3, stride= 2, padding= 1)\n",
    "\n",
    "        self.layer1 = self._make_layer(BasicBlock, layers[0], out_channels= 64, stride= 1)\n",
    "        self.layer2 = self._make_layer(BasicBlock, layers[1], out_channels= 128, stride= 2)\n",
    "        self.layer3 = self._make_layer(BasicBlock, layers[2], out_channels= 256, stride= 2)\n",
    "        self.layer4 = self._make_layer(BasicBlock, layers[3], out_channels= 512, stride= 2)\n",
    "\n",
    "        self.avgpool = nn.AdaptiveAvgPool2d((1,1))\n",
    "        self.fc = nn.Linear(512, num_classes)\n",
    "        self.quant = torch.quantization.QuantStub()\n",
    "        self.dequant = torch.quantization.DeQuantStub()\n",
    "\n",
    "    def forward(self, x):\n",
    "        x = self.quant(x)\n",
    "        x = self.conv1(x)\n",
    "        x = self.bn1(x)\n",
    "        x = self.relu(x)\n",
    "        x = self.maxpool(x)\n",
    "\n",
    "        x = self.layer1(x)\n",
    "        x = self.layer2(x)\n",
    "        x = self.layer3(x)\n",
    "        x = self.layer4(x)\n",
    "\n",
    "        x = self.avgpool(x)\n",
    "        x = x.reshape(x.shape[0], -1)\n",
    "        x = self.fc(x)\n",
    "        x = self.dequant(x)\n",
    "\n",
    "        return x\n",
    "\n",
    "\n",
    "    def _make_layer(self, BasicBlock, num_residual_blocks, out_channels, stride):\n",
    "        identity_downsample = None\n",
    "        layers = []\n",
    "        if stride != 1 or self.in_channels != out_channels:\n",
    "            identity_downsample = nn.Sequential(nn.Conv2d(self.in_channels, out_channels , kernel_size= 1, stride= stride),\n",
    "                                               nn.BatchNorm2d(out_channels))\n",
    "        layers.append(BasicBlock(self.in_channels, out_channels, identity_downsample, stride))\n",
    "        self.in_channels = out_channels\n",
    "\n",
    "        for i in range(num_residual_blocks - 1):\n",
    "            layers.append(BasicBlock(self.in_channels, out_channels))\n",
    "\n",
    "        return nn.Sequential(*layers)\n",
    "\n",
    "def ResNet18(img_channels= 3, num_classes= 100):\n",
    "    return ResNet(BasicBlock, [2, 2, 2, 2], img_channels, num_classes)\n"
   ]
  },
  {
   "cell_type": "code",
   "execution_count": 7,
   "metadata": {
    "colab": {
     "base_uri": "https://localhost:8080/"
    },
    "id": "ypw4u8suTmtY",
    "outputId": "55650918-8733-44a9-fa3b-db85d8b86e6d"
   },
   "outputs": [
    {
     "data": {
      "text/plain": [
       "ResNet(\n",
       "  (conv1): Conv2d(3, 64, kernel_size=(7, 7), stride=(2, 2), padding=(3, 3))\n",
       "  (bn1): BatchNorm2d(64, eps=1e-05, momentum=0.1, affine=True, track_running_stats=True)\n",
       "  (relu): ReLU(inplace=True)\n",
       "  (maxpool): MaxPool2d(kernel_size=3, stride=2, padding=1, dilation=1, ceil_mode=False)\n",
       "  (layer1): Sequential(\n",
       "    (0): BasicBlock(\n",
       "      (conv1): Conv2d(64, 64, kernel_size=(3, 3), stride=(1, 1), padding=(1, 1))\n",
       "      (bn1): BatchNorm2d(64, eps=1e-05, momentum=0.1, affine=True, track_running_stats=True)\n",
       "      (conv2): Conv2d(64, 64, kernel_size=(3, 3), stride=(1, 1), padding=(1, 1))\n",
       "      (bn2): BatchNorm2d(64, eps=1e-05, momentum=0.1, affine=True, track_running_stats=True)\n",
       "      (relu): ReLU(inplace=True)\n",
       "      (skip_add): FloatFunctional(\n",
       "        (activation_post_process): Identity()\n",
       "      )\n",
       "    )\n",
       "    (1): BasicBlock(\n",
       "      (conv1): Conv2d(64, 64, kernel_size=(3, 3), stride=(1, 1), padding=(1, 1))\n",
       "      (bn1): BatchNorm2d(64, eps=1e-05, momentum=0.1, affine=True, track_running_stats=True)\n",
       "      (conv2): Conv2d(64, 64, kernel_size=(3, 3), stride=(1, 1), padding=(1, 1))\n",
       "      (bn2): BatchNorm2d(64, eps=1e-05, momentum=0.1, affine=True, track_running_stats=True)\n",
       "      (relu): ReLU(inplace=True)\n",
       "      (skip_add): FloatFunctional(\n",
       "        (activation_post_process): Identity()\n",
       "      )\n",
       "    )\n",
       "  )\n",
       "  (layer2): Sequential(\n",
       "    (0): BasicBlock(\n",
       "      (conv1): Conv2d(64, 128, kernel_size=(3, 3), stride=(2, 2), padding=(1, 1))\n",
       "      (bn1): BatchNorm2d(128, eps=1e-05, momentum=0.1, affine=True, track_running_stats=True)\n",
       "      (conv2): Conv2d(128, 128, kernel_size=(3, 3), stride=(1, 1), padding=(1, 1))\n",
       "      (bn2): BatchNorm2d(128, eps=1e-05, momentum=0.1, affine=True, track_running_stats=True)\n",
       "      (relu): ReLU(inplace=True)\n",
       "      (identity_downsample): Sequential(\n",
       "        (0): Conv2d(64, 128, kernel_size=(1, 1), stride=(2, 2))\n",
       "        (1): BatchNorm2d(128, eps=1e-05, momentum=0.1, affine=True, track_running_stats=True)\n",
       "      )\n",
       "      (skip_add): FloatFunctional(\n",
       "        (activation_post_process): Identity()\n",
       "      )\n",
       "    )\n",
       "    (1): BasicBlock(\n",
       "      (conv1): Conv2d(128, 128, kernel_size=(3, 3), stride=(1, 1), padding=(1, 1))\n",
       "      (bn1): BatchNorm2d(128, eps=1e-05, momentum=0.1, affine=True, track_running_stats=True)\n",
       "      (conv2): Conv2d(128, 128, kernel_size=(3, 3), stride=(1, 1), padding=(1, 1))\n",
       "      (bn2): BatchNorm2d(128, eps=1e-05, momentum=0.1, affine=True, track_running_stats=True)\n",
       "      (relu): ReLU(inplace=True)\n",
       "      (skip_add): FloatFunctional(\n",
       "        (activation_post_process): Identity()\n",
       "      )\n",
       "    )\n",
       "  )\n",
       "  (layer3): Sequential(\n",
       "    (0): BasicBlock(\n",
       "      (conv1): Conv2d(128, 256, kernel_size=(3, 3), stride=(2, 2), padding=(1, 1))\n",
       "      (bn1): BatchNorm2d(256, eps=1e-05, momentum=0.1, affine=True, track_running_stats=True)\n",
       "      (conv2): Conv2d(256, 256, kernel_size=(3, 3), stride=(1, 1), padding=(1, 1))\n",
       "      (bn2): BatchNorm2d(256, eps=1e-05, momentum=0.1, affine=True, track_running_stats=True)\n",
       "      (relu): ReLU(inplace=True)\n",
       "      (identity_downsample): Sequential(\n",
       "        (0): Conv2d(128, 256, kernel_size=(1, 1), stride=(2, 2))\n",
       "        (1): BatchNorm2d(256, eps=1e-05, momentum=0.1, affine=True, track_running_stats=True)\n",
       "      )\n",
       "      (skip_add): FloatFunctional(\n",
       "        (activation_post_process): Identity()\n",
       "      )\n",
       "    )\n",
       "    (1): BasicBlock(\n",
       "      (conv1): Conv2d(256, 256, kernel_size=(3, 3), stride=(1, 1), padding=(1, 1))\n",
       "      (bn1): BatchNorm2d(256, eps=1e-05, momentum=0.1, affine=True, track_running_stats=True)\n",
       "      (conv2): Conv2d(256, 256, kernel_size=(3, 3), stride=(1, 1), padding=(1, 1))\n",
       "      (bn2): BatchNorm2d(256, eps=1e-05, momentum=0.1, affine=True, track_running_stats=True)\n",
       "      (relu): ReLU(inplace=True)\n",
       "      (skip_add): FloatFunctional(\n",
       "        (activation_post_process): Identity()\n",
       "      )\n",
       "    )\n",
       "  )\n",
       "  (layer4): Sequential(\n",
       "    (0): BasicBlock(\n",
       "      (conv1): Conv2d(256, 512, kernel_size=(3, 3), stride=(2, 2), padding=(1, 1))\n",
       "      (bn1): BatchNorm2d(512, eps=1e-05, momentum=0.1, affine=True, track_running_stats=True)\n",
       "      (conv2): Conv2d(512, 512, kernel_size=(3, 3), stride=(1, 1), padding=(1, 1))\n",
       "      (bn2): BatchNorm2d(512, eps=1e-05, momentum=0.1, affine=True, track_running_stats=True)\n",
       "      (relu): ReLU(inplace=True)\n",
       "      (identity_downsample): Sequential(\n",
       "        (0): Conv2d(256, 512, kernel_size=(1, 1), stride=(2, 2))\n",
       "        (1): BatchNorm2d(512, eps=1e-05, momentum=0.1, affine=True, track_running_stats=True)\n",
       "      )\n",
       "      (skip_add): FloatFunctional(\n",
       "        (activation_post_process): Identity()\n",
       "      )\n",
       "    )\n",
       "    (1): BasicBlock(\n",
       "      (conv1): Conv2d(512, 512, kernel_size=(3, 3), stride=(1, 1), padding=(1, 1))\n",
       "      (bn1): BatchNorm2d(512, eps=1e-05, momentum=0.1, affine=True, track_running_stats=True)\n",
       "      (conv2): Conv2d(512, 512, kernel_size=(3, 3), stride=(1, 1), padding=(1, 1))\n",
       "      (bn2): BatchNorm2d(512, eps=1e-05, momentum=0.1, affine=True, track_running_stats=True)\n",
       "      (relu): ReLU(inplace=True)\n",
       "      (skip_add): FloatFunctional(\n",
       "        (activation_post_process): Identity()\n",
       "      )\n",
       "    )\n",
       "  )\n",
       "  (avgpool): AdaptiveAvgPool2d(output_size=(1, 1))\n",
       "  (fc): Linear(in_features=512, out_features=100, bias=True)\n",
       "  (quant): QuantStub()\n",
       "  (dequant): DeQuantStub()\n",
       ")"
      ]
     },
     "execution_count": 7,
     "metadata": {},
     "output_type": "execute_result"
    }
   ],
   "source": [
    "model = ResNet18()\n",
    "model"
   ]
  },
  {
   "cell_type": "code",
   "execution_count": 8,
   "metadata": {
    "colab": {
     "base_uri": "https://localhost:8080/"
    },
    "id": "Y4lcF7tzGNpX",
    "outputId": "a236414f-121e-43d7-cdc4-52f2399b45a8"
   },
   "outputs": [
    {
     "name": "stdout",
     "output_type": "stream",
     "text": [
      "----------------------------------------------------------------\n",
      "        Layer (type)               Output Shape         Param #\n",
      "================================================================\n",
      "         QuantStub-1          [-1, 3, 224, 224]               0\n",
      "            Conv2d-2         [-1, 64, 112, 112]           9,472\n",
      "       BatchNorm2d-3         [-1, 64, 112, 112]             128\n",
      "              ReLU-4         [-1, 64, 112, 112]               0\n",
      "         MaxPool2d-5           [-1, 64, 56, 56]               0\n",
      "            Conv2d-6           [-1, 64, 56, 56]          36,928\n",
      "       BatchNorm2d-7           [-1, 64, 56, 56]             128\n",
      "              ReLU-8           [-1, 64, 56, 56]               0\n",
      "            Conv2d-9           [-1, 64, 56, 56]          36,928\n",
      "      BatchNorm2d-10           [-1, 64, 56, 56]             128\n",
      "         Identity-11           [-1, 64, 56, 56]               0\n",
      "             ReLU-12           [-1, 64, 56, 56]               0\n",
      "       BasicBlock-13           [-1, 64, 56, 56]               0\n",
      "           Conv2d-14           [-1, 64, 56, 56]          36,928\n",
      "      BatchNorm2d-15           [-1, 64, 56, 56]             128\n",
      "             ReLU-16           [-1, 64, 56, 56]               0\n",
      "           Conv2d-17           [-1, 64, 56, 56]          36,928\n",
      "      BatchNorm2d-18           [-1, 64, 56, 56]             128\n",
      "         Identity-19           [-1, 64, 56, 56]               0\n",
      "             ReLU-20           [-1, 64, 56, 56]               0\n",
      "       BasicBlock-21           [-1, 64, 56, 56]               0\n",
      "           Conv2d-22          [-1, 128, 28, 28]          73,856\n",
      "      BatchNorm2d-23          [-1, 128, 28, 28]             256\n",
      "             ReLU-24          [-1, 128, 28, 28]               0\n",
      "           Conv2d-25          [-1, 128, 28, 28]         147,584\n",
      "      BatchNorm2d-26          [-1, 128, 28, 28]             256\n",
      "           Conv2d-27          [-1, 128, 28, 28]           8,320\n",
      "      BatchNorm2d-28          [-1, 128, 28, 28]             256\n",
      "         Identity-29          [-1, 128, 28, 28]               0\n",
      "             ReLU-30          [-1, 128, 28, 28]               0\n",
      "       BasicBlock-31          [-1, 128, 28, 28]               0\n",
      "           Conv2d-32          [-1, 128, 28, 28]         147,584\n",
      "      BatchNorm2d-33          [-1, 128, 28, 28]             256\n",
      "             ReLU-34          [-1, 128, 28, 28]               0\n",
      "           Conv2d-35          [-1, 128, 28, 28]         147,584\n",
      "      BatchNorm2d-36          [-1, 128, 28, 28]             256\n",
      "         Identity-37          [-1, 128, 28, 28]               0\n",
      "             ReLU-38          [-1, 128, 28, 28]               0\n",
      "       BasicBlock-39          [-1, 128, 28, 28]               0\n",
      "           Conv2d-40          [-1, 256, 14, 14]         295,168\n",
      "      BatchNorm2d-41          [-1, 256, 14, 14]             512\n",
      "             ReLU-42          [-1, 256, 14, 14]               0\n",
      "           Conv2d-43          [-1, 256, 14, 14]         590,080\n",
      "      BatchNorm2d-44          [-1, 256, 14, 14]             512\n",
      "           Conv2d-45          [-1, 256, 14, 14]          33,024\n",
      "      BatchNorm2d-46          [-1, 256, 14, 14]             512\n",
      "         Identity-47          [-1, 256, 14, 14]               0\n",
      "             ReLU-48          [-1, 256, 14, 14]               0\n",
      "       BasicBlock-49          [-1, 256, 14, 14]               0\n",
      "           Conv2d-50          [-1, 256, 14, 14]         590,080\n",
      "      BatchNorm2d-51          [-1, 256, 14, 14]             512\n",
      "             ReLU-52          [-1, 256, 14, 14]               0\n",
      "           Conv2d-53          [-1, 256, 14, 14]         590,080\n",
      "      BatchNorm2d-54          [-1, 256, 14, 14]             512\n",
      "         Identity-55          [-1, 256, 14, 14]               0\n",
      "             ReLU-56          [-1, 256, 14, 14]               0\n",
      "       BasicBlock-57          [-1, 256, 14, 14]               0\n",
      "           Conv2d-58            [-1, 512, 7, 7]       1,180,160\n",
      "      BatchNorm2d-59            [-1, 512, 7, 7]           1,024\n",
      "             ReLU-60            [-1, 512, 7, 7]               0\n",
      "           Conv2d-61            [-1, 512, 7, 7]       2,359,808\n",
      "      BatchNorm2d-62            [-1, 512, 7, 7]           1,024\n",
      "           Conv2d-63            [-1, 512, 7, 7]         131,584\n",
      "      BatchNorm2d-64            [-1, 512, 7, 7]           1,024\n",
      "         Identity-65            [-1, 512, 7, 7]               0\n",
      "             ReLU-66            [-1, 512, 7, 7]               0\n",
      "       BasicBlock-67            [-1, 512, 7, 7]               0\n",
      "           Conv2d-68            [-1, 512, 7, 7]       2,359,808\n",
      "      BatchNorm2d-69            [-1, 512, 7, 7]           1,024\n",
      "             ReLU-70            [-1, 512, 7, 7]               0\n",
      "           Conv2d-71            [-1, 512, 7, 7]       2,359,808\n",
      "      BatchNorm2d-72            [-1, 512, 7, 7]           1,024\n",
      "         Identity-73            [-1, 512, 7, 7]               0\n",
      "             ReLU-74            [-1, 512, 7, 7]               0\n",
      "       BasicBlock-75            [-1, 512, 7, 7]               0\n",
      "AdaptiveAvgPool2d-76            [-1, 512, 1, 1]               0\n",
      "           Linear-77                  [-1, 100]          51,300\n",
      "      DeQuantStub-78                  [-1, 100]               0\n",
      "================================================================\n",
      "Total params: 11,232,612\n",
      "Trainable params: 11,232,612\n",
      "Non-trainable params: 0\n",
      "----------------------------------------------------------------\n",
      "Input size (MB): 0.57\n",
      "Forward/backward pass size (MB): 69.68\n",
      "Params size (MB): 42.85\n",
      "Estimated Total Size (MB): 113.10\n",
      "----------------------------------------------------------------\n"
     ]
    }
   ],
   "source": [
    "torchsummary.summary(model, input_size= (3,224,224))"
   ]
  },
  {
   "cell_type": "code",
   "execution_count": 9,
   "metadata": {
    "colab": {
     "base_uri": "https://localhost:8080/"
    },
    "id": "k0Csz4_1J6fm",
    "outputId": "50fad2e7-1f46-4fc4-fe7e-4aa194191040"
   },
   "outputs": [
    {
     "name": "stdout",
     "output_type": "stream",
     "text": [
      "\n",
      "conv1\n",
      "bn1\n",
      "relu\n",
      "maxpool\n",
      "layer1\n",
      "layer1.0\n",
      "layer1.0.conv1\n",
      "layer1.0.bn1\n",
      "layer1.0.conv2\n",
      "layer1.0.bn2\n",
      "layer1.0.relu\n",
      "layer1.0.skip_add\n",
      "layer1.0.skip_add.activation_post_process\n",
      "layer1.1\n",
      "layer1.1.conv1\n",
      "layer1.1.bn1\n",
      "layer1.1.conv2\n",
      "layer1.1.bn2\n",
      "layer1.1.relu\n",
      "layer1.1.skip_add\n",
      "layer1.1.skip_add.activation_post_process\n",
      "layer2\n",
      "layer2.0\n",
      "layer2.0.conv1\n",
      "layer2.0.bn1\n",
      "layer2.0.conv2\n",
      "layer2.0.bn2\n",
      "layer2.0.relu\n",
      "layer2.0.identity_downsample\n",
      "layer2.0.identity_downsample.0\n",
      "layer2.0.identity_downsample.1\n",
      "layer2.0.skip_add\n",
      "layer2.0.skip_add.activation_post_process\n",
      "layer2.1\n",
      "layer2.1.conv1\n",
      "layer2.1.bn1\n",
      "layer2.1.conv2\n",
      "layer2.1.bn2\n",
      "layer2.1.relu\n",
      "layer2.1.skip_add\n",
      "layer2.1.skip_add.activation_post_process\n",
      "layer3\n",
      "layer3.0\n",
      "layer3.0.conv1\n",
      "layer3.0.bn1\n",
      "layer3.0.conv2\n",
      "layer3.0.bn2\n",
      "layer3.0.relu\n",
      "layer3.0.identity_downsample\n",
      "layer3.0.identity_downsample.0\n",
      "layer3.0.identity_downsample.1\n",
      "layer3.0.skip_add\n",
      "layer3.0.skip_add.activation_post_process\n",
      "layer3.1\n",
      "layer3.1.conv1\n",
      "layer3.1.bn1\n",
      "layer3.1.conv2\n",
      "layer3.1.bn2\n",
      "layer3.1.relu\n",
      "layer3.1.skip_add\n",
      "layer3.1.skip_add.activation_post_process\n",
      "layer4\n",
      "layer4.0\n",
      "layer4.0.conv1\n",
      "layer4.0.bn1\n",
      "layer4.0.conv2\n",
      "layer4.0.bn2\n",
      "layer4.0.relu\n",
      "layer4.0.identity_downsample\n",
      "layer4.0.identity_downsample.0\n",
      "layer4.0.identity_downsample.1\n",
      "layer4.0.skip_add\n",
      "layer4.0.skip_add.activation_post_process\n",
      "layer4.1\n",
      "layer4.1.conv1\n",
      "layer4.1.bn1\n",
      "layer4.1.conv2\n",
      "layer4.1.bn2\n",
      "layer4.1.relu\n",
      "layer4.1.skip_add\n",
      "layer4.1.skip_add.activation_post_process\n",
      "avgpool\n",
      "fc\n",
      "quant\n",
      "dequant\n"
     ]
    }
   ],
   "source": [
    "for layers, _ in model.named_modules():\n",
    "  print(layers)"
   ]
  },
  {
   "cell_type": "code",
   "execution_count": 10,
   "metadata": {
    "id": "5m_X9Hcj5xj1"
   },
   "outputs": [],
   "source": [
    "def calculate_time(start:float, end : float, device : torch.device = None):\n",
    "    total_time = end - start\n",
    "    print(f' Evaluation time :{total_time:.3f}')"
   ]
  },
  {
   "cell_type": "code",
   "execution_count": 11,
   "metadata": {
    "id": "cK_B7JRO7b7v"
   },
   "outputs": [],
   "source": [
    "def print_size_of_model(model):\n",
    "    torch.save(model.state_dict(), \"temp_delme.p\")\n",
    "    print('size (KB) :',os.path.getsize(\"temp_delme.p\")/1e3)\n",
    "    os.remove('temp_delme.p')"
   ]
  },
  {
   "cell_type": "code",
   "execution_count": 12,
   "metadata": {
    "id": "27ar8Bslw1mL"
   },
   "outputs": [],
   "source": [
    "def prune_model(model, pruning_rate=0.3):\n",
    "    for name, module in model.named_modules():\n",
    "        if isinstance(module, torch.nn.Conv2d) or isinstance(module, torch.nn.Linear):\n",
    "\n",
    "            # Applying unstructured L1 norm pruning\n",
    "            prune.l1_unstructured(module, name='weight', amount=pruning_rate)\n",
    "\n",
    "            prune.remove(module, 'weight')"
   ]
  },
  {
   "cell_type": "code",
   "execution_count": 13,
   "metadata": {
    "id": "-qKhq9JJ0hwJ"
   },
   "outputs": [],
   "source": [
    "def count_nonzero_params(model):\n",
    "    # non_zero_count = 0\n",
    "    # for param in model.parameters():\n",
    "    #     non_zero_count += torch.count_nonzero(param).item()\n",
    "    print(\"The number of non-zero parameters :\", sum(p.numel() for p in model.parameters()))\n",
    "    zero_count = 0\n",
    "    for param in model.parameters():\n",
    "        zero_count += torch.sum(param == 0).item()\n",
    "    \n",
    "    print(\"The number of zero parameters :\", zero_count)"
   ]
  },
  {
   "cell_type": "code",
   "execution_count": 14,
   "metadata": {},
   "outputs": [],
   "source": [
    "# count_nonzero_params(model)"
   ]
  },
  {
   "cell_type": "code",
   "execution_count": 15,
   "metadata": {
    "id": "U29-P1NlSYza"
   },
   "outputs": [],
   "source": [
    "def slice_dataloader(dataloader, start, end):\n",
    "    sliced_data = []\n",
    "    current_index = 0\n",
    "    for inputs, labels in dataloader:\n",
    "        batch_size = inputs.size(0)\n",
    "        if current_index + batch_size > start:\n",
    "            # Find the start index within the current batch\n",
    "            start_idx = max(start - current_index, 0)\n",
    "            # Find the end index within the current batch\n",
    "            end_idx = min(end - current_index, batch_size)\n",
    "            sliced_inputs = inputs[start_idx:end_idx]\n",
    "            sliced_labels = labels[start_idx:end_idx]\n",
    "            sliced_data.append((sliced_inputs, sliced_labels))\n",
    "            if current_index + batch_size >= end:\n",
    "                break\n",
    "        current_index += batch_size\n",
    "    return sliced_data"
   ]
  },
  {
   "cell_type": "code",
   "execution_count": 16,
   "metadata": {
    "id": "kFti7vrKw9cO"
   },
   "outputs": [],
   "source": [
    "def train(model,dataloader, device):\n",
    "  criterion = nn.CrossEntropyLoss()\n",
    "  optimizer = torch.optim.SGD(model.parameters(), lr=0.001, momentum=0.9)\n",
    "  epochs = 4\n",
    "  for epoch in range(epochs):\n",
    "      running_loss = 0.0\n",
    "      model.train()\n",
    "      for i, data in enumerate(dataloader, 0):\n",
    "          inputs, labels = data\n",
    "          inputs, labels = inputs.to(device), labels.to(device)\n",
    "          optimizer.zero_grad()\n",
    "          model = model.to(device)\n",
    "          outputs = model(inputs)\n",
    "          loss = criterion(outputs, labels)\n",
    "          loss.backward()\n",
    "          optimizer.step()\n",
    "          running_loss += loss.item()\n",
    "\n",
    "      print(f'Epoch {epoch+1}, Loss: {running_loss/len(trainloader)}')\n",
    "\n",
    "      if (epoch + 1) % 2 == 0:\n",
    "          print(f'Pruning after epoch {epoch + 1}')\n",
    "          prune_model(model, pruning_rate=0.1)\n",
    "          print('Pruning done.')"
   ]
  },
  {
   "cell_type": "code",
   "execution_count": 17,
   "metadata": {
    "id": "hDrJshGYzuLt"
   },
   "outputs": [],
   "source": [
    "def test(model, dataloader, device):\n",
    "  start = timer()\n",
    "  correct = 0\n",
    "  total = 0\n",
    "  model.eval()\n",
    "  with torch.no_grad():\n",
    "      for data in dataloader:\n",
    "          inputs, labels = data\n",
    "          inputs, labels = inputs.to(device), labels.to(device)\n",
    "          model = model.to(device)\n",
    "          outputs = model(inputs)\n",
    "          _, predicted = torch.max(outputs.data, 1)\n",
    "          total += labels.size(0)\n",
    "          correct += (predicted == labels).sum().item()\n",
    "      print(f'Accuracy of the network on the {total} test images: %d %%' % (100 * correct / total))\n",
    "  end = timer()\n",
    "  calculate_time(start, end, device)"
   ]
  },
  {
   "cell_type": "code",
   "execution_count": 18,
   "metadata": {},
   "outputs": [],
   "source": [
    "def count_parameters(model: nn.Module) -> int:\n",
    "     print(sum(p.numel() for p in model.parameters()))"
   ]
  },
  {
   "cell_type": "code",
   "execution_count": 19,
   "metadata": {
    "colab": {
     "base_uri": "https://localhost:8080/",
     "height": 141
    },
    "id": "jH9hVSO2gGht",
    "outputId": "141f82c6-b67a-4a30-a794-6a92bd5d9368"
   },
   "outputs": [
    {
     "name": "stdout",
     "output_type": "stream",
     "text": [
      "11232612\n"
     ]
    }
   ],
   "source": [
    "count_parameters(model)"
   ]
  },
  {
   "cell_type": "code",
   "execution_count": null,
   "metadata": {
    "colab": {
     "base_uri": "https://localhost:8080/"
    },
    "id": "I78LoyE60E8U",
    "outputId": "6063afb3-79bf-4882-dadd-cb9492759e19"
   },
   "outputs": [
    {
     "name": "stdout",
     "output_type": "stream",
     "text": [
      "Epoch 1, Loss: 1.4423082346654\n"
     ]
    }
   ],
   "source": [
    "train(model, trainloader, device)"
   ]
  },
  {
   "cell_type": "code",
   "execution_count": null,
   "metadata": {
    "colab": {
     "base_uri": "https://localhost:8080/"
    },
    "id": "gEs5C5PFTiiE",
    "outputId": "fd4909eb-6071-457d-8122-75c8c6c0756e"
   },
   "outputs": [],
   "source": [
    "sliced_data_1 = slice_dataloader(testloader, start=0, end=2000)"
   ]
  },
  {
   "cell_type": "code",
   "execution_count": null,
   "metadata": {
    "colab": {
     "base_uri": "https://localhost:8080/"
    },
    "id": "hLZodKW75Lsz",
    "outputId": "76686237-3b08-4145-db2e-36a004133c83"
   },
   "outputs": [],
   "source": [
    "test(model, sliced_data_1, device)"
   ]
  },
  {
   "cell_type": "code",
   "execution_count": null,
   "metadata": {
    "colab": {
     "base_uri": "https://localhost:8080/"
    },
    "id": "r5lLmn5W7eVS",
    "outputId": "fa1b4551-2972-48af-e10f-151bc21bf263"
   },
   "outputs": [],
   "source": [
    "print_size_of_model(model)"
   ]
  },
  {
   "cell_type": "code",
   "execution_count": null,
   "metadata": {
    "colab": {
     "base_uri": "https://localhost:8080/"
    },
    "id": "KGRyN8afHWDd",
    "outputId": "3f70c478-aeae-4688-bfdc-d8d2a43b9466"
   },
   "outputs": [],
   "source": [
    "# dynamic_quant_model = copy.deepcopy(model)\n",
    "\n",
    "# state_dict = model.state_dict()\n",
    "# dynamic_quant_model.load_state_dict(state_dict)\n",
    "count_nonzero_params(model)"
   ]
  },
  {
   "cell_type": "code",
   "execution_count": null,
   "metadata": {
    "id": "T0LEa1HRGBLK"
   },
   "outputs": [],
   "source": [
    "device = 'cpu'\n",
    "model = model.to(device)"
   ]
  },
  {
   "cell_type": "code",
   "execution_count": null,
   "metadata": {
    "id": "Ka3vAe3f5LpZ"
   },
   "outputs": [],
   "source": [
    "dynamic_quant_model = torch.quantization.quantize_dynamic(model, {nn.Linear}, dtype=torch.qint8 )"
   ]
  },
  {
   "cell_type": "code",
   "execution_count": null,
   "metadata": {
    "id": "WErhf3oNU1YY"
   },
   "outputs": [],
   "source": [
    "sliced_data_2 = slice_dataloader(testloader, start=1000, end=2000)"
   ]
  },
  {
   "cell_type": "code",
   "execution_count": null,
   "metadata": {
    "colab": {
     "base_uri": "https://localhost:8080/"
    },
    "id": "pAMpVktb5g92",
    "outputId": "bb7e163d-b6ce-4dc8-9a55-49572cdb5018"
   },
   "outputs": [],
   "source": [
    "test(dynamic_quant_model, sliced_data_2, device)"
   ]
  },
  {
   "cell_type": "code",
   "execution_count": null,
   "metadata": {
    "colab": {
     "base_uri": "https://localhost:8080/"
    },
    "id": "7qDQL3ze7oJz",
    "outputId": "6405ea89-360c-438b-f39c-398ab27db66f"
   },
   "outputs": [],
   "source": [
    "print_size_of_model(dynamic_quant_model)"
   ]
  },
  {
   "cell_type": "code",
   "execution_count": null,
   "metadata": {
    "id": "nq5lDThM8JAk"
   },
   "outputs": [],
   "source": [
    "device = 'cpu'"
   ]
  },
  {
   "cell_type": "code",
   "execution_count": null,
   "metadata": {
    "id": "Lsv78tfF5kYF"
   },
   "outputs": [],
   "source": [
    "# static_quant_model = copy.deepcopy(dynamic_quant_model)\n",
    "\n",
    "# state_dict = dynamic_quant_model.state_dict()\n",
    "# static_quant_model.load_state_dict(state_dict).to('cpu')\n",
    "dynamic_quant_model.eval()\n",
    "modules_to_fuse = modules_to_fuse = [\n",
    "    ['conv1','bn1','relu'],\n",
    "    ['layer1.0.conv1','layer1.0.bn1'],\n",
    "    ['layer1.0.conv2','layer1.0.bn2','layer1.0.relu'],\n",
    "    ['layer1.1.conv1','layer1.1.bn1'],\n",
    "    ['layer1.1.conv2','layer1.1.bn2','layer1.1.relu'],\n",
    "    ['layer2.0.conv1','layer2.0.bn1'],\n",
    "    ['layer2.0.conv2','layer2.0.bn2','layer2.0.relu'],\n",
    "    ['layer2.0.identity_downsample.0','layer2.0.identity_downsample.1'],\n",
    "    ['layer2.1.conv1','layer2.1.bn1'],\n",
    "    ['layer2.1.conv2','layer2.1.bn2','layer2.1.relu'],\n",
    "    ['layer3.0.conv1','layer3.0.bn1'],\n",
    "    ['layer3.0.conv2','layer3.0.bn2','layer3.0.relu'],\n",
    "    ['layer3.0.identity_downsample.0','layer3.0.identity_downsample.1'],\n",
    "    ['layer3.1.conv1','layer3.1.bn1'],\n",
    "    ['layer3.1.conv2','layer3.1.bn2','layer3.1.relu'],\n",
    "    ['layer4.0.conv1','layer4.0.bn1'],\n",
    "    ['layer4.0.conv2','layer4.0.bn2','layer4.0.relu'],\n",
    "    ['layer4.0.identity_downsample.0','layer4.0.identity_downsample.1'],\n",
    "    ['layer4.1.conv1','layer4.1.bn1'],\n",
    "    ['layer4.1.conv2','layer4.1.bn2','layer4.1.relu'],\n",
    "]\n",
    "\n",
    "dynamic_quant_model = torch.quantization.fuse_modules(dynamic_quant_model, modules_to_fuse)"
   ]
  },
  {
   "cell_type": "code",
   "execution_count": null,
   "metadata": {
    "colab": {
     "base_uri": "https://localhost:8080/"
    },
    "id": "yaKZL6zbKWDo",
    "outputId": "7f9bc288-5a92-4c35-fcc9-a20a08581756"
   },
   "outputs": [],
   "source": [
    "[['conv1','bn1','relu'],\n",
    "['layer1','layer1.0'],\n",
    "['layer1.0.conv1','layer1.0.bn1'],\n",
    "['layer1.0.conv2','layer1.0.bn2','layer1.0.relu'],\n",
    "['layer1.0.skip_add','layer1.0.skip_add.activation_post_process'],\n",
    "['layer1.1'],\n",
    "['layer1.1.conv1','layer1.1.bn1'],\n",
    "['layer1.1.conv2','layer1.1.bn2','layer1.1.relu'],\n",
    "['layer1.1.skip_add','layer1.1.skip_add.activation_post_process'],\n",
    "['layer2','layer2.0'],\n",
    "['layer2.0.conv1','layer2.0.bn1'],\n",
    "['layer2.0.conv2','layer2.0.bn2','layer2.0.relu'],\n",
    "['layer2.0.identity_downsample','layer2.0.identity_downsample.0','layer2.0.identity_downsample.1'],\n",
    "['layer2.0.skip_add','layer2.0.skip_add.activation_post_process'],\n",
    "['layer2.1'],\n",
    "['layer2.1.conv1','layer2.1.bn1'],\n",
    "['layer2.1.conv2','layer2.1.bn2','layer2.1.relu'],\n",
    "['layer2.1.skip_add','layer2.1.skip_add.activation_post_process'],\n",
    "['layer3','layer3.0'],\n",
    "['layer3.0.conv1','layer3.0.bn1'],\n",
    "['layer3.0.conv2','layer3.0.bn2','layer3.0.relu'],\n",
    "['layer3.0.identity_downsample','layer3.0.identity_downsample.0','layer3.0.identity_downsample.1'],\n",
    "['layer3.0.skip_add','layer3.0.skip_add.activation_post_process'],\n",
    "['layer3.1'],\n",
    "['layer3.1.conv1','layer3.1.bn1'],\n",
    "['layer3.1.conv2','layer3.1.bn2','layer3.1.relu'],\n",
    "['layer3.1.skip_add','layer3.1.skip_add.activation_post_process'],\n",
    "['layer4','layer4.0'],\n",
    "['layer4.0.conv1','layer4.0.bn1'],\n",
    "['layer4.0.conv2','layer4.0.bn2','layer4.0.relu'],\n",
    "['layer4.0.identity_downsample','layer4.0.identity_downsample.0','layer4.0.identity_downsample.1'],\n",
    "['layer4.0.skip_add','layer4.0.skip_add.activation_post_process'],\n",
    "['layer4.1'],\n",
    "['layer4.1.conv1','layer4.1.bn1'],\n",
    "['layer4.1.conv2','layer4.1.bn2','layer4.1.relu'],\n",
    "['layer4.1.skip_add','layer4.1.skip_add.activation_post_process'],\n",
    "['avgpool','fc'],\n",
    "['quant','dequant']]"
   ]
  },
  {
   "cell_type": "code",
   "execution_count": null,
   "metadata": {
    "id": "WTTxG-Rb6gV4"
   },
   "outputs": [],
   "source": [
    "dynamic_quant_model.qconfig = torch.quantization.default_qconfig\n",
    "static_quant_model = torch.quantization.prepare(dynamic_quant_model, inplace=True)"
   ]
  },
  {
   "cell_type": "code",
   "execution_count": null,
   "metadata": {
    "id": "KjEy5ZfrpOAS"
   },
   "outputs": [],
   "source": [
    "sliced_data_3 = slice_dataloader(testloader, start=2000, end=2000)"
   ]
  },
  {
   "cell_type": "code",
   "execution_count": null,
   "metadata": {
    "colab": {
     "base_uri": "https://localhost:8080/"
    },
    "id": "xpKJwFGO6oQw",
    "outputId": "8e103123-cdd2-4d7b-b8b7-8a68644a73ab"
   },
   "outputs": [],
   "source": [
    "test(static_quant_model, sliced_data_3, device)"
   ]
  },
  {
   "cell_type": "code",
   "execution_count": null,
   "metadata": {
    "colab": {
     "base_uri": "https://localhost:8080/"
    },
    "id": "jqirhIYZ63gF",
    "outputId": "6babb4c5-6a04-44d2-bc2b-ec63bd84dfaf"
   },
   "outputs": [],
   "source": [
    "torch.quantization.convert(static_quant_model, inplace=True)"
   ]
  },
  {
   "cell_type": "code",
   "execution_count": null,
   "metadata": {
    "colab": {
     "base_uri": "https://localhost:8080/"
    },
    "id": "QjLtN9cjwIY0",
    "outputId": "2f595f02-9138-4c70-8b66-5d091d5e75ec"
   },
   "outputs": [],
   "source": [
    "print_size_of_model(static_quant_model)"
   ]
  },
  {
   "cell_type": "code",
   "execution_count": null,
   "metadata": {
    "id": "puMsGUxLVZSq"
   },
   "outputs": [],
   "source": [
    "sliced_data_4 = slice_dataloader(testloader, start=4000, end=5000)"
   ]
  },
  {
   "cell_type": "code",
   "execution_count": null,
   "metadata": {
    "colab": {
     "base_uri": "https://localhost:8080/",
     "height": 963
    },
    "id": "p3ORZyyN7RFH",
    "outputId": "925aeabd-c422-4628-d52e-9f24ae2ce425"
   },
   "outputs": [],
   "source": [
    "test(static_quant_model, sliced_data_4, device)"
   ]
  },
  {
   "cell_type": "code",
   "execution_count": null,
   "metadata": {
    "id": "iw8JJ7Z_7Vus"
   },
   "outputs": [],
   "source": [
    "print_size_of_model(static_quant_model)"
   ]
  }
 ],
 "metadata": {
  "accelerator": "TPU",
  "colab": {
   "gpuType": "V28",
   "provenance": []
  },
  "kernelspec": {
   "display_name": "Python 3 (ipykernel)",
   "language": "python",
   "name": "python3"
  },
  "language_info": {
   "codemirror_mode": {
    "name": "ipython",
    "version": 3
   },
   "file_extension": ".py",
   "mimetype": "text/x-python",
   "name": "python",
   "nbconvert_exporter": "python",
   "pygments_lexer": "ipython3",
   "version": "3.8.10"
  }
 },
 "nbformat": 4,
 "nbformat_minor": 4
}
