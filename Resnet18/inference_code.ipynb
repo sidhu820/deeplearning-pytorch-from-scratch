{
 "cells": [
  {
   "cell_type": "markdown",
   "id": "1bdb84d1-e9bf-4808-9168-25aa658bf8f9",
   "metadata": {},
   "source": [
    "## Implementing the quantized model in raspberry pi 5"
   ]
  },
  {
   "cell_type": "code",
   "execution_count": null,
   "id": "75511c16-dd90-465f-84ca-f3d4b7d196a1",
   "metadata": {},
   "outputs": [],
   "source": [
    "import torch\n",
    "import pickle"
   ]
  },
  {
   "cell_type": "code",
   "execution_count": null,
   "id": "0b3cabe2-3a98-45b0-b5aa-2c0b50c10c7a",
   "metadata": {},
   "outputs": [],
   "source": [
    "device = torch.device(\"cuda:0\" if torch.cuda.is_available() else \"cpu\")\n",
    "\n",
    "model = torch.jit.load(\"scriptedModel.pth\", map_location= 'cpu')"
   ]
  },
  {
   "cell_type": "code",
   "execution_count": null,
   "id": "e30e0368-19bf-4491-849e-97b0fd6ba012",
   "metadata": {},
   "outputs": [],
   "source": [
    "filename = 'testset_subset_3.pkl'\n",
    "with open(filename, 'rb') as f:\n",
    "    testset = pickle.load(f)\n",
    "testset_classes = [\n",
    "    'airplane', 'automobile', 'bird', 'cat', 'deer',\n",
    "    'dog', 'frog', 'horse', 'ship', 'truck'\n",
    "]\n"
   ]
  },
  {
   "cell_type": "code",
   "execution_count": 3,
   "id": "cfc46675-2b01-4035-9370-2c61a4365b74",
   "metadata": {},
   "outputs": [
    {
     "name": "stdout",
     "output_type": "stream",
     "text": [
      "Predicted class: frog, Actual class: frog\n",
      "Predicted class: dog, Actual class: dog\n",
      "Predicted class: bird, Actual class: deer\n",
      "Predicted class: dog, Actual class: dog\n",
      "Predicted class: truck, Actual class: truck\n",
      "Predicted class: automobile, Actual class: bird\n",
      "Predicted class: deer, Actual class: deer\n",
      "Predicted class: automobile, Actual class: automobile\n",
      "Predicted class: truck, Actual class: truck\n",
      "Predicted class: dog, Actual class: dog\n"
     ]
    }
   ],
   "source": [
    "img, label = testset[9]\n",
    "model.eval()\n",
    "img = img.unsqueeze(0)\n",
    "\n",
    "with torch.no_grad():\n",
    "    output = model(img)\n",
    "    _, predicted = torch.max(output, 1)\n",
    "    print(f\"Predicted class: {testset_classes[predicted.item()]}, Actual class: {testset_classes[label]}\")"
   ]
  }
 ],
 "metadata": {
  "kernelspec": {
   "display_name": "Python (task1)",
   "language": "python",
   "name": "task1"
  },
  "language_info": {
   "codemirror_mode": {
    "name": "ipython",
    "version": 3
   },
   "file_extension": ".py",
   "mimetype": "text/x-python",
   "name": "python",
   "nbconvert_exporter": "python",
   "pygments_lexer": "ipython3",
   "version": "3.8.10"
  }
 },
 "nbformat": 4,
 "nbformat_minor": 5
}
