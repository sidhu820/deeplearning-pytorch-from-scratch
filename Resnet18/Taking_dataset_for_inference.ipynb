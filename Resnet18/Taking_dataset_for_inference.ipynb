{
 "cells": [
  {
   "cell_type": "markdown",
   "id": "12550484-a773-4b9a-a85b-7b74263fd5ce",
   "metadata": {},
   "source": [
    "## Creating a subset for run the quantized model in Raspberry pi 5"
   ]
  },
  {
   "cell_type": "code",
   "execution_count": 1,
   "id": "4ba12be7-a66c-4a90-b7ef-45ee932938ad",
   "metadata": {},
   "outputs": [],
   "source": [
    "from torchvision import transforms\n",
    "import torchvision.datasets as datasets\n",
    "from torch.utils.data import Subset\n",
    "import pickle"
   ]
  },
  {
   "cell_type": "code",
   "execution_count": 2,
   "id": "6105bb6e-b8f3-42bd-af29-7666a2d0bb7b",
   "metadata": {},
   "outputs": [],
   "source": [
    "transform = transforms.Compose([\n",
    "    transforms.Resize((224, 224)),\n",
    "    transforms.ToTensor(),\n",
    "    transforms.Normalize((0.5, 0.5, 0.5), (0.5, 0.5, 0.5))\n",
    "])"
   ]
  },
  {
   "cell_type": "code",
   "execution_count": 3,
   "id": "8fa4643e-6774-4f06-9813-4300c5ad2a58",
   "metadata": {},
   "outputs": [
    {
     "name": "stdout",
     "output_type": "stream",
     "text": [
      "Files already downloaded and verified\n"
     ]
    },
    {
     "data": {
      "text/plain": [
       "10"
      ]
     },
     "execution_count": 3,
     "metadata": {},
     "output_type": "execute_result"
    }
   ],
   "source": [
    "## Creating a subset of testset for test in raspberry pi 5\n",
    "indices = list(range(10, 20))\n",
    "\n",
    "testset = datasets.CIFAR10(root='./data', train=False,\n",
    "                                        download=True, transform=transform)\n",
    "testset_subset = Subset(testset, indices)\n",
    "len(testset_subset)"
   ]
  },
  {
   "cell_type": "code",
   "execution_count": 4,
   "id": "1f0a70dc-d9ed-4b34-95dc-e99f3615aa8c",
   "metadata": {},
   "outputs": [],
   "source": [
    "# Define a filename for saving\n",
    "filename = 'testset_subset_1.pkl'\n",
    "\n",
    "# Save testset_subset using pickle\n",
    "with open(filename, 'wb') as f:\n",
    "    pickle.dump(testset_subset, f)"
   ]
  }
 ],
 "metadata": {
  "kernelspec": {
   "display_name": "Python (task1)",
   "language": "python",
   "name": "task1"
  },
  "language_info": {
   "codemirror_mode": {
    "name": "ipython",
    "version": 3
   },
   "file_extension": ".py",
   "mimetype": "text/x-python",
   "name": "python",
   "nbconvert_exporter": "python",
   "pygments_lexer": "ipython3",
   "version": "3.8.10"
  }
 },
 "nbformat": 4,
 "nbformat_minor": 5
}
