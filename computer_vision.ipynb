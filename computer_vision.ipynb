{
 "cells": [
  {
   "cell_type": "markdown",
   "id": "6e75231a-243b-4382-8c85-83d5a7110226",
   "metadata": {
    "editable": true,
    "slideshow": {
     "slide_type": ""
    },
    "tags": []
   },
   "source": [
    "## PyTorch Computer Vision"
   ]
  },
  {
   "cell_type": "code",
   "execution_count": 1,
   "id": "226e4480-948e-40c5-9053-87efb33a96e9",
   "metadata": {},
   "outputs": [],
   "source": [
    "## Computer vision libraries in pytorch\n",
    "## Torchvision ==> base domain library.\n",
    "## torchvision.datasets ==> get datasets and data loading functions.\n",
    "## torchvision.models ==> getting pretrained models.\n",
    "## torchvision.transform ==> Functions for manipulating your vision dataset.\n",
    "## torch.util.data.Dataset ==> base dataset class for pytorch.\n",
    "## torch.util.data.Dataloader ==> Ctraye a python iterable over a dataset."
   ]
  },
  {
   "cell_type": "code",
   "execution_count": 2,
   "id": "adbfba35-60ca-402e-87dc-7e2fb4655a08",
   "metadata": {},
   "outputs": [
    {
     "name": "stdout",
     "output_type": "stream",
     "text": [
      "2.3.0+cpu\n",
      "0.18.0+cpu\n"
     ]
    }
   ],
   "source": [
    "import torch\n",
    "from torch import nn\n",
    "import torchvision\n",
    "from torchvision import datasets\n",
    "from torchvision import transforms\n",
    "from torch.utils.data import DataLoader\n",
    "from torchvision.transforms import ToTensor\n",
    "import matplotlib.pyplot as plt\n",
    "print(torch.__version__)\n",
    "print(torchvision.__version__)"
   ]
  },
  {
   "cell_type": "code",
   "execution_count": 3,
   "id": "0574cedd-bd95-4732-8209-2926cf76996c",
   "metadata": {},
   "outputs": [],
   "source": [
    "## Getting a dataset :: fashionMNIST \n",
    "train_set = datasets.FashionMNIST(\n",
    "    root = 'data',\n",
    "    train = True,\n",
    "    download = True,\n",
    "    transform  = ToTensor(),\n",
    "    target_transform = None\n",
    ")\n",
    "test_set = datasets.FashionMNIST(\n",
    "    root = 'data',\n",
    "    train = False,\n",
    "    download = True,\n",
    "    transform = ToTensor(),\n",
    "    target_transform = None\n",
    ")"
   ]
  },
  {
   "cell_type": "code",
   "execution_count": 4,
   "id": "cfcce89d-eab8-4c05-93cc-ffc9efb64e07",
   "metadata": {},
   "outputs": [
    {
     "name": "stdout",
     "output_type": "stream",
     "text": [
      "Dataset FashionMNIST\n",
      "    Number of datapoints: 60000\n",
      "    Root location: data\n",
      "    Split: Train\n",
      "    StandardTransform\n",
      "Transform: ToTensor()\n"
     ]
    }
   ],
   "source": [
    "print(train_set)"
   ]
  },
  {
   "cell_type": "code",
   "execution_count": 5,
   "id": "ff4dde26-b3ee-4115-ad7c-5af6dff33764",
   "metadata": {},
   "outputs": [
    {
     "data": {
      "text/plain": [
       "(60000, 10000)"
      ]
     },
     "execution_count": 5,
     "metadata": {},
     "output_type": "execute_result"
    }
   ],
   "source": [
    "len(train_set), len(test_set)"
   ]
  },
  {
   "cell_type": "code",
   "execution_count": 6,
   "id": "2c03e71d-2cac-471a-a116-92d0d6adee8b",
   "metadata": {},
   "outputs": [],
   "source": [
    "image, label = train_set[0]"
   ]
  },
  {
   "cell_type": "code",
   "execution_count": 7,
   "id": "aa3372a5-2fd2-46db-a2ec-be24310768a1",
   "metadata": {},
   "outputs": [
    {
     "data": {
      "text/plain": [
       "(tensor([[[0.0000, 0.0000, 0.0000, 0.0000, 0.0000, 0.0000, 0.0000, 0.0000,\n",
       "           0.0000, 0.0000, 0.0000, 0.0000, 0.0000, 0.0000, 0.0000, 0.0000,\n",
       "           0.0000, 0.0000, 0.0000, 0.0000, 0.0000, 0.0000, 0.0000, 0.0000,\n",
       "           0.0000, 0.0000, 0.0000, 0.0000],\n",
       "          [0.0000, 0.0000, 0.0000, 0.0000, 0.0000, 0.0000, 0.0000, 0.0000,\n",
       "           0.0000, 0.0000, 0.0000, 0.0000, 0.0000, 0.0000, 0.0000, 0.0000,\n",
       "           0.0000, 0.0000, 0.0000, 0.0000, 0.0000, 0.0000, 0.0000, 0.0000,\n",
       "           0.0000, 0.0000, 0.0000, 0.0000],\n",
       "          [0.0000, 0.0000, 0.0000, 0.0000, 0.0000, 0.0000, 0.0000, 0.0000,\n",
       "           0.0000, 0.0000, 0.0000, 0.0000, 0.0000, 0.0000, 0.0000, 0.0000,\n",
       "           0.0000, 0.0000, 0.0000, 0.0000, 0.0000, 0.0000, 0.0000, 0.0000,\n",
       "           0.0000, 0.0000, 0.0000, 0.0000],\n",
       "          [0.0000, 0.0000, 0.0000, 0.0000, 0.0000, 0.0000, 0.0000, 0.0000,\n",
       "           0.0000, 0.0000, 0.0000, 0.0000, 0.0039, 0.0000, 0.0000, 0.0510,\n",
       "           0.2863, 0.0000, 0.0000, 0.0039, 0.0157, 0.0000, 0.0000, 0.0000,\n",
       "           0.0000, 0.0039, 0.0039, 0.0000],\n",
       "          [0.0000, 0.0000, 0.0000, 0.0000, 0.0000, 0.0000, 0.0000, 0.0000,\n",
       "           0.0000, 0.0000, 0.0000, 0.0000, 0.0118, 0.0000, 0.1412, 0.5333,\n",
       "           0.4980, 0.2431, 0.2118, 0.0000, 0.0000, 0.0000, 0.0039, 0.0118,\n",
       "           0.0157, 0.0000, 0.0000, 0.0118],\n",
       "          [0.0000, 0.0000, 0.0000, 0.0000, 0.0000, 0.0000, 0.0000, 0.0000,\n",
       "           0.0000, 0.0000, 0.0000, 0.0000, 0.0235, 0.0000, 0.4000, 0.8000,\n",
       "           0.6902, 0.5255, 0.5647, 0.4824, 0.0902, 0.0000, 0.0000, 0.0000,\n",
       "           0.0000, 0.0471, 0.0392, 0.0000],\n",
       "          [0.0000, 0.0000, 0.0000, 0.0000, 0.0000, 0.0000, 0.0000, 0.0000,\n",
       "           0.0000, 0.0000, 0.0000, 0.0000, 0.0000, 0.0000, 0.6078, 0.9255,\n",
       "           0.8118, 0.6980, 0.4196, 0.6118, 0.6314, 0.4275, 0.2510, 0.0902,\n",
       "           0.3020, 0.5098, 0.2824, 0.0588],\n",
       "          [0.0000, 0.0000, 0.0000, 0.0000, 0.0000, 0.0000, 0.0000, 0.0000,\n",
       "           0.0000, 0.0000, 0.0000, 0.0039, 0.0000, 0.2706, 0.8118, 0.8745,\n",
       "           0.8549, 0.8471, 0.8471, 0.6392, 0.4980, 0.4745, 0.4784, 0.5725,\n",
       "           0.5529, 0.3451, 0.6745, 0.2588],\n",
       "          [0.0000, 0.0000, 0.0000, 0.0000, 0.0000, 0.0000, 0.0000, 0.0000,\n",
       "           0.0000, 0.0039, 0.0039, 0.0039, 0.0000, 0.7843, 0.9098, 0.9098,\n",
       "           0.9137, 0.8980, 0.8745, 0.8745, 0.8431, 0.8353, 0.6431, 0.4980,\n",
       "           0.4824, 0.7686, 0.8980, 0.0000],\n",
       "          [0.0000, 0.0000, 0.0000, 0.0000, 0.0000, 0.0000, 0.0000, 0.0000,\n",
       "           0.0000, 0.0000, 0.0000, 0.0000, 0.0000, 0.7176, 0.8824, 0.8471,\n",
       "           0.8745, 0.8941, 0.9216, 0.8902, 0.8784, 0.8706, 0.8784, 0.8667,\n",
       "           0.8745, 0.9608, 0.6784, 0.0000],\n",
       "          [0.0000, 0.0000, 0.0000, 0.0000, 0.0000, 0.0000, 0.0000, 0.0000,\n",
       "           0.0000, 0.0000, 0.0000, 0.0000, 0.0000, 0.7569, 0.8941, 0.8549,\n",
       "           0.8353, 0.7765, 0.7059, 0.8314, 0.8235, 0.8275, 0.8353, 0.8745,\n",
       "           0.8627, 0.9529, 0.7922, 0.0000],\n",
       "          [0.0000, 0.0000, 0.0000, 0.0000, 0.0000, 0.0000, 0.0000, 0.0000,\n",
       "           0.0000, 0.0039, 0.0118, 0.0000, 0.0471, 0.8588, 0.8627, 0.8314,\n",
       "           0.8549, 0.7529, 0.6627, 0.8902, 0.8157, 0.8549, 0.8784, 0.8314,\n",
       "           0.8863, 0.7725, 0.8196, 0.2039],\n",
       "          [0.0000, 0.0000, 0.0000, 0.0000, 0.0000, 0.0000, 0.0000, 0.0000,\n",
       "           0.0000, 0.0000, 0.0235, 0.0000, 0.3882, 0.9569, 0.8706, 0.8627,\n",
       "           0.8549, 0.7961, 0.7765, 0.8667, 0.8431, 0.8353, 0.8706, 0.8627,\n",
       "           0.9608, 0.4667, 0.6549, 0.2196],\n",
       "          [0.0000, 0.0000, 0.0000, 0.0000, 0.0000, 0.0000, 0.0000, 0.0000,\n",
       "           0.0000, 0.0157, 0.0000, 0.0000, 0.2157, 0.9255, 0.8941, 0.9020,\n",
       "           0.8941, 0.9412, 0.9098, 0.8353, 0.8549, 0.8745, 0.9176, 0.8510,\n",
       "           0.8510, 0.8196, 0.3608, 0.0000],\n",
       "          [0.0000, 0.0000, 0.0039, 0.0157, 0.0235, 0.0275, 0.0078, 0.0000,\n",
       "           0.0000, 0.0000, 0.0000, 0.0000, 0.9294, 0.8863, 0.8510, 0.8745,\n",
       "           0.8706, 0.8588, 0.8706, 0.8667, 0.8471, 0.8745, 0.8980, 0.8431,\n",
       "           0.8549, 1.0000, 0.3020, 0.0000],\n",
       "          [0.0000, 0.0118, 0.0000, 0.0000, 0.0000, 0.0000, 0.0000, 0.0000,\n",
       "           0.0000, 0.2431, 0.5686, 0.8000, 0.8941, 0.8118, 0.8353, 0.8667,\n",
       "           0.8549, 0.8157, 0.8275, 0.8549, 0.8784, 0.8745, 0.8588, 0.8431,\n",
       "           0.8784, 0.9569, 0.6235, 0.0000],\n",
       "          [0.0000, 0.0000, 0.0000, 0.0000, 0.0706, 0.1725, 0.3216, 0.4196,\n",
       "           0.7412, 0.8941, 0.8627, 0.8706, 0.8510, 0.8863, 0.7843, 0.8039,\n",
       "           0.8275, 0.9020, 0.8784, 0.9176, 0.6902, 0.7373, 0.9804, 0.9725,\n",
       "           0.9137, 0.9333, 0.8431, 0.0000],\n",
       "          [0.0000, 0.2235, 0.7333, 0.8157, 0.8784, 0.8667, 0.8784, 0.8157,\n",
       "           0.8000, 0.8392, 0.8157, 0.8196, 0.7843, 0.6235, 0.9608, 0.7569,\n",
       "           0.8078, 0.8745, 1.0000, 1.0000, 0.8667, 0.9176, 0.8667, 0.8275,\n",
       "           0.8627, 0.9098, 0.9647, 0.0000],\n",
       "          [0.0118, 0.7922, 0.8941, 0.8784, 0.8667, 0.8275, 0.8275, 0.8392,\n",
       "           0.8039, 0.8039, 0.8039, 0.8627, 0.9412, 0.3137, 0.5882, 1.0000,\n",
       "           0.8980, 0.8667, 0.7373, 0.6039, 0.7490, 0.8235, 0.8000, 0.8196,\n",
       "           0.8706, 0.8941, 0.8824, 0.0000],\n",
       "          [0.3843, 0.9137, 0.7765, 0.8235, 0.8706, 0.8980, 0.8980, 0.9176,\n",
       "           0.9765, 0.8627, 0.7608, 0.8431, 0.8510, 0.9451, 0.2549, 0.2863,\n",
       "           0.4157, 0.4588, 0.6588, 0.8588, 0.8667, 0.8431, 0.8510, 0.8745,\n",
       "           0.8745, 0.8784, 0.8980, 0.1137],\n",
       "          [0.2941, 0.8000, 0.8314, 0.8000, 0.7569, 0.8039, 0.8275, 0.8824,\n",
       "           0.8471, 0.7255, 0.7725, 0.8078, 0.7765, 0.8353, 0.9412, 0.7647,\n",
       "           0.8902, 0.9608, 0.9373, 0.8745, 0.8549, 0.8314, 0.8196, 0.8706,\n",
       "           0.8627, 0.8667, 0.9020, 0.2627],\n",
       "          [0.1882, 0.7961, 0.7176, 0.7608, 0.8353, 0.7725, 0.7255, 0.7451,\n",
       "           0.7608, 0.7529, 0.7922, 0.8392, 0.8588, 0.8667, 0.8627, 0.9255,\n",
       "           0.8824, 0.8471, 0.7804, 0.8078, 0.7294, 0.7098, 0.6941, 0.6745,\n",
       "           0.7098, 0.8039, 0.8078, 0.4510],\n",
       "          [0.0000, 0.4784, 0.8588, 0.7569, 0.7020, 0.6706, 0.7176, 0.7686,\n",
       "           0.8000, 0.8235, 0.8353, 0.8118, 0.8275, 0.8235, 0.7843, 0.7686,\n",
       "           0.7608, 0.7490, 0.7647, 0.7490, 0.7765, 0.7529, 0.6902, 0.6118,\n",
       "           0.6549, 0.6941, 0.8235, 0.3608],\n",
       "          [0.0000, 0.0000, 0.2902, 0.7412, 0.8314, 0.7490, 0.6863, 0.6745,\n",
       "           0.6863, 0.7098, 0.7255, 0.7373, 0.7412, 0.7373, 0.7569, 0.7765,\n",
       "           0.8000, 0.8196, 0.8235, 0.8235, 0.8275, 0.7373, 0.7373, 0.7608,\n",
       "           0.7529, 0.8471, 0.6667, 0.0000],\n",
       "          [0.0078, 0.0000, 0.0000, 0.0000, 0.2588, 0.7843, 0.8706, 0.9294,\n",
       "           0.9373, 0.9490, 0.9647, 0.9529, 0.9569, 0.8667, 0.8627, 0.7569,\n",
       "           0.7490, 0.7020, 0.7137, 0.7137, 0.7098, 0.6902, 0.6510, 0.6588,\n",
       "           0.3882, 0.2275, 0.0000, 0.0000],\n",
       "          [0.0000, 0.0000, 0.0000, 0.0000, 0.0000, 0.0000, 0.0000, 0.1569,\n",
       "           0.2392, 0.1725, 0.2824, 0.1608, 0.1373, 0.0000, 0.0000, 0.0000,\n",
       "           0.0000, 0.0000, 0.0000, 0.0000, 0.0000, 0.0000, 0.0000, 0.0000,\n",
       "           0.0000, 0.0000, 0.0000, 0.0000],\n",
       "          [0.0000, 0.0000, 0.0000, 0.0000, 0.0000, 0.0000, 0.0000, 0.0000,\n",
       "           0.0000, 0.0000, 0.0000, 0.0000, 0.0000, 0.0000, 0.0000, 0.0000,\n",
       "           0.0000, 0.0000, 0.0000, 0.0000, 0.0000, 0.0000, 0.0000, 0.0000,\n",
       "           0.0000, 0.0000, 0.0000, 0.0000],\n",
       "          [0.0000, 0.0000, 0.0000, 0.0000, 0.0000, 0.0000, 0.0000, 0.0000,\n",
       "           0.0000, 0.0000, 0.0000, 0.0000, 0.0000, 0.0000, 0.0000, 0.0000,\n",
       "           0.0000, 0.0000, 0.0000, 0.0000, 0.0000, 0.0000, 0.0000, 0.0000,\n",
       "           0.0000, 0.0000, 0.0000, 0.0000]]]),\n",
       " 9)"
      ]
     },
     "execution_count": 7,
     "metadata": {},
     "output_type": "execute_result"
    }
   ],
   "source": [
    "image, label"
   ]
  },
  {
   "cell_type": "code",
   "execution_count": 8,
   "id": "b68065d3-fded-432a-b74c-57d315eb35d8",
   "metadata": {},
   "outputs": [
    {
     "name": "stdout",
     "output_type": "stream",
     "text": [
      "['T-shirt/top', 'Trouser', 'Pullover', 'Dress', 'Coat', 'Sandal', 'Shirt', 'Sneaker', 'Bag', 'Ankle boot']\n"
     ]
    }
   ],
   "source": [
    "print(train_set.classes)"
   ]
  },
  {
   "cell_type": "code",
   "execution_count": 9,
   "id": "af3bae9d-91e3-4029-a942-cc4d6cf541f7",
   "metadata": {},
   "outputs": [
    {
     "data": {
      "text/plain": [
       "{'T-shirt/top': 0,\n",
       " 'Trouser': 1,\n",
       " 'Pullover': 2,\n",
       " 'Dress': 3,\n",
       " 'Coat': 4,\n",
       " 'Sandal': 5,\n",
       " 'Shirt': 6,\n",
       " 'Sneaker': 7,\n",
       " 'Bag': 8,\n",
       " 'Ankle boot': 9}"
      ]
     },
     "execution_count": 9,
     "metadata": {},
     "output_type": "execute_result"
    }
   ],
   "source": [
    "class_to_idx = train_set.class_to_idx\n",
    "class_to_idx"
   ]
  },
  {
   "cell_type": "code",
   "execution_count": 10,
   "id": "335c9fc1-6118-4ce6-b344-51051c19de0c",
   "metadata": {},
   "outputs": [
    {
     "data": {
      "text/plain": [
       "(torch.Size([1, 28, 28]), 9)"
      ]
     },
     "execution_count": 10,
     "metadata": {},
     "output_type": "execute_result"
    }
   ],
   "source": [
    "image.shape, label"
   ]
  },
  {
   "cell_type": "code",
   "execution_count": 11,
   "id": "f8dad81e-29bd-483e-8221-d2859d34598d",
   "metadata": {},
   "outputs": [
    {
     "data": {
      "text/plain": [
       "(-0.5, 27.5, 27.5, -0.5)"
      ]
     },
     "execution_count": 11,
     "metadata": {},
     "output_type": "execute_result"
    },
    {
     "data": {
      "image/png": "[encoded data removed]",
      "text/plain": [
       "<Figure size 500x300 with 1 Axes>"
      ]
     },
     "metadata": {},
     "output_type": "display_data"
    }
   ],
   "source": [
    "plt.figure(figsize=(5,3))\n",
    "plt.imshow(image.squeeze(), cmap = 'gray')\n",
    "plt.title(train_set.classes[label])\n",
    "plt.axis(False)"
   ]
  },
  {
   "cell_type": "code",
   "execution_count": 12,
   "id": "914e366b-649a-4f47-a504-7b24f734cc7e",
   "metadata": {},
   "outputs": [
    {
     "data": {
      "image/png": "[encoded data removed]",
      "text/plain": [
       "<Figure size 700x700 with 16 Axes>"
      ]
     },
     "metadata": {},
     "output_type": "display_data"
    }
   ],
   "source": [
    "fig = plt.figure(figsize=(7,7))\n",
    "for i in range(1,17):\n",
    "    random_idx = torch.randint(0, len(train_set), size=[1]).item()\n",
    "    img, label = train_set[random_idx]\n",
    "    fig.add_subplot(4,4,i)\n",
    "    plt.imshow(img.squeeze(), cmap ='gray')\n",
    "    plt.title(train_set.classes[label])\n",
    "    plt.axis(False)"
   ]
  },
  {
   "cell_type": "code",
   "execution_count": 13,
   "id": "ac88a6c2-4392-4a9e-88d6-1b1c217ed23d",
   "metadata": {},
   "outputs": [
    {
     "data": {
      "text/plain": [
       "(<torch.utils.data.dataloader.DataLoader at 0x7fe689111940>,\n",
       " <torch.utils.data.dataloader.DataLoader at 0x7fe689111ac0>)"
      ]
     },
     "execution_count": 13,
     "metadata": {},
     "output_type": "execute_result"
    }
   ],
   "source": [
    "train_loader = DataLoader(train_set, batch_size = 32, shuffle = True)\n",
    "test_loader = DataLoader(test_set, batch_size = 32, shuffle = False)\n",
    "train_loader, test_loader"
   ]
  },
  {
   "cell_type": "code",
   "execution_count": 14,
   "id": "08d7a09d-f402-4fff-b407-4cb686821cf8",
   "metadata": {},
   "outputs": [
    {
     "data": {
      "text/plain": [
       "(1875, 313)"
      ]
     },
     "execution_count": 14,
     "metadata": {},
     "output_type": "execute_result"
    }
   ],
   "source": [
    "len(train_loader), len(test_loader)"
   ]
  },
  {
   "cell_type": "code",
   "execution_count": 15,
   "id": "18458abd-3994-4d4c-848d-e72a7f94e571",
   "metadata": {},
   "outputs": [
    {
     "data": {
      "text/plain": [
       "(torch.Size([32, 1, 28, 28]), torch.Size([32]))"
      ]
     },
     "execution_count": 15,
     "metadata": {},
     "output_type": "execute_result"
    }
   ],
   "source": [
    "## Check what inside the data_loader \n",
    "train_feature_batch, train_label_batch = next(iter(train_loader))\n",
    "train_feature_batch.shape, train_label_batch.shape\n"
   ]
  },
  {
   "cell_type": "code",
   "execution_count": 16,
   "id": "ddedd9b1-3e02-49ad-b9b8-5990c7ca4547",
   "metadata": {},
   "outputs": [
    {
     "data": {
      "text/plain": [
       "(-0.5, 27.5, 27.5, -0.5)"
      ]
     },
     "execution_count": 16,
     "metadata": {},
     "output_type": "execute_result"
    },
    {
     "data": {
      "image/png": "[encoded data removed]",
      "text/plain": [
       "<Figure size 500x300 with 1 Axes>"
      ]
     },
     "metadata": {},
     "output_type": "display_data"
    }
   ],
   "source": [
    "torch.manual_seed(42)\n",
    "random_idx = torch.randint(0, len(train_feature_batch), size=[1]).item()\n",
    "img, label = train_feature_batch[random_idx], train_label_batch[random_idx]\n",
    "plt.figure(figsize=(5,3))\n",
    "plt.imshow(img.squeeze(), cmap = 'gray')\n",
    "plt.title(train_set.classes[label])\n",
    "plt.axis(False)"
   ]
  },
  {
   "cell_type": "code",
   "execution_count": 17,
   "id": "0ae02508-f609-45ad-a924-faa9fdc52cd2",
   "metadata": {},
   "outputs": [
    {
     "data": {
      "text/plain": [
       "(torch.Size([1, 28, 28]),\n",
       " torch.Size([1, 784]),\n",
       " tensor([[0.0000, 0.0000, 0.0000, 0.0000, 0.0353, 0.0353, 0.0353, 0.0353, 0.0353,\n",
       "          0.0353, 0.0392, 0.0039, 0.0588, 0.2627, 0.1059, 0.0039, 0.0392, 0.0275,\n",
       "          0.0353, 0.0353, 0.0353, 0.0353, 0.0353, 0.0353, 0.0000, 0.0000, 0.0000,\n",
       "          0.0000, 0.0000, 0.0000, 0.0000, 0.0000, 0.0353, 0.0353, 0.0353, 0.0353,\n",
       "          0.0353, 0.0353, 0.0353, 0.0157, 0.1412, 0.0706, 0.1843, 0.0941, 0.0039,\n",
       "          0.0392, 0.0353, 0.0353, 0.0353, 0.0353, 0.0353, 0.0353, 0.0000, 0.0000,\n",
       "          0.0000, 0.0000, 0.0000, 0.0000, 0.0000, 0.0000, 0.0353, 0.0353, 0.0353,\n",
       "          0.0353, 0.0353, 0.0353, 0.0392, 0.0235, 0.0039, 0.0000, 0.1843, 0.0745,\n",
       "          0.0275, 0.0353, 0.0353, 0.0353, 0.0353, 0.0353, 0.0353, 0.0353, 0.0000,\n",
       "          0.0000, 0.0000, 0.0000, 0.0000, 0.0000, 0.0000, 0.0000, 0.0275, 0.0353,\n",
       "          0.0353, 0.0353, 0.0353, 0.0157, 0.0627, 0.0510, 0.0000, 0.1020, 0.1490,\n",
       "          0.0000, 0.0471, 0.0510, 0.0353, 0.0353, 0.0353, 0.0353, 0.0353, 0.0353,\n",
       "          0.0000, 0.0000, 0.0000, 0.0000, 0.0000, 0.0000, 0.0000, 0.0000, 0.0275,\n",
       "          0.0353, 0.0353, 0.0353, 0.0353, 0.0157, 0.0000, 0.0000, 0.0588, 0.1412,\n",
       "          0.1412, 0.0235, 0.0000, 0.0000, 0.0157, 0.0353, 0.0353, 0.0353, 0.0353,\n",
       "          0.0353, 0.0000, 0.0000, 0.0000, 0.0000, 0.0000, 0.0000, 0.0000, 0.0000,\n",
       "          0.0275, 0.0353, 0.0275, 0.0275, 0.0000, 0.0000, 0.2941, 0.1059, 0.0275,\n",
       "          0.0824, 0.0902, 0.0039, 0.1686, 0.2157, 0.0000, 0.0118, 0.0353, 0.0353,\n",
       "          0.0353, 0.0275, 0.0000, 0.0000, 0.0000, 0.0000, 0.0000, 0.0000, 0.0000,\n",
       "          0.0000, 0.0275, 0.0353, 0.0275, 0.0510, 0.0000, 0.4902, 0.9059, 0.5647,\n",
       "          0.0902, 0.1294, 0.1373, 0.1961, 0.7137, 0.8431, 0.2510, 0.0000, 0.0039,\n",
       "          0.0275, 0.0275, 0.0275, 0.0000, 0.0000, 0.0000, 0.0000, 0.0000, 0.0000,\n",
       "          0.0000, 0.0000, 0.0275, 0.0392, 0.0000, 0.0941, 0.1255, 0.4549, 0.7804,\n",
       "          0.7647, 0.8667, 0.9686, 1.0000, 0.8353, 0.7333, 0.7333, 0.1294, 0.1804,\n",
       "          0.1529, 0.0000, 0.0353, 0.0353, 0.0000, 0.0000, 0.0000, 0.0000, 0.0000,\n",
       "          0.0000, 0.0000, 0.0000, 0.0353, 0.0275, 0.0353, 0.0000, 0.0941, 0.3765,\n",
       "          0.7804, 0.7333, 0.7373, 0.7569, 0.7216, 0.7137, 0.7373, 0.7333, 0.2078,\n",
       "          0.2431, 0.1608, 0.0000, 0.0392, 0.0275, 0.0000, 0.0000, 0.0000, 0.0000,\n",
       "          0.0000, 0.0000, 0.0000, 0.0000, 0.0275, 0.0353, 0.0235, 0.0275, 0.0000,\n",
       "          0.3373, 0.8824, 0.6863, 0.7216, 0.6980, 0.7216, 0.7333, 0.6745, 0.8941,\n",
       "          0.1608, 0.0000, 0.0118, 0.0275, 0.0353, 0.0275, 0.0000, 0.0000, 0.0000,\n",
       "          0.0000, 0.0000, 0.0000, 0.0000, 0.0000, 0.0275, 0.0235, 0.0235, 0.0000,\n",
       "          0.0000, 0.7216, 0.8157, 0.7529, 0.7686, 0.7451, 0.7882, 0.7529, 0.6784,\n",
       "          0.8471, 0.5765, 0.0000, 0.0039, 0.0353, 0.0275, 0.0353, 0.0000, 0.0000,\n",
       "          0.0000, 0.0000, 0.0000, 0.0000, 0.0000, 0.0000, 0.0235, 0.0706, 0.0000,\n",
       "          0.1922, 0.8471, 0.8431, 0.7882, 0.8118, 0.7765, 0.7882, 0.8157, 0.8157,\n",
       "          0.8157, 0.8118, 0.8000, 0.5569, 0.0000, 0.0275, 0.0353, 0.0353, 0.0000,\n",
       "          0.0000, 0.0000, 0.0000, 0.0000, 0.0000, 0.0000, 0.0000, 0.0275, 0.0510,\n",
       "          0.0000, 0.4863, 0.9137, 0.7686, 0.7333, 0.7451, 0.7647, 0.7216, 0.7255,\n",
       "          0.7451, 0.7333, 0.7686, 0.7804, 0.9137, 0.0157, 0.0118, 0.0392, 0.0275,\n",
       "          0.0000, 0.0000, 0.0000, 0.0000, 0.0000, 0.0000, 0.0000, 0.0000, 0.0235,\n",
       "          0.0471, 0.0000, 0.3725, 0.8667, 0.7765, 0.6902, 0.7922, 0.7373, 0.7333,\n",
       "          0.7451, 0.7765, 0.7255, 0.7686, 0.7804, 0.6745, 0.0000, 0.0039, 0.0275,\n",
       "          0.0392, 0.0000, 0.0000, 0.0000, 0.0000, 0.0000, 0.0000, 0.0000, 0.0000,\n",
       "          0.0235, 0.0235, 0.0000, 0.6863, 0.8471, 0.7529, 0.6745, 0.7647, 0.7216,\n",
       "          0.7569, 0.6980, 0.7804, 0.7137, 0.7647, 0.7529, 0.8157, 0.0118, 0.0000,\n",
       "          0.0510, 0.0275, 0.0000, 0.0000, 0.0000, 0.0000, 0.0000, 0.0000, 0.0000,\n",
       "          0.0000, 0.0392, 0.0000, 0.0039, 0.8706, 0.8157, 0.7137, 0.6471, 0.7569,\n",
       "          0.7098, 0.7569, 0.7255, 0.7922, 0.6902, 0.8039, 0.7529, 0.9020, 0.2588,\n",
       "          0.0000, 0.0510, 0.0235, 0.0000, 0.0000, 0.0000, 0.0000, 0.0000, 0.0000,\n",
       "          0.0000, 0.0000, 0.0353, 0.0000, 0.1686, 0.8275, 0.8588, 0.8471, 0.7882,\n",
       "          0.8588, 0.7451, 0.8157, 0.8157, 0.8784, 0.8549, 0.8667, 0.8000, 0.8549,\n",
       "          0.5059, 0.0000, 0.0353, 0.0392, 0.0000, 0.0000, 0.0000, 0.0000, 0.0000,\n",
       "          0.0000, 0.0000, 0.0000, 0.0275, 0.0000, 0.2863, 0.7922, 0.8118, 0.7686,\n",
       "          0.7882, 0.7529, 0.7804, 0.8000, 0.7922, 0.8275, 0.7333, 0.8235, 0.7020,\n",
       "          0.7922, 0.6863, 0.0000, 0.0157, 0.0275, 0.0000, 0.0000, 0.0000, 0.0000,\n",
       "          0.0000, 0.0000, 0.0000, 0.0000, 0.0118, 0.0000, 0.6000, 0.7882, 0.7765,\n",
       "          0.8588, 0.6784, 0.8118, 0.7686, 0.7647, 0.8157, 0.7765, 0.7529, 0.8824,\n",
       "          0.7333, 0.7451, 0.9020, 0.1490, 0.0000, 0.0627, 0.0000, 0.0000, 0.0000,\n",
       "          0.0000, 0.0000, 0.0000, 0.0000, 0.0000, 0.0000, 0.0000, 0.8000, 0.7137,\n",
       "          0.7216, 0.8941, 0.6000, 0.7922, 0.8471, 0.7333, 0.8039, 0.7333, 0.7569,\n",
       "          0.8000, 0.8431, 0.6235, 0.7765, 0.4431, 0.0000, 0.0157, 0.0000, 0.0000,\n",
       "          0.0000, 0.0000, 0.0000, 0.0000, 0.0000, 0.0000, 0.0000, 0.2314, 0.9843,\n",
       "          0.7216, 0.7804, 0.8824, 0.6784, 0.7882, 0.8706, 0.7373, 0.7765, 0.7882,\n",
       "          0.8118, 0.7922, 0.8157, 0.7373, 0.7804, 0.8549, 0.0000, 0.0039, 0.0000,\n",
       "          0.0000, 0.0000, 0.0000, 0.0000, 0.0000, 0.0000, 0.0000, 0.0000, 0.4667,\n",
       "          0.8667, 0.7529, 0.8941, 0.9333, 0.8235, 0.8549, 0.8824, 0.8235, 0.8157,\n",
       "          0.8784, 0.7686, 0.8275, 0.8157, 0.8039, 0.7529, 0.9373, 0.1059, 0.0000,\n",
       "          0.0000, 0.0000, 0.0000, 0.0000, 0.0000, 0.0000, 0.0000, 0.0000, 0.0000,\n",
       "          0.7804, 0.7255, 0.7098, 0.9451, 0.7098, 0.6588, 0.8902, 0.8431, 0.7020,\n",
       "          0.7686, 0.8667, 0.7373, 0.7137, 0.8471, 0.7020, 0.7333, 0.7373, 0.4627,\n",
       "          0.0000, 0.0000, 0.0000, 0.0000, 0.0000, 0.0000, 0.0000, 0.0000, 0.0000,\n",
       "          0.2706, 0.7686, 0.6549, 0.7137, 0.9255, 0.5765, 0.5961, 0.9804, 0.9137,\n",
       "          0.6431, 0.7020, 0.8431, 0.7373, 0.6118, 0.8667, 0.6745, 0.6784, 0.6863,\n",
       "          0.6588, 0.0275, 0.0000, 0.0000, 0.0000, 0.0000, 0.0000, 0.0000, 0.0000,\n",
       "          0.0000, 0.4902, 0.8824, 0.6980, 0.8549, 0.9608, 0.7333, 0.7255, 1.0000,\n",
       "          0.7765, 0.6431, 0.6588, 0.8588, 0.7373, 0.6549, 0.8588, 0.7922, 0.7098,\n",
       "          0.7569, 0.7373, 0.2706, 0.0000, 0.0000, 0.0000, 0.0000, 0.0000, 0.0000,\n",
       "          0.0000, 0.0000, 0.0000, 0.0000, 0.1373, 0.5059, 0.7020, 0.7922, 0.6471,\n",
       "          0.9725, 0.8667, 0.9843, 0.8784, 0.9804, 0.7529, 0.5647, 0.6902, 0.6902,\n",
       "          0.5647, 0.3765, 0.1490, 0.0039, 0.0000, 0.0000, 0.0000, 0.0000, 0.0000,\n",
       "          0.0000, 0.0000, 0.0000, 0.0157, 0.0039, 0.0000, 0.0000, 0.0000, 0.0000,\n",
       "          0.0000, 0.0000, 0.0000, 0.1490, 0.2078, 0.0471, 0.0039, 0.0157, 0.0000,\n",
       "          0.0000, 0.0000, 0.0000, 0.0000, 0.0000, 0.0000, 0.0000, 0.0000, 0.0000,\n",
       "          0.0000, 0.0000, 0.0000, 0.0000, 0.0235, 0.0353, 0.0392, 0.0392, 0.0157,\n",
       "          0.0235, 0.0275, 0.0000, 0.0000, 0.0000, 0.0000, 0.0000, 0.0039, 0.0000,\n",
       "          0.0118, 0.0000, 0.0157, 0.0275, 0.0510, 0.0275, 0.0000, 0.0000, 0.0000,\n",
       "          0.0000]]))"
      ]
     },
     "execution_count": 17,
     "metadata": {},
     "output_type": "execute_result"
    }
   ],
   "source": [
    "## Model creation\n",
    "## New layer ==> flatten layer\n",
    "\n",
    "flatten_model = nn.Flatten()\n",
    "\n",
    "x = train_feature_batch[0]\n",
    "\n",
    "output = flatten_model(x) ##  Forward pass\n",
    "## Pass the value to the flatten model\n",
    "x.shape, output.shape, output"
   ]
  },
  {
   "cell_type": "code",
   "execution_count": 18,
   "id": "cef8e55d-7f50-41c9-b6f8-8bf6bb3adc5f",
   "metadata": {
    "scrolled": true
   },
   "outputs": [
    {
     "data": {
      "text/plain": [
       "(tensor([0.0000, 0.0000, 0.0000, 0.0000, 0.0353, 0.0353, 0.0353, 0.0353, 0.0353,\n",
       "         0.0353, 0.0392, 0.0039, 0.0588, 0.2627, 0.1059, 0.0039, 0.0392, 0.0275,\n",
       "         0.0353, 0.0353, 0.0353, 0.0353, 0.0353, 0.0353, 0.0000, 0.0000, 0.0000,\n",
       "         0.0000, 0.0000, 0.0000, 0.0000, 0.0000, 0.0353, 0.0353, 0.0353, 0.0353,\n",
       "         0.0353, 0.0353, 0.0353, 0.0157, 0.1412, 0.0706, 0.1843, 0.0941, 0.0039,\n",
       "         0.0392, 0.0353, 0.0353, 0.0353, 0.0353, 0.0353, 0.0353, 0.0000, 0.0000,\n",
       "         0.0000, 0.0000, 0.0000, 0.0000, 0.0000, 0.0000, 0.0353, 0.0353, 0.0353,\n",
       "         0.0353, 0.0353, 0.0353, 0.0392, 0.0235, 0.0039, 0.0000, 0.1843, 0.0745,\n",
       "         0.0275, 0.0353, 0.0353, 0.0353, 0.0353, 0.0353, 0.0353, 0.0353, 0.0000,\n",
       "         0.0000, 0.0000, 0.0000, 0.0000, 0.0000, 0.0000, 0.0000, 0.0275, 0.0353,\n",
       "         0.0353, 0.0353, 0.0353, 0.0157, 0.0627, 0.0510, 0.0000, 0.1020, 0.1490,\n",
       "         0.0000, 0.0471, 0.0510, 0.0353, 0.0353, 0.0353, 0.0353, 0.0353, 0.0353,\n",
       "         0.0000, 0.0000, 0.0000, 0.0000, 0.0000, 0.0000, 0.0000, 0.0000, 0.0275,\n",
       "         0.0353, 0.0353, 0.0353, 0.0353, 0.0157, 0.0000, 0.0000, 0.0588, 0.1412,\n",
       "         0.1412, 0.0235, 0.0000, 0.0000, 0.0157, 0.0353, 0.0353, 0.0353, 0.0353,\n",
       "         0.0353, 0.0000, 0.0000, 0.0000, 0.0000, 0.0000, 0.0000, 0.0000, 0.0000,\n",
       "         0.0275, 0.0353, 0.0275, 0.0275, 0.0000, 0.0000, 0.2941, 0.1059, 0.0275,\n",
       "         0.0824, 0.0902, 0.0039, 0.1686, 0.2157, 0.0000, 0.0118, 0.0353, 0.0353,\n",
       "         0.0353, 0.0275, 0.0000, 0.0000, 0.0000, 0.0000, 0.0000, 0.0000, 0.0000,\n",
       "         0.0000, 0.0275, 0.0353, 0.0275, 0.0510, 0.0000, 0.4902, 0.9059, 0.5647,\n",
       "         0.0902, 0.1294, 0.1373, 0.1961, 0.7137, 0.8431, 0.2510, 0.0000, 0.0039,\n",
       "         0.0275, 0.0275, 0.0275, 0.0000, 0.0000, 0.0000, 0.0000, 0.0000, 0.0000,\n",
       "         0.0000, 0.0000, 0.0275, 0.0392, 0.0000, 0.0941, 0.1255, 0.4549, 0.7804,\n",
       "         0.7647, 0.8667, 0.9686, 1.0000, 0.8353, 0.7333, 0.7333, 0.1294, 0.1804,\n",
       "         0.1529, 0.0000, 0.0353, 0.0353, 0.0000, 0.0000, 0.0000, 0.0000, 0.0000,\n",
       "         0.0000, 0.0000, 0.0000, 0.0353, 0.0275, 0.0353, 0.0000, 0.0941, 0.3765,\n",
       "         0.7804, 0.7333, 0.7373, 0.7569, 0.7216, 0.7137, 0.7373, 0.7333, 0.2078,\n",
       "         0.2431, 0.1608, 0.0000, 0.0392, 0.0275, 0.0000, 0.0000, 0.0000, 0.0000,\n",
       "         0.0000, 0.0000, 0.0000, 0.0000, 0.0275, 0.0353, 0.0235, 0.0275, 0.0000,\n",
       "         0.3373, 0.8824, 0.6863, 0.7216, 0.6980, 0.7216, 0.7333, 0.6745, 0.8941,\n",
       "         0.1608, 0.0000, 0.0118, 0.0275, 0.0353, 0.0275, 0.0000, 0.0000, 0.0000,\n",
       "         0.0000, 0.0000, 0.0000, 0.0000, 0.0000, 0.0275, 0.0235, 0.0235, 0.0000,\n",
       "         0.0000, 0.7216, 0.8157, 0.7529, 0.7686, 0.7451, 0.7882, 0.7529, 0.6784,\n",
       "         0.8471, 0.5765, 0.0000, 0.0039, 0.0353, 0.0275, 0.0353, 0.0000, 0.0000,\n",
       "         0.0000, 0.0000, 0.0000, 0.0000, 0.0000, 0.0000, 0.0235, 0.0706, 0.0000,\n",
       "         0.1922, 0.8471, 0.8431, 0.7882, 0.8118, 0.7765, 0.7882, 0.8157, 0.8157,\n",
       "         0.8157, 0.8118, 0.8000, 0.5569, 0.0000, 0.0275, 0.0353, 0.0353, 0.0000,\n",
       "         0.0000, 0.0000, 0.0000, 0.0000, 0.0000, 0.0000, 0.0000, 0.0275, 0.0510,\n",
       "         0.0000, 0.4863, 0.9137, 0.7686, 0.7333, 0.7451, 0.7647, 0.7216, 0.7255,\n",
       "         0.7451, 0.7333, 0.7686, 0.7804, 0.9137, 0.0157, 0.0118, 0.0392, 0.0275,\n",
       "         0.0000, 0.0000, 0.0000, 0.0000, 0.0000, 0.0000, 0.0000, 0.0000, 0.0235,\n",
       "         0.0471, 0.0000, 0.3725, 0.8667, 0.7765, 0.6902, 0.7922, 0.7373, 0.7333,\n",
       "         0.7451, 0.7765, 0.7255, 0.7686, 0.7804, 0.6745, 0.0000, 0.0039, 0.0275,\n",
       "         0.0392, 0.0000, 0.0000, 0.0000, 0.0000, 0.0000, 0.0000, 0.0000, 0.0000,\n",
       "         0.0235, 0.0235, 0.0000, 0.6863, 0.8471, 0.7529, 0.6745, 0.7647, 0.7216,\n",
       "         0.7569, 0.6980, 0.7804, 0.7137, 0.7647, 0.7529, 0.8157, 0.0118, 0.0000,\n",
       "         0.0510, 0.0275, 0.0000, 0.0000, 0.0000, 0.0000, 0.0000, 0.0000, 0.0000,\n",
       "         0.0000, 0.0392, 0.0000, 0.0039, 0.8706, 0.8157, 0.7137, 0.6471, 0.7569,\n",
       "         0.7098, 0.7569, 0.7255, 0.7922, 0.6902, 0.8039, 0.7529, 0.9020, 0.2588,\n",
       "         0.0000, 0.0510, 0.0235, 0.0000, 0.0000, 0.0000, 0.0000, 0.0000, 0.0000,\n",
       "         0.0000, 0.0000, 0.0353, 0.0000, 0.1686, 0.8275, 0.8588, 0.8471, 0.7882,\n",
       "         0.8588, 0.7451, 0.8157, 0.8157, 0.8784, 0.8549, 0.8667, 0.8000, 0.8549,\n",
       "         0.5059, 0.0000, 0.0353, 0.0392, 0.0000, 0.0000, 0.0000, 0.0000, 0.0000,\n",
       "         0.0000, 0.0000, 0.0000, 0.0275, 0.0000, 0.2863, 0.7922, 0.8118, 0.7686,\n",
       "         0.7882, 0.7529, 0.7804, 0.8000, 0.7922, 0.8275, 0.7333, 0.8235, 0.7020,\n",
       "         0.7922, 0.6863, 0.0000, 0.0157, 0.0275, 0.0000, 0.0000, 0.0000, 0.0000,\n",
       "         0.0000, 0.0000, 0.0000, 0.0000, 0.0118, 0.0000, 0.6000, 0.7882, 0.7765,\n",
       "         0.8588, 0.6784, 0.8118, 0.7686, 0.7647, 0.8157, 0.7765, 0.7529, 0.8824,\n",
       "         0.7333, 0.7451, 0.9020, 0.1490, 0.0000, 0.0627, 0.0000, 0.0000, 0.0000,\n",
       "         0.0000, 0.0000, 0.0000, 0.0000, 0.0000, 0.0000, 0.0000, 0.8000, 0.7137,\n",
       "         0.7216, 0.8941, 0.6000, 0.7922, 0.8471, 0.7333, 0.8039, 0.7333, 0.7569,\n",
       "         0.8000, 0.8431, 0.6235, 0.7765, 0.4431, 0.0000, 0.0157, 0.0000, 0.0000,\n",
       "         0.0000, 0.0000, 0.0000, 0.0000, 0.0000, 0.0000, 0.0000, 0.2314, 0.9843,\n",
       "         0.7216, 0.7804, 0.8824, 0.6784, 0.7882, 0.8706, 0.7373, 0.7765, 0.7882,\n",
       "         0.8118, 0.7922, 0.8157, 0.7373, 0.7804, 0.8549, 0.0000, 0.0039, 0.0000,\n",
       "         0.0000, 0.0000, 0.0000, 0.0000, 0.0000, 0.0000, 0.0000, 0.0000, 0.4667,\n",
       "         0.8667, 0.7529, 0.8941, 0.9333, 0.8235, 0.8549, 0.8824, 0.8235, 0.8157,\n",
       "         0.8784, 0.7686, 0.8275, 0.8157, 0.8039, 0.7529, 0.9373, 0.1059, 0.0000,\n",
       "         0.0000, 0.0000, 0.0000, 0.0000, 0.0000, 0.0000, 0.0000, 0.0000, 0.0000,\n",
       "         0.7804, 0.7255, 0.7098, 0.9451, 0.7098, 0.6588, 0.8902, 0.8431, 0.7020,\n",
       "         0.7686, 0.8667, 0.7373, 0.7137, 0.8471, 0.7020, 0.7333, 0.7373, 0.4627,\n",
       "         0.0000, 0.0000, 0.0000, 0.0000, 0.0000, 0.0000, 0.0000, 0.0000, 0.0000,\n",
       "         0.2706, 0.7686, 0.6549, 0.7137, 0.9255, 0.5765, 0.5961, 0.9804, 0.9137,\n",
       "         0.6431, 0.7020, 0.8431, 0.7373, 0.6118, 0.8667, 0.6745, 0.6784, 0.6863,\n",
       "         0.6588, 0.0275, 0.0000, 0.0000, 0.0000, 0.0000, 0.0000, 0.0000, 0.0000,\n",
       "         0.0000, 0.4902, 0.8824, 0.6980, 0.8549, 0.9608, 0.7333, 0.7255, 1.0000,\n",
       "         0.7765, 0.6431, 0.6588, 0.8588, 0.7373, 0.6549, 0.8588, 0.7922, 0.7098,\n",
       "         0.7569, 0.7373, 0.2706, 0.0000, 0.0000, 0.0000, 0.0000, 0.0000, 0.0000,\n",
       "         0.0000, 0.0000, 0.0000, 0.0000, 0.1373, 0.5059, 0.7020, 0.7922, 0.6471,\n",
       "         0.9725, 0.8667, 0.9843, 0.8784, 0.9804, 0.7529, 0.5647, 0.6902, 0.6902,\n",
       "         0.5647, 0.3765, 0.1490, 0.0039, 0.0000, 0.0000, 0.0000, 0.0000, 0.0000,\n",
       "         0.0000, 0.0000, 0.0000, 0.0157, 0.0039, 0.0000, 0.0000, 0.0000, 0.0000,\n",
       "         0.0000, 0.0000, 0.0000, 0.1490, 0.2078, 0.0471, 0.0039, 0.0157, 0.0000,\n",
       "         0.0000, 0.0000, 0.0000, 0.0000, 0.0000, 0.0000, 0.0000, 0.0000, 0.0000,\n",
       "         0.0000, 0.0000, 0.0000, 0.0000, 0.0235, 0.0353, 0.0392, 0.0392, 0.0157,\n",
       "         0.0235, 0.0275, 0.0000, 0.0000, 0.0000, 0.0000, 0.0000, 0.0039, 0.0000,\n",
       "         0.0118, 0.0000, 0.0157, 0.0275, 0.0510, 0.0275, 0.0000, 0.0000, 0.0000,\n",
       "         0.0000]),\n",
       " torch.Size([1, 784]))"
      ]
     },
     "execution_count": 18,
     "metadata": {},
     "output_type": "execute_result"
    }
   ],
   "source": [
    "output.squeeze(), output.shape"
   ]
  },
  {
   "cell_type": "code",
   "execution_count": 19,
   "id": "7255b7c3-3a97-48c2-a3a6-68e739c50872",
   "metadata": {},
   "outputs": [],
   "source": [
    "class FashionMnist(nn.Module):\n",
    "    def __init__(self):\n",
    "        super().__init__()\n",
    "        self.layer_stack = nn.Sequential(\n",
    "             nn.Flatten(),\n",
    "             nn.Linear(784,10),\n",
    "             nn.Linear(10,len(train_set.classes))\n",
    "         )\n",
    "    def forward(self, x):\n",
    "\n",
    "        return self.layer_stack(x)"
   ]
  },
  {
   "cell_type": "code",
   "execution_count": 20,
   "id": "e0e3440b-525f-40a5-87aa-0cb5f642f38b",
   "metadata": {
    "scrolled": true
   },
   "outputs": [
    {
     "data": {
      "text/plain": [
       "FashionMnist(\n",
       "  (layer_stack): Sequential(\n",
       "    (0): Flatten(start_dim=1, end_dim=-1)\n",
       "    (1): Linear(in_features=784, out_features=10, bias=True)\n",
       "    (2): Linear(in_features=10, out_features=10, bias=True)\n",
       "  )\n",
       ")"
      ]
     },
     "execution_count": 20,
     "metadata": {},
     "output_type": "execute_result"
    }
   ],
   "source": [
    "torch.manual_seed(42)\n",
    "model = FashionMnist()\n",
    "model"
   ]
  },
  {
   "cell_type": "code",
   "execution_count": 21,
   "id": "14c9e8b6-8790-4b4f-b75f-16ab60a6a295",
   "metadata": {},
   "outputs": [],
   "source": [
    "# dummmy_x = torch.rand([1,1,28,28])\n",
    "# model(dummmy_x)"
   ]
  },
  {
   "cell_type": "code",
   "execution_count": 22,
   "id": "4235a9d4-3f8b-4ca1-af94-249fc1fd4632",
   "metadata": {},
   "outputs": [],
   "source": [
    "# model.state_dict()"
   ]
  },
  {
   "cell_type": "code",
   "execution_count": 23,
   "id": "945f6852-07b6-43c2-945c-4b3c8d8fd5f8",
   "metadata": {},
   "outputs": [],
   "source": [
    "## Setup loss function and optimizer \n",
    "loss_fn = nn.CrossEntropyLoss()\n",
    "optimizer = torch.optim.SGD(model.parameters(), lr = 0.01)"
   ]
  },
  {
   "cell_type": "code",
   "execution_count": 24,
   "id": "25451134-6fab-4494-92e0-6012ec1d4fa6",
   "metadata": {},
   "outputs": [],
   "source": [
    "## Time our modeling code (time our experiments)\n",
    "from timeit import default_timer as timer\n",
    "def print_train_time(start:float, end : float, device : torch.device = None):\n",
    "    total_time = end - start\n",
    "    print(f' Train time :{total_time:.3f}')\n",
    "    return total_time\n",
    "\n"
   ]
  },
  {
   "cell_type": "code",
   "execution_count": 25,
   "id": "f3d88e62-cf9c-42c2-af4b-5f5ccf2c0683",
   "metadata": {},
   "outputs": [
    {
     "name": "stdout",
     "output_type": "stream",
     "text": [
      " Train time :0.000\n"
     ]
    },
    {
     "data": {
      "text/plain": [
       "2.4003002181416377e-05"
      ]
     },
     "execution_count": 25,
     "metadata": {},
     "output_type": "execute_result"
    }
   ],
   "source": [
    "start_time = timer()\n",
    "end_time = timer()\n",
    "print_train_time(start=start_time, end=end_time, device='cpu')"
   ]
  },
  {
   "cell_type": "code",
   "execution_count": 26,
   "id": "ed7e0655-96c8-46a7-9ab8-aa06d272c2bd",
   "metadata": {},
   "outputs": [
    {
     "name": "stdout",
     "output_type": "stream",
     "text": [
      "loss :0.9096061225732167, test loss : 0.630021870136261, accuracy : 78.63418530351437\n",
      "loss :0.5573272641420365, test loss : 0.5449569225311279, accuracy : 81.13019169329074\n",
      "loss :0.5026630536079407, test loss : 0.5144971013069153, accuracy : 81.9988019169329\n",
      " Train time :29.421\n"
     ]
    },
    {
     "data": {
      "text/plain": [
       "29.42074559899993"
      ]
     },
     "execution_count": 26,
     "metadata": {},
     "output_type": "execute_result"
    }
   ],
   "source": [
    "torch.manual_seed(42)\n",
    "start_time = timer()\n",
    "epochs = 3\n",
    "for epochs in range(epochs):\n",
    "    train_loss = 0\n",
    "    for X, y in train_loader:\n",
    "        model.train()\n",
    "        y_pred = model(X)\n",
    "        loss = loss_fn(y_pred, y)\n",
    "        optimizer.zero_grad()\n",
    "        loss.backward()\n",
    "        optimizer.step()\n",
    "        train_loss += loss.item()\n",
    "    train_loss /= len(train_loader.dataset) / 32\n",
    "    model.eval()\n",
    "    with torch.inference_mode():\n",
    "        test_loss = 0\n",
    "        test_acc = 0\n",
    "        acc = 0\n",
    "        for X, y in test_loader:\n",
    "            test_pred = model(X)\n",
    "            test_loss += loss_fn(test_pred, y)\n",
    "            correct = torch.eq(y, test_pred.argmax(dim=1)).sum().item()\n",
    "            acc += (correct / len(test_pred)) * 100\n",
    "        test_loss /= len(test_loader.dataset) / 32\n",
    "        acc = acc / len(test_loader)\n",
    "    print(f'loss :{train_loss}, test loss : {test_loss}, accuracy : {acc}')\n",
    "end_time = timer()\n",
    "print_train_time(start=start_time, end=end_time, device='cpu')\n"
   ]
  },
  {
   "cell_type": "code",
   "execution_count": 27,
   "id": "e52fcbc9-ef0d-4221-a68b-b018b1760f65",
   "metadata": {},
   "outputs": [],
   "source": [
    "class FashionMNIST(nn.Module):\n",
    "    def __init__(self):\n",
    "        super().__init__()\n",
    "        self.layer_stack = nn.Sequential(\n",
    "             nn.Flatten(),\n",
    "             nn.Linear(784,10),\n",
    "            nn.ReLU(),\n",
    "             nn.Linear(10,len(train_set.classes)),\n",
    "            nn.ReLU()\n",
    "         )\n",
    "    def forward(self, x):\n",
    "\n",
    "        return self.layer_stack(x)"
   ]
  },
  {
   "cell_type": "code",
   "execution_count": 28,
   "id": "4feeb984-d233-4ec3-a4fd-cacc4e5835a6",
   "metadata": {},
   "outputs": [
    {
     "data": {
      "text/plain": [
       "FashionMNIST(\n",
       "  (layer_stack): Sequential(\n",
       "    (0): Flatten(start_dim=1, end_dim=-1)\n",
       "    (1): Linear(in_features=784, out_features=10, bias=True)\n",
       "    (2): ReLU()\n",
       "    (3): Linear(in_features=10, out_features=10, bias=True)\n",
       "    (4): ReLU()\n",
       "  )\n",
       ")"
      ]
     },
     "execution_count": 28,
     "metadata": {},
     "output_type": "execute_result"
    }
   ],
   "source": [
    "torch.manual_seed(42)\n",
    "model_1 = FashionMNIST()\n",
    "model_1"
   ]
  },
  {
   "cell_type": "code",
   "execution_count": 29,
   "id": "61d90ac9-209f-49cf-a3c5-7f78bf7aeda1",
   "metadata": {},
   "outputs": [],
   "source": [
    "loss_function = nn.CrossEntropyLoss()\n",
    "optimizer_1 = torch.optim.SGD(model_1.parameters(), lr = 0.01)"
   ]
  },
  {
   "cell_type": "code",
   "execution_count": 30,
   "id": "013a02f0-dd25-469d-bddd-769709913a3a",
   "metadata": {},
   "outputs": [
    {
     "name": "stdout",
     "output_type": "stream",
     "text": [
      "loss :1.4217857194582622, test loss : 1.123469351196289, acuracy :62.15055910543131\n",
      "loss :1.033588265577952, test loss : 1.0017895829200745, acuracy :64.47683706070288\n",
      "loss :0.9599610727945963, test loss : 0.9649250924110413, acuracy :65.40535143769968\n",
      " Train time :28.544\n"
     ]
    },
    {
     "data": {
      "text/plain": [
       "28.54351721800049"
      ]
     },
     "execution_count": 30,
     "metadata": {},
     "output_type": "execute_result"
    }
   ],
   "source": [
    "torch.manual_seed(42)\n",
    "start_time = timer()\n",
    "epochs = 3\n",
    "for epochs in range(epochs):\n",
    "    train_loss = 0\n",
    "    for X, y in train_loader:\n",
    "        model_1.train()\n",
    "        y_pred = model_1(X)\n",
    "        loss = loss_function(y_pred, y)\n",
    "        optimizer_1.zero_grad()\n",
    "        loss.backward()\n",
    "        optimizer_1.step()\n",
    "        train_loss += loss.item()\n",
    "    train_loss /= len(train_loader.dataset) / 32\n",
    "    model_1.eval()\n",
    "    with torch.inference_mode():\n",
    "        test_loss = 0\n",
    "        test_acc = 0\n",
    "        acc = 0\n",
    "        for X, y in test_loader:\n",
    "            test_pred = model_1(X)\n",
    "            test_loss += loss_function(test_pred, y).item()\n",
    "            correct = torch.eq(y, test_pred.argmax(dim=1)).sum().item()\n",
    "            acc += (correct / len(test_pred)) * 100\n",
    "        test_loss /= len(test_loader.dataset) / 32\n",
    "        acc = acc / len(test_loader)\n",
    "    print(f'loss :{train_loss}, test loss : {test_loss}, acuracy :{acc}')\n",
    "\n",
    "    \n",
    "end_time = timer()\n",
    "print_train_time(start=start_time, end=end_time, device='cpu')\n"
   ]
  },
  {
   "cell_type": "code",
   "execution_count": 31,
   "id": "00796e16-a9b2-46c2-aa48-6e7f1ba127de",
   "metadata": {},
   "outputs": [],
   "source": [
    "## CNN ==> Convolutional Neural Network  "
   ]
  },
  {
   "cell_type": "code",
   "execution_count": 32,
   "id": "b3a59242-ada1-4496-b685-448722bc6842",
   "metadata": {},
   "outputs": [],
   "source": [
    "class FashionMNIST_1(nn.Module):\n",
    "    def __init__(self, input_shape: int, hidden_units: int, output_shape: int):\n",
    "        super().__init__()\n",
    "        self.conv_block_1 = nn.Sequential(\n",
    "            nn.Conv2d(in_channels= input_shape,\n",
    "                     out_channels= hidden_units,\n",
    "                     kernel_size= 3,\n",
    "                     stride= 1,\n",
    "                     padding= 1),\n",
    "            nn.ReLU(),\n",
    "            nn.Conv2d(in_channels= hidden_units,\n",
    "                     out_channels= hidden_units,\n",
    "                     kernel_size= 3,\n",
    "                     stride= 1,\n",
    "                     padding= 1),\n",
    "            nn.ReLU(),\n",
    "            nn.MaxPool2d(kernel_size= 2)\n",
    "        )\n",
    "        self.conv_block_2 = nn.Sequential(\n",
    "            nn.Conv2d(in_channels= hidden_units,\n",
    "                     out_channels= hidden_units,\n",
    "                     kernel_size= 3,\n",
    "                     stride= 1,\n",
    "                     padding= 1),\n",
    "            nn.ReLU(),\n",
    "            nn.Conv2d(in_channels= hidden_units,\n",
    "                     out_channels= hidden_units,\n",
    "                     kernel_size= 3,\n",
    "                     stride= 1,\n",
    "                     padding= 1),\n",
    "            nn.ReLU(),\n",
    "            nn.MaxPool2d(kernel_size= 2)\n",
    "        )\n",
    "        self.classifier = nn.Sequential(\n",
    "            nn.Flatten(),\n",
    "            nn.Linear(in_features= hidden_units*7*7 ,\n",
    "                     out_features= output_shape)\n",
    "        )\n",
    "    def forward(self, x):\n",
    "        x = self.conv_block_1(x)\n",
    "        # print(x.shape)\n",
    "        x = self.conv_block_2(x)\n",
    "        # print(x.shape)\n",
    "        x = self.classifier(x)\n",
    "        return x\n",
    "\n",
    "# class FashionMNIST_1(nn.Module):\n",
    "#   \"\"\"\n",
    "#   Model architecture that replicates the TinyVGG\n",
    "#   model from CNN explainer website.\n",
    "#   \"\"\"\n",
    "#   def __init__(self, input_shape: int, hidden_units: int, output_shape: int):\n",
    "#     super().__init__()\n",
    "#     self.conv_block_1 = nn.Sequential(\n",
    "#         # Create a conv layer - https://pytorch.org/docs/stable/generated/torch.nn.Conv2d.html\n",
    "#         nn.Conv2d(in_channels=input_shape, \n",
    "#                   out_channels=hidden_units,\n",
    "#                   kernel_size=3,\n",
    "#                   stride=1,\n",
    "#                   padding=1), # values we can set ourselves in our NN's are called hyperparameters\n",
    "#         nn.ReLU(),\n",
    "#         nn.Conv2d(in_channels=hidden_units,\n",
    "#                   out_channels=hidden_units,\n",
    "#                   kernel_size=3,\n",
    "#                   stride=1,\n",
    "#                   padding=1),\n",
    "#         nn.ReLU(),\n",
    "#         nn.MaxPool2d(kernel_size=2)\n",
    "#     )\n",
    "#     self.conv_block_2 = nn.Sequential(\n",
    "#         nn.Conv2d(in_channels=hidden_units,\n",
    "#                   out_channels=hidden_units,\n",
    "#                   kernel_size=3,\n",
    "#                   stride=1,\n",
    "#                   padding=1),\n",
    "#         nn.ReLU(),\n",
    "#         nn.Conv2d(in_channels=hidden_units,\n",
    "#                   out_channels=hidden_units,\n",
    "#                   kernel_size=3,\n",
    "#                   stride=1,\n",
    "#                   padding=1),\n",
    "#         nn.ReLU(),\n",
    "#         nn.MaxPool2d(kernel_size=2)\n",
    "#     )\n",
    "#     self.classifier = nn.Sequential(\n",
    "#         nn.Flatten(),\n",
    "#         nn.Linear(in_features=hidden_units*7*7, # there's a trick to calculating this...\n",
    "#                   out_features=output_shape)\n",
    "#     )\n",
    "\n",
    "#   def forward(self, x):\n",
    "#     x = self.conv_block_1(x)\n",
    "#     # print(f\"Output shape of conv_block_1: {x.shape}\")\n",
    "#     x = self.conv_block_2(x) \n",
    "#     # print(f\"Output shape of conv_block_2: {x.shape}\")\n",
    "#     x = self.classifier(x)\n",
    "#     # print(f\"Output shape of classifier: {x.shape}\")\n",
    "#     return x"
   ]
  },
  {
   "cell_type": "code",
   "execution_count": 33,
   "id": "688eb299-4d0a-455c-ad95-ba613abf2a80",
   "metadata": {},
   "outputs": [
    {
     "data": {
      "text/plain": [
       "FashionMNIST_1(\n",
       "  (conv_block_1): Sequential(\n",
       "    (0): Conv2d(1, 10, kernel_size=(3, 3), stride=(1, 1), padding=(1, 1))\n",
       "    (1): ReLU()\n",
       "    (2): Conv2d(10, 10, kernel_size=(3, 3), stride=(1, 1), padding=(1, 1))\n",
       "    (3): ReLU()\n",
       "    (4): MaxPool2d(kernel_size=2, stride=2, padding=0, dilation=1, ceil_mode=False)\n",
       "  )\n",
       "  (conv_block_2): Sequential(\n",
       "    (0): Conv2d(10, 10, kernel_size=(3, 3), stride=(1, 1), padding=(1, 1))\n",
       "    (1): ReLU()\n",
       "    (2): Conv2d(10, 10, kernel_size=(3, 3), stride=(1, 1), padding=(1, 1))\n",
       "    (3): ReLU()\n",
       "    (4): MaxPool2d(kernel_size=2, stride=2, padding=0, dilation=1, ceil_mode=False)\n",
       "  )\n",
       "  (classifier): Sequential(\n",
       "    (0): Flatten(start_dim=1, end_dim=-1)\n",
       "    (1): Linear(in_features=490, out_features=10, bias=True)\n",
       "  )\n",
       ")"
      ]
     },
     "execution_count": 33,
     "metadata": {},
     "output_type": "execute_result"
    }
   ],
   "source": [
    "torch.manual_seed(42)\n",
    "model_2 = FashionMNIST_1(input_shape= 1,\n",
    "                        hidden_units= 10,\n",
    "                        output_shape= 10)\n",
    "model_2"
   ]
  },
  {
   "cell_type": "code",
   "execution_count": 34,
   "id": "ad403825-048e-4d4b-9dce-0787018d4da2",
   "metadata": {},
   "outputs": [],
   "source": [
    "loss_f = nn.CrossEntropyLoss()\n",
    "optimizer_c = torch.optim.SGD(params= model_2.parameters(), lr = 0.1)"
   ]
  },
  {
   "cell_type": "code",
   "execution_count": 35,
   "id": "f6bd0499-f2b4-496d-af3b-fdcccf118151",
   "metadata": {},
   "outputs": [
    {
     "name": "stdout",
     "output_type": "stream",
     "text": [
      "loss :0.5805472044189771, test loss : 0.3983541894197464, acuracy :85.21365814696486\n",
      "loss :0.3559067510803541, test loss : 0.37313891242742536, acuracy :85.77276357827476\n",
      "loss :0.31586879164973897, test loss : 0.32105596425533295, acuracy :88.29872204472844\n",
      " Train time :79.134\n"
     ]
    },
    {
     "data": {
      "text/plain": [
       "79.13372239700038"
      ]
     },
     "execution_count": 35,
     "metadata": {},
     "output_type": "execute_result"
    }
   ],
   "source": [
    "start_time = timer()\n",
    "epochs = 3\n",
    "for epochs in range(epochs):\n",
    "    train_loss = 0\n",
    "    for X, y in train_loader:\n",
    "        model_2.train()\n",
    "        y_pred = model_2(X)\n",
    "        loss = loss_f(y_pred, y)\n",
    "        optimizer_c.zero_grad()\n",
    "        loss.backward()\n",
    "        optimizer_c.step()\n",
    "        train_loss += loss.item()\n",
    "    train_loss /= len(train_loader.dataset) / 32\n",
    "    model_2.eval()\n",
    "    with torch.inference_mode():\n",
    "        test_loss = 0\n",
    "        test_acc = 0\n",
    "        acc = 0\n",
    "        for X, y in test_loader:\n",
    "            test_pred = model_2(X)\n",
    "            test_loss += loss_f(test_pred, y).item()\n",
    "            correct = torch.eq(y, test_pred.argmax(dim=1)).sum().item()\n",
    "            acc += (correct / len(test_pred)) * 100\n",
    "        test_loss /= len(test_loader.dataset) / 32\n",
    "        acc = acc / len(test_loader)\n",
    "    print(f'loss :{train_loss}, test loss : {test_loss}, acuracy :{acc}')\n",
    "end_time = timer()\n",
    "print_train_time(start=start_time, end=end_time, device='cpu')"
   ]
  }
 ],
 "metadata": {
  "kernelspec": {
   "display_name": "Python (task1)",
   "language": "python",
   "name": "task1"
  },
  "language_info": {
   "codemirror_mode": {
    "name": "ipython",
    "version": 3
   },
   "file_extension": ".py",
   "mimetype": "text/x-python",
   "name": "python",
   "nbconvert_exporter": "python",
   "pygments_lexer": "ipython3",
   "version": "3.8.10"
  }
 },
 "nbformat": 4,
 "nbformat_minor": 5
}
